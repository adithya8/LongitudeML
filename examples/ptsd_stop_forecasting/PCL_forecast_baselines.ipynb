{
 "cells": [
  {
   "cell_type": "code",
   "execution_count": 1,
   "metadata": {},
   "outputs": [
    {
     "name": "stdout",
     "output_type": "stream",
     "text": [
      "Adding directory to path: /home/avirinchipur/research/LongitudeML\n"
     ]
    }
   ],
   "source": [
    "from utils import add_to_path\n",
    "add_to_path(\"/home/avirinchipur/research/LongitudeML/examples/ptsd_stop_forecasting/PCL_forecast_baselines.ipynb\")\n",
    "\n",
    "from datasets import load_from_disk\n",
    "from src import get_datasetDict\n",
    "\n",
    "import pandas as pd\n",
    "import numpy as np\n",
    "from scipy.stats import pearsonr, hmean\n",
    "from pprint import pprint\n",
    "import matplotlib.pyplot as plt\n",
    "import pickle\n",
    "import torch\n",
    "from eval import within_seq_metric"
   ]
  },
  {
   "cell_type": "code",
   "execution_count": 2,
   "metadata": {},
   "outputs": [],
   "source": [
    "def smape(y_true, y_pred):\n",
    "    y_true, y_pred = np.array(y_true).reshape(-1, ), np.array(y_pred).reshape(-1, )\n",
    "    return 2*np.mean(np.abs(y_true - y_pred) / (np.abs(y_true) + np.abs(y_pred)))"
   ]
  },
  {
   "cell_type": "code",
   "execution_count": 3,
   "metadata": {},
   "outputs": [],
   "source": [
    "data_dir = \"/cronus_data/avirinchipur/ptsd_stop/forecasting/datasets/roberta_base_L11_rpca64_PCL_1_days_ahead_max90days_v3_40combined_5fold\"\n",
    "data = load_from_disk(data_dir)"
   ]
  },
  {
   "cell_type": "code",
   "execution_count": 5,
   "metadata": {},
   "outputs": [
    {
     "data": {
      "application/vnd.jupyter.widget-view+json": {
       "model_id": "9f32d698dca94b12be2b79c377e95a43",
       "version_major": 2,
       "version_minor": 0
      },
      "text/plain": [
       "Filter:   0%|          | 0/118 [00:00<?, ? examples/s]"
      ]
     },
     "metadata": {},
     "output_type": "display_data"
    },
    {
     "data": {
      "application/vnd.jupyter.widget-view+json": {
       "model_id": "342849cbdc9c4c0286df90a569af608d",
       "version_major": 2,
       "version_minor": 0
      },
      "text/plain": [
       "Filter:   0%|          | 0/118 [00:00<?, ? examples/s]"
      ]
     },
     "metadata": {},
     "output_type": "display_data"
    }
   ],
   "source": [
    "datasetDict = get_datasetDict(train_data=data, val_folds=[0])"
   ]
  },
  {
   "cell_type": "code",
   "execution_count": 5,
   "metadata": {},
   "outputs": [
    {
     "data": {
      "text/plain": [
       "DatasetDict({\n",
       "    train: Dataset({\n",
       "        features: ['seq_id', 'embeddings', 'num_tokens', 'time_ids', 'infill_lang_mask', 'outcomes', 'infill_outcomes_mask'],\n",
       "        num_rows: 96\n",
       "    })\n",
       "    val: Dataset({\n",
       "        features: ['seq_id', 'embeddings', 'num_tokens', 'time_ids', 'infill_lang_mask', 'outcomes', 'infill_outcomes_mask'],\n",
       "        num_rows: 22\n",
       "    })\n",
       "})"
      ]
     },
     "execution_count": 5,
     "metadata": {},
     "output_type": "execute_result"
    }
   ],
   "source": [
    "datasetDict"
   ]
  },
  {
   "cell_type": "markdown",
   "metadata": {},
   "source": [
    "## Baselines for 1 day ahead prediction\n",
    "1. Use the last day's PCL score to predict the next day's PCL score\n",
    "2. Use the avg of the last three days' PCL score to predict the next day's PCL score\n",
    "3. Model previous day's language embeddings to predict the next day's PCL score\n",
    "4. Model last three days' language embeddings to predict the next day's PCL score"
   ]
  },
  {
   "cell_type": "code",
   "execution_count": 5,
   "metadata": {},
   "outputs": [
    {
     "data": {
      "text/plain": [
       "\"python dlatkInterface.py -d ptsd_stop -t whisper_transcripts_v3 -c user_day_id --group_freq_thresh 10 \\n                            -f 'feat$roberta_ba_meL11con$whisper_transcripts_v3$user_day_id' \\n                            --outcome_table outcomes_v3_PCL_forecast --outcomes PCL_1_day_ahead \\n                            --nfold_regression --folds 10 --model ridgehighcv --controls today_PCL\\n\""
      ]
     },
     "execution_count": 5,
     "metadata": {},
     "output_type": "execute_result"
    }
   ],
   "source": [
    "\"\"\"python dlatkInterface.py -d ptsd_stop -t whisper_transcripts_v3 -c user_day_id --group_freq_thresh 10 \n",
    "                            -f 'feat$roberta_ba_meL11con$whisper_transcripts_v3$user_day_id' \n",
    "                            --outcome_table outcomes_v3_PCL_forecast --outcomes PCL_1_day_ahead \n",
    "                            --nfold_regression --folds 10 --model ridgehighcv --controls today_PCL\n",
    "\"\"\"\n",
    "# TODO fix the stratification"
   ]
  },
  {
   "cell_type": "code",
   "execution_count": 6,
   "metadata": {},
   "outputs": [
    {
     "data": {
      "text/plain": [
       "DatasetDict({\n",
       "    train: Dataset({\n",
       "        features: ['seq_id', 'embeddings', 'num_tokens', 'time_ids', 'infill_lang_mask', 'outcomes', 'infill_outcomes_mask'],\n",
       "        num_rows: 0\n",
       "    })\n",
       "    val: Dataset({\n",
       "        features: ['seq_id', 'embeddings', 'num_tokens', 'time_ids', 'infill_lang_mask', 'outcomes', 'infill_outcomes_mask'],\n",
       "        num_rows: 118\n",
       "    })\n",
       "})"
      ]
     },
     "execution_count": 6,
     "metadata": {},
     "output_type": "execute_result"
    }
   ],
   "source": [
    "datasetDict"
   ]
  },
  {
   "cell_type": "code",
   "execution_count": 7,
   "metadata": {},
   "outputs": [
    {
     "data": {
      "text/html": [
       "<div>\n",
       "<style scoped>\n",
       "    .dataframe tbody tr th:only-of-type {\n",
       "        vertical-align: middle;\n",
       "    }\n",
       "\n",
       "    .dataframe tbody tr th {\n",
       "        vertical-align: top;\n",
       "    }\n",
       "\n",
       "    .dataframe thead th {\n",
       "        text-align: right;\n",
       "    }\n",
       "</style>\n",
       "<table border=\"1\" class=\"dataframe\">\n",
       "  <thead>\n",
       "    <tr style=\"text-align: right;\">\n",
       "      <th></th>\n",
       "      <th>seq_id</th>\n",
       "      <th>embeddings</th>\n",
       "      <th>num_tokens</th>\n",
       "      <th>time_ids</th>\n",
       "      <th>infill_lang_mask</th>\n",
       "      <th>outcomes</th>\n",
       "      <th>infill_outcomes_mask</th>\n",
       "    </tr>\n",
       "  </thead>\n",
       "  <tbody>\n",
       "    <tr>\n",
       "      <th>0</th>\n",
       "      <td>3612</td>\n",
       "      <td>[[7.510826892832634, -0.4046889472774059, 1.10...</td>\n",
       "      <td>[444.0, 634.0, nan, 394.0, nan, 527.0, nan, 31...</td>\n",
       "      <td>[0, 1, 2, 3, 4, 5, 6, 7, 8, 9, 10, 11, 12, 13,...</td>\n",
       "      <td>[0, 0, 1, 0, 1, 0, 1, 0, 1, 1, 0, 0, 1, 0, 0, ...</td>\n",
       "      <td>[[1.0], [0.0], [0.0], [0.0], [0.0], [0.0], [0....</td>\n",
       "      <td>[[1], [0], [0], [0], [0], [0], [0], [0], [0], ...</td>\n",
       "    </tr>\n",
       "    <tr>\n",
       "      <th>1</th>\n",
       "      <td>1586</td>\n",
       "      <td>[[-5.946556024017722, -1.3106577150888945, 0.3...</td>\n",
       "      <td>[1224.0, 699.0, nan, 822.0, 334.0, 598.0, 842....</td>\n",
       "      <td>[0, 1, 2, 3, 4, 5, 6, 7, 8, 9, 10, 11, 12, 13,...</td>\n",
       "      <td>[0, 0, 1, 0, 0, 0, 0, 0, 0, 0, 1, 0, 0, 0, 0, ...</td>\n",
       "      <td>[[1.0], [0.0], [0.0], [1.0], [1.0], [1.0], [1....</td>\n",
       "      <td>[[1], [0], [0], [1], [1], [1], [1], [1], [1], ...</td>\n",
       "    </tr>\n",
       "    <tr>\n",
       "      <th>2</th>\n",
       "      <td>2204</td>\n",
       "      <td>[[0.0, 0.0, 0.0, 0.0, 0.0, 0.0, 0.0, 0.0, 0.0,...</td>\n",
       "      <td>[nan, nan, nan, nan, 405.0, 872.0, 383.0, nan,...</td>\n",
       "      <td>[1, 2, 3, 4, 5, 6, 7, 8, 9, 10, 11, 12, 13, 14...</td>\n",
       "      <td>[1, 1, 1, 1, 0, 0, 0, 1, 0, 0, 0, 0, 0, 0, 0, ...</td>\n",
       "      <td>[[1.0], [1.125], [1.5], [1.0], [1.0], [1.0], [...</td>\n",
       "      <td>[[1], [1], [1], [1], [1], [1], [0], [0], [1], ...</td>\n",
       "    </tr>\n",
       "    <tr>\n",
       "      <th>3</th>\n",
       "      <td>4142</td>\n",
       "      <td>[[-9.386885372025203, 12.172111336601672, 3.21...</td>\n",
       "      <td>[474.0, 243.0, 365.0, 454.0, 354.0, 373.0, 407...</td>\n",
       "      <td>[1, 2, 3, 4, 5, 6, 7, 8, 9, 10, 11, 12, 13, 14...</td>\n",
       "      <td>[0, 0, 0, 0, 0, 0, 0, 0, 0, 0, 0, 0, 0, 0, 0, ...</td>\n",
       "      <td>[[1.0], [1.375], [1.0], [1.0], [1.375], [1.0],...</td>\n",
       "      <td>[[1], [1], [1], [1], [1], [1], [1], [1], [1], ...</td>\n",
       "    </tr>\n",
       "    <tr>\n",
       "      <th>4</th>\n",
       "      <td>3763</td>\n",
       "      <td>[[0.0, 0.0, 0.0, 0.0, 0.0, 0.0, 0.0, 0.0, 0.0,...</td>\n",
       "      <td>[nan, 557.0, 485.0, 730.0, 502.0, 44.0, nan, 8...</td>\n",
       "      <td>[0, 1, 2, 3, 4, 5, 6, 7, 8, 9, 10, 11, 12, 13,...</td>\n",
       "      <td>[1, 0, 0, 0, 0, 0, 1, 0, 1, 0, 0, 0, 1, 0, 0, ...</td>\n",
       "      <td>[[1.125], [1.0], [1.125], [1.0], [1.0], [0.0],...</td>\n",
       "      <td>[[1], [1], [1], [1], [1], [0], [0], [0], [0], ...</td>\n",
       "    </tr>\n",
       "    <tr>\n",
       "      <th>...</th>\n",
       "      <td>...</td>\n",
       "      <td>...</td>\n",
       "      <td>...</td>\n",
       "      <td>...</td>\n",
       "      <td>...</td>\n",
       "      <td>...</td>\n",
       "      <td>...</td>\n",
       "    </tr>\n",
       "    <tr>\n",
       "      <th>113</th>\n",
       "      <td>3081</td>\n",
       "      <td>[[-11.513912549417848, 7.582040320391339, 5.48...</td>\n",
       "      <td>[345.0, 1374.0, 423.0, 761.0, 517.0, 649.0, na...</td>\n",
       "      <td>[2, 3, 4, 5, 6, 7, 8, 9, 10, 11, 12, 13, 14, 1...</td>\n",
       "      <td>[0, 0, 0, 0, 0, 0, 1, 0, 0, 0, 0, 0, 0, 0, 0, ...</td>\n",
       "      <td>[[3.25], [3.5], [4.0], [3.875], [2.25], [0.0],...</td>\n",
       "      <td>[[1], [1], [1], [1], [1], [0], [0], [1], [1], ...</td>\n",
       "    </tr>\n",
       "    <tr>\n",
       "      <th>114</th>\n",
       "      <td>2780</td>\n",
       "      <td>[[-5.697550121383508, 2.620948222966577, -1.05...</td>\n",
       "      <td>[846.0, 668.0, 477.0, 738.0, 847.0, 566.0, 577...</td>\n",
       "      <td>[0, 1, 2, 3, 4, 5, 6, 7, 8, 9, 10, 11, 12, 13,...</td>\n",
       "      <td>[0, 0, 0, 0, 0, 0, 0, 0, 0, 0, 0, 0, 0, 0, 0, ...</td>\n",
       "      <td>[[4.875], [3.75], [3.875], [4.625], [4.5], [3....</td>\n",
       "      <td>[[1], [1], [1], [1], [1], [1], [1], [1], [1], ...</td>\n",
       "    </tr>\n",
       "    <tr>\n",
       "      <th>115</th>\n",
       "      <td>3054</td>\n",
       "      <td>[[-9.549370388153688, 9.261649663906258, -4.58...</td>\n",
       "      <td>[828.0, 602.0, 1052.0, nan, 611.0, 815.0, 581....</td>\n",
       "      <td>[1, 2, 3, 4, 5, 6, 7, 8, 9, 10, 11, 12, 13, 14...</td>\n",
       "      <td>[0, 0, 0, 1, 0, 0, 0, 0, 0, 0, 0, 0, 0, 0, 0, ...</td>\n",
       "      <td>[[3.125], [2.375], [4.75], [4.125], [4.625], [...</td>\n",
       "      <td>[[1], [1], [1], [1], [1], [1], [1], [1], [1], ...</td>\n",
       "    </tr>\n",
       "    <tr>\n",
       "      <th>116</th>\n",
       "      <td>2825</td>\n",
       "      <td>[[18.29092881053123, 10.531276636338832, 0.509...</td>\n",
       "      <td>[615.0, 742.0, nan, nan, nan, 511.0, nan, nan,...</td>\n",
       "      <td>[1, 2, 3, 4, 5, 6, 7, 8, 9, 10, 11, 12, 13, 14...</td>\n",
       "      <td>[0, 0, 1, 1, 1, 0, 1, 1, 1, 1, 0, 1, 1, 0, 0, ...</td>\n",
       "      <td>[[4.125], [0.0], [0.0], [0.0], [0.0], [4.5], [...</td>\n",
       "      <td>[[1], [0], [0], [0], [0], [1], [1], [0], [0], ...</td>\n",
       "    </tr>\n",
       "    <tr>\n",
       "      <th>117</th>\n",
       "      <td>2901</td>\n",
       "      <td>[[-10.827072015147746, 8.17447722570253, -3.56...</td>\n",
       "      <td>[536.0, 489.0, 486.0, 132.0, 494.0, nan, 310.0...</td>\n",
       "      <td>[0, 1, 2, 3, 4, 5, 6, 7, 8, 9, 10, 11, 12, 13,...</td>\n",
       "      <td>[0, 0, 0, 0, 0, 1, 0, 0, 0, 0, 0, 0, 1, 0, 0, ...</td>\n",
       "      <td>[[5.0], [5.0], [4.875], [5.0], [5.0], [2.625],...</td>\n",
       "      <td>[[1], [1], [1], [1], [1], [1], [1], [1], [1], ...</td>\n",
       "    </tr>\n",
       "  </tbody>\n",
       "</table>\n",
       "<p>118 rows × 7 columns</p>\n",
       "</div>"
      ],
      "text/plain": [
       "     seq_id                                         embeddings  \\\n",
       "0      3612  [[7.510826892832634, -0.4046889472774059, 1.10...   \n",
       "1      1586  [[-5.946556024017722, -1.3106577150888945, 0.3...   \n",
       "2      2204  [[0.0, 0.0, 0.0, 0.0, 0.0, 0.0, 0.0, 0.0, 0.0,...   \n",
       "3      4142  [[-9.386885372025203, 12.172111336601672, 3.21...   \n",
       "4      3763  [[0.0, 0.0, 0.0, 0.0, 0.0, 0.0, 0.0, 0.0, 0.0,...   \n",
       "..      ...                                                ...   \n",
       "113    3081  [[-11.513912549417848, 7.582040320391339, 5.48...   \n",
       "114    2780  [[-5.697550121383508, 2.620948222966577, -1.05...   \n",
       "115    3054  [[-9.549370388153688, 9.261649663906258, -4.58...   \n",
       "116    2825  [[18.29092881053123, 10.531276636338832, 0.509...   \n",
       "117    2901  [[-10.827072015147746, 8.17447722570253, -3.56...   \n",
       "\n",
       "                                            num_tokens  \\\n",
       "0    [444.0, 634.0, nan, 394.0, nan, 527.0, nan, 31...   \n",
       "1    [1224.0, 699.0, nan, 822.0, 334.0, 598.0, 842....   \n",
       "2    [nan, nan, nan, nan, 405.0, 872.0, 383.0, nan,...   \n",
       "3    [474.0, 243.0, 365.0, 454.0, 354.0, 373.0, 407...   \n",
       "4    [nan, 557.0, 485.0, 730.0, 502.0, 44.0, nan, 8...   \n",
       "..                                                 ...   \n",
       "113  [345.0, 1374.0, 423.0, 761.0, 517.0, 649.0, na...   \n",
       "114  [846.0, 668.0, 477.0, 738.0, 847.0, 566.0, 577...   \n",
       "115  [828.0, 602.0, 1052.0, nan, 611.0, 815.0, 581....   \n",
       "116  [615.0, 742.0, nan, nan, nan, 511.0, nan, nan,...   \n",
       "117  [536.0, 489.0, 486.0, 132.0, 494.0, nan, 310.0...   \n",
       "\n",
       "                                              time_ids  \\\n",
       "0    [0, 1, 2, 3, 4, 5, 6, 7, 8, 9, 10, 11, 12, 13,...   \n",
       "1    [0, 1, 2, 3, 4, 5, 6, 7, 8, 9, 10, 11, 12, 13,...   \n",
       "2    [1, 2, 3, 4, 5, 6, 7, 8, 9, 10, 11, 12, 13, 14...   \n",
       "3    [1, 2, 3, 4, 5, 6, 7, 8, 9, 10, 11, 12, 13, 14...   \n",
       "4    [0, 1, 2, 3, 4, 5, 6, 7, 8, 9, 10, 11, 12, 13,...   \n",
       "..                                                 ...   \n",
       "113  [2, 3, 4, 5, 6, 7, 8, 9, 10, 11, 12, 13, 14, 1...   \n",
       "114  [0, 1, 2, 3, 4, 5, 6, 7, 8, 9, 10, 11, 12, 13,...   \n",
       "115  [1, 2, 3, 4, 5, 6, 7, 8, 9, 10, 11, 12, 13, 14...   \n",
       "116  [1, 2, 3, 4, 5, 6, 7, 8, 9, 10, 11, 12, 13, 14...   \n",
       "117  [0, 1, 2, 3, 4, 5, 6, 7, 8, 9, 10, 11, 12, 13,...   \n",
       "\n",
       "                                      infill_lang_mask  \\\n",
       "0    [0, 0, 1, 0, 1, 0, 1, 0, 1, 1, 0, 0, 1, 0, 0, ...   \n",
       "1    [0, 0, 1, 0, 0, 0, 0, 0, 0, 0, 1, 0, 0, 0, 0, ...   \n",
       "2    [1, 1, 1, 1, 0, 0, 0, 1, 0, 0, 0, 0, 0, 0, 0, ...   \n",
       "3    [0, 0, 0, 0, 0, 0, 0, 0, 0, 0, 0, 0, 0, 0, 0, ...   \n",
       "4    [1, 0, 0, 0, 0, 0, 1, 0, 1, 0, 0, 0, 1, 0, 0, ...   \n",
       "..                                                 ...   \n",
       "113  [0, 0, 0, 0, 0, 0, 1, 0, 0, 0, 0, 0, 0, 0, 0, ...   \n",
       "114  [0, 0, 0, 0, 0, 0, 0, 0, 0, 0, 0, 0, 0, 0, 0, ...   \n",
       "115  [0, 0, 0, 1, 0, 0, 0, 0, 0, 0, 0, 0, 0, 0, 0, ...   \n",
       "116  [0, 0, 1, 1, 1, 0, 1, 1, 1, 1, 0, 1, 1, 0, 0, ...   \n",
       "117  [0, 0, 0, 0, 0, 1, 0, 0, 0, 0, 0, 0, 1, 0, 0, ...   \n",
       "\n",
       "                                              outcomes  \\\n",
       "0    [[1.0], [0.0], [0.0], [0.0], [0.0], [0.0], [0....   \n",
       "1    [[1.0], [0.0], [0.0], [1.0], [1.0], [1.0], [1....   \n",
       "2    [[1.0], [1.125], [1.5], [1.0], [1.0], [1.0], [...   \n",
       "3    [[1.0], [1.375], [1.0], [1.0], [1.375], [1.0],...   \n",
       "4    [[1.125], [1.0], [1.125], [1.0], [1.0], [0.0],...   \n",
       "..                                                 ...   \n",
       "113  [[3.25], [3.5], [4.0], [3.875], [2.25], [0.0],...   \n",
       "114  [[4.875], [3.75], [3.875], [4.625], [4.5], [3....   \n",
       "115  [[3.125], [2.375], [4.75], [4.125], [4.625], [...   \n",
       "116  [[4.125], [0.0], [0.0], [0.0], [0.0], [4.5], [...   \n",
       "117  [[5.0], [5.0], [4.875], [5.0], [5.0], [2.625],...   \n",
       "\n",
       "                                  infill_outcomes_mask  \n",
       "0    [[1], [0], [0], [0], [0], [0], [0], [0], [0], ...  \n",
       "1    [[1], [0], [0], [1], [1], [1], [1], [1], [1], ...  \n",
       "2    [[1], [1], [1], [1], [1], [1], [0], [0], [1], ...  \n",
       "3    [[1], [1], [1], [1], [1], [1], [1], [1], [1], ...  \n",
       "4    [[1], [1], [1], [1], [1], [0], [0], [0], [0], ...  \n",
       "..                                                 ...  \n",
       "113  [[1], [1], [1], [1], [1], [0], [0], [1], [1], ...  \n",
       "114  [[1], [1], [1], [1], [1], [1], [1], [1], [1], ...  \n",
       "115  [[1], [1], [1], [1], [1], [1], [1], [1], [1], ...  \n",
       "116  [[1], [0], [0], [0], [0], [1], [1], [0], [0], ...  \n",
       "117  [[1], [1], [1], [1], [1], [1], [1], [1], [1], ...  \n",
       "\n",
       "[118 rows x 7 columns]"
      ]
     },
     "execution_count": 7,
     "metadata": {},
     "output_type": "execute_result"
    }
   ],
   "source": [
    "val_data = datasetDict['val']\n",
    "val_df = val_data.to_pandas()\n",
    "val_df"
   ]
  },
  {
   "cell_type": "code",
   "execution_count": 8,
   "metadata": {},
   "outputs": [],
   "source": [
    "def get_outcomes_timeseries(time_ids:list, outcomes:list, outcomes_mask:list):\n",
    "    \"\"\"\n",
    "        Function that turns the series of outcomes into a time series df\n",
    "    \"\"\"\n",
    "    time_ids = np.array(time_ids).reshape(-1, 1)\n",
    "    outcomes = [outcome[0] for outcome in outcomes]\n",
    "    outcomes = np.array(outcomes).reshape(-1, 1)\n",
    "    outcomes_mask = np.array(outcomes_mask).reshape(-1, 1)\n",
    "    \n",
    "    # replace the positions with outcomes_mask == 0 with nan in the outcomes\n",
    "    outcomes = np.where(outcomes_mask == 0, np.nan, outcomes)\n",
    "    \n",
    "    df = pd.DataFrame(np.hstack([time_ids, outcomes]), columns=['time_id', 'outcome'])\n",
    "    \n",
    "    # add one to time_id since the outcomes are setup for day ahead forecasting\n",
    "    df['time_id'] = (df['time_id'] + 1).astype(int)\n",
    "    \n",
    "    # Assert that time_id between its min and max values is a continuous sequence\n",
    "    assert set(df['time_id']) == set(range(df['time_id'].min(), df['time_id'].max() + 1)), \"Time_id is not a continuous sequence\"\n",
    "    \n",
    "    return df\n",
    "\n",
    "\n",
    "def get_ts_shifted_outcomes(df:pd.DataFrame, shifts:list=[-1]):\n",
    "    \"\"\"\n",
    "        Modifies the dataframe to have time shifted outcomes.\n",
    "    \"\"\"\n",
    "    \n",
    "    for shift in shifts:\n",
    "        df[f'outcome_shift_{shift}'] = df['outcome'].shift(shift)\n",
    "    return df\n",
    "\n",
    "\n",
    "outcomes_ts_df = get_outcomes_timeseries(val_df.iloc[0]['time_ids'], val_df.iloc[0]['outcomes'], val_df.iloc[0]['infill_outcomes_mask'])\n",
    "outcomes_ts_df_prev1 = get_ts_shifted_outcomes(outcomes_ts_df.copy(), shifts=[1])\n",
    "outcomes_ts_df_prev1 = outcomes_ts_df_prev1.rename(columns={'outcome_shift_1': 'prev1_outcome'})\n",
    "outcomes_ts_df_prev3 = get_ts_shifted_outcomes(outcomes_ts_df.copy(), shifts=[1, 2, 3])\n",
    "outcomes_ts_df_prev3 = outcomes_ts_df_prev3.rename(columns={'outcome_shift_1': 'prev1_outcome', 'outcome_shift_2': 'prev2_outcome', 'outcome_shift_3': 'prev3_outcome'})"
   ]
  },
  {
   "cell_type": "code",
   "execution_count": 9,
   "metadata": {},
   "outputs": [
    {
     "name": "stderr",
     "output_type": "stream",
     "text": [
      "/tmp/ipykernel_2765238/3243239086.py:16: SettingWithCopyWarning: \n",
      "A value is trying to be set on a copy of a slice from a DataFrame.\n",
      "Try using .loc[row_indexer,col_indexer] = value instead\n",
      "\n",
      "See the caveats in the documentation: https://pandas.pydata.org/pandas-docs/stable/user_guide/indexing.html#returning-a-view-versus-a-copy\n",
      "  temp_df['prev3_avg'] = temp_df[['prev1_outcome', 'prev2_outcome', 'prev3_outcome']].apply(lambda x: np.nanmean(x), axis=1)\n",
      "/tmp/ipykernel_2765238/3243239086.py:16: SettingWithCopyWarning: \n",
      "A value is trying to be set on a copy of a slice from a DataFrame.\n",
      "Try using .loc[row_indexer,col_indexer] = value instead\n",
      "\n",
      "See the caveats in the documentation: https://pandas.pydata.org/pandas-docs/stable/user_guide/indexing.html#returning-a-view-versus-a-copy\n",
      "  temp_df['prev3_avg'] = temp_df[['prev1_outcome', 'prev2_outcome', 'prev3_outcome']].apply(lambda x: np.nanmean(x), axis=1)\n",
      "/tmp/ipykernel_2765238/3243239086.py:16: SettingWithCopyWarning: \n",
      "A value is trying to be set on a copy of a slice from a DataFrame.\n",
      "Try using .loc[row_indexer,col_indexer] = value instead\n",
      "\n",
      "See the caveats in the documentation: https://pandas.pydata.org/pandas-docs/stable/user_guide/indexing.html#returning-a-view-versus-a-copy\n",
      "  temp_df['prev3_avg'] = temp_df[['prev1_outcome', 'prev2_outcome', 'prev3_outcome']].apply(lambda x: np.nanmean(x), axis=1)\n",
      "/tmp/ipykernel_2765238/3243239086.py:16: SettingWithCopyWarning: \n",
      "A value is trying to be set on a copy of a slice from a DataFrame.\n",
      "Try using .loc[row_indexer,col_indexer] = value instead\n",
      "\n",
      "See the caveats in the documentation: https://pandas.pydata.org/pandas-docs/stable/user_guide/indexing.html#returning-a-view-versus-a-copy\n",
      "  temp_df['prev3_avg'] = temp_df[['prev1_outcome', 'prev2_outcome', 'prev3_outcome']].apply(lambda x: np.nanmean(x), axis=1)\n",
      "/tmp/ipykernel_2765238/3243239086.py:16: SettingWithCopyWarning: \n",
      "A value is trying to be set on a copy of a slice from a DataFrame.\n",
      "Try using .loc[row_indexer,col_indexer] = value instead\n",
      "\n",
      "See the caveats in the documentation: https://pandas.pydata.org/pandas-docs/stable/user_guide/indexing.html#returning-a-view-versus-a-copy\n",
      "  temp_df['prev3_avg'] = temp_df[['prev1_outcome', 'prev2_outcome', 'prev3_outcome']].apply(lambda x: np.nanmean(x), axis=1)\n",
      "/tmp/ipykernel_2765238/3243239086.py:16: SettingWithCopyWarning: \n",
      "A value is trying to be set on a copy of a slice from a DataFrame.\n",
      "Try using .loc[row_indexer,col_indexer] = value instead\n",
      "\n",
      "See the caveats in the documentation: https://pandas.pydata.org/pandas-docs/stable/user_guide/indexing.html#returning-a-view-versus-a-copy\n",
      "  temp_df['prev3_avg'] = temp_df[['prev1_outcome', 'prev2_outcome', 'prev3_outcome']].apply(lambda x: np.nanmean(x), axis=1)\n",
      "/tmp/ipykernel_2765238/3243239086.py:16: SettingWithCopyWarning: \n",
      "A value is trying to be set on a copy of a slice from a DataFrame.\n",
      "Try using .loc[row_indexer,col_indexer] = value instead\n",
      "\n",
      "See the caveats in the documentation: https://pandas.pydata.org/pandas-docs/stable/user_guide/indexing.html#returning-a-view-versus-a-copy\n",
      "  temp_df['prev3_avg'] = temp_df[['prev1_outcome', 'prev2_outcome', 'prev3_outcome']].apply(lambda x: np.nanmean(x), axis=1)\n",
      "/tmp/ipykernel_2765238/3243239086.py:16: SettingWithCopyWarning: \n",
      "A value is trying to be set on a copy of a slice from a DataFrame.\n",
      "Try using .loc[row_indexer,col_indexer] = value instead\n",
      "\n",
      "See the caveats in the documentation: https://pandas.pydata.org/pandas-docs/stable/user_guide/indexing.html#returning-a-view-versus-a-copy\n",
      "  temp_df['prev3_avg'] = temp_df[['prev1_outcome', 'prev2_outcome', 'prev3_outcome']].apply(lambda x: np.nanmean(x), axis=1)\n",
      "/tmp/ipykernel_2765238/3243239086.py:16: SettingWithCopyWarning: \n",
      "A value is trying to be set on a copy of a slice from a DataFrame.\n",
      "Try using .loc[row_indexer,col_indexer] = value instead\n",
      "\n",
      "See the caveats in the documentation: https://pandas.pydata.org/pandas-docs/stable/user_guide/indexing.html#returning-a-view-versus-a-copy\n",
      "  temp_df['prev3_avg'] = temp_df[['prev1_outcome', 'prev2_outcome', 'prev3_outcome']].apply(lambda x: np.nanmean(x), axis=1)\n",
      "/tmp/ipykernel_2765238/3243239086.py:16: SettingWithCopyWarning: \n",
      "A value is trying to be set on a copy of a slice from a DataFrame.\n",
      "Try using .loc[row_indexer,col_indexer] = value instead\n",
      "\n",
      "See the caveats in the documentation: https://pandas.pydata.org/pandas-docs/stable/user_guide/indexing.html#returning-a-view-versus-a-copy\n",
      "  temp_df['prev3_avg'] = temp_df[['prev1_outcome', 'prev2_outcome', 'prev3_outcome']].apply(lambda x: np.nanmean(x), axis=1)\n",
      "/tmp/ipykernel_2765238/3243239086.py:16: SettingWithCopyWarning: \n",
      "A value is trying to be set on a copy of a slice from a DataFrame.\n",
      "Try using .loc[row_indexer,col_indexer] = value instead\n",
      "\n",
      "See the caveats in the documentation: https://pandas.pydata.org/pandas-docs/stable/user_guide/indexing.html#returning-a-view-versus-a-copy\n",
      "  temp_df['prev3_avg'] = temp_df[['prev1_outcome', 'prev2_outcome', 'prev3_outcome']].apply(lambda x: np.nanmean(x), axis=1)\n",
      "/tmp/ipykernel_2765238/3243239086.py:16: SettingWithCopyWarning: \n",
      "A value is trying to be set on a copy of a slice from a DataFrame.\n",
      "Try using .loc[row_indexer,col_indexer] = value instead\n",
      "\n",
      "See the caveats in the documentation: https://pandas.pydata.org/pandas-docs/stable/user_guide/indexing.html#returning-a-view-versus-a-copy\n",
      "  temp_df['prev3_avg'] = temp_df[['prev1_outcome', 'prev2_outcome', 'prev3_outcome']].apply(lambda x: np.nanmean(x), axis=1)\n",
      "/tmp/ipykernel_2765238/3243239086.py:16: SettingWithCopyWarning: \n",
      "A value is trying to be set on a copy of a slice from a DataFrame.\n",
      "Try using .loc[row_indexer,col_indexer] = value instead\n",
      "\n",
      "See the caveats in the documentation: https://pandas.pydata.org/pandas-docs/stable/user_guide/indexing.html#returning-a-view-versus-a-copy\n",
      "  temp_df['prev3_avg'] = temp_df[['prev1_outcome', 'prev2_outcome', 'prev3_outcome']].apply(lambda x: np.nanmean(x), axis=1)\n",
      "/tmp/ipykernel_2765238/3243239086.py:16: SettingWithCopyWarning: \n",
      "A value is trying to be set on a copy of a slice from a DataFrame.\n",
      "Try using .loc[row_indexer,col_indexer] = value instead\n",
      "\n",
      "See the caveats in the documentation: https://pandas.pydata.org/pandas-docs/stable/user_guide/indexing.html#returning-a-view-versus-a-copy\n",
      "  temp_df['prev3_avg'] = temp_df[['prev1_outcome', 'prev2_outcome', 'prev3_outcome']].apply(lambda x: np.nanmean(x), axis=1)\n",
      "/tmp/ipykernel_2765238/3243239086.py:16: SettingWithCopyWarning: \n",
      "A value is trying to be set on a copy of a slice from a DataFrame.\n",
      "Try using .loc[row_indexer,col_indexer] = value instead\n",
      "\n",
      "See the caveats in the documentation: https://pandas.pydata.org/pandas-docs/stable/user_guide/indexing.html#returning-a-view-versus-a-copy\n",
      "  temp_df['prev3_avg'] = temp_df[['prev1_outcome', 'prev2_outcome', 'prev3_outcome']].apply(lambda x: np.nanmean(x), axis=1)\n",
      "/tmp/ipykernel_2765238/3243239086.py:16: SettingWithCopyWarning: \n",
      "A value is trying to be set on a copy of a slice from a DataFrame.\n",
      "Try using .loc[row_indexer,col_indexer] = value instead\n",
      "\n",
      "See the caveats in the documentation: https://pandas.pydata.org/pandas-docs/stable/user_guide/indexing.html#returning-a-view-versus-a-copy\n",
      "  temp_df['prev3_avg'] = temp_df[['prev1_outcome', 'prev2_outcome', 'prev3_outcome']].apply(lambda x: np.nanmean(x), axis=1)\n",
      "/tmp/ipykernel_2765238/3243239086.py:16: SettingWithCopyWarning: \n",
      "A value is trying to be set on a copy of a slice from a DataFrame.\n",
      "Try using .loc[row_indexer,col_indexer] = value instead\n",
      "\n",
      "See the caveats in the documentation: https://pandas.pydata.org/pandas-docs/stable/user_guide/indexing.html#returning-a-view-versus-a-copy\n",
      "  temp_df['prev3_avg'] = temp_df[['prev1_outcome', 'prev2_outcome', 'prev3_outcome']].apply(lambda x: np.nanmean(x), axis=1)\n",
      "/tmp/ipykernel_2765238/3243239086.py:16: SettingWithCopyWarning: \n",
      "A value is trying to be set on a copy of a slice from a DataFrame.\n",
      "Try using .loc[row_indexer,col_indexer] = value instead\n",
      "\n",
      "See the caveats in the documentation: https://pandas.pydata.org/pandas-docs/stable/user_guide/indexing.html#returning-a-view-versus-a-copy\n",
      "  temp_df['prev3_avg'] = temp_df[['prev1_outcome', 'prev2_outcome', 'prev3_outcome']].apply(lambda x: np.nanmean(x), axis=1)\n",
      "/tmp/ipykernel_2765238/3243239086.py:16: SettingWithCopyWarning: \n",
      "A value is trying to be set on a copy of a slice from a DataFrame.\n",
      "Try using .loc[row_indexer,col_indexer] = value instead\n",
      "\n",
      "See the caveats in the documentation: https://pandas.pydata.org/pandas-docs/stable/user_guide/indexing.html#returning-a-view-versus-a-copy\n",
      "  temp_df['prev3_avg'] = temp_df[['prev1_outcome', 'prev2_outcome', 'prev3_outcome']].apply(lambda x: np.nanmean(x), axis=1)\n",
      "/tmp/ipykernel_2765238/3243239086.py:16: SettingWithCopyWarning: \n",
      "A value is trying to be set on a copy of a slice from a DataFrame.\n",
      "Try using .loc[row_indexer,col_indexer] = value instead\n",
      "\n",
      "See the caveats in the documentation: https://pandas.pydata.org/pandas-docs/stable/user_guide/indexing.html#returning-a-view-versus-a-copy\n",
      "  temp_df['prev3_avg'] = temp_df[['prev1_outcome', 'prev2_outcome', 'prev3_outcome']].apply(lambda x: np.nanmean(x), axis=1)\n",
      "/tmp/ipykernel_2765238/3243239086.py:16: SettingWithCopyWarning: \n",
      "A value is trying to be set on a copy of a slice from a DataFrame.\n",
      "Try using .loc[row_indexer,col_indexer] = value instead\n",
      "\n",
      "See the caveats in the documentation: https://pandas.pydata.org/pandas-docs/stable/user_guide/indexing.html#returning-a-view-versus-a-copy\n",
      "  temp_df['prev3_avg'] = temp_df[['prev1_outcome', 'prev2_outcome', 'prev3_outcome']].apply(lambda x: np.nanmean(x), axis=1)\n",
      "/tmp/ipykernel_2765238/3243239086.py:16: SettingWithCopyWarning: \n",
      "A value is trying to be set on a copy of a slice from a DataFrame.\n",
      "Try using .loc[row_indexer,col_indexer] = value instead\n",
      "\n",
      "See the caveats in the documentation: https://pandas.pydata.org/pandas-docs/stable/user_guide/indexing.html#returning-a-view-versus-a-copy\n",
      "  temp_df['prev3_avg'] = temp_df[['prev1_outcome', 'prev2_outcome', 'prev3_outcome']].apply(lambda x: np.nanmean(x), axis=1)\n",
      "/tmp/ipykernel_2765238/3243239086.py:16: SettingWithCopyWarning: \n",
      "A value is trying to be set on a copy of a slice from a DataFrame.\n",
      "Try using .loc[row_indexer,col_indexer] = value instead\n",
      "\n",
      "See the caveats in the documentation: https://pandas.pydata.org/pandas-docs/stable/user_guide/indexing.html#returning-a-view-versus-a-copy\n",
      "  temp_df['prev3_avg'] = temp_df[['prev1_outcome', 'prev2_outcome', 'prev3_outcome']].apply(lambda x: np.nanmean(x), axis=1)\n",
      "/tmp/ipykernel_2765238/3243239086.py:16: SettingWithCopyWarning: \n",
      "A value is trying to be set on a copy of a slice from a DataFrame.\n",
      "Try using .loc[row_indexer,col_indexer] = value instead\n",
      "\n",
      "See the caveats in the documentation: https://pandas.pydata.org/pandas-docs/stable/user_guide/indexing.html#returning-a-view-versus-a-copy\n",
      "  temp_df['prev3_avg'] = temp_df[['prev1_outcome', 'prev2_outcome', 'prev3_outcome']].apply(lambda x: np.nanmean(x), axis=1)\n",
      "/tmp/ipykernel_2765238/3243239086.py:16: SettingWithCopyWarning: \n",
      "A value is trying to be set on a copy of a slice from a DataFrame.\n",
      "Try using .loc[row_indexer,col_indexer] = value instead\n",
      "\n",
      "See the caveats in the documentation: https://pandas.pydata.org/pandas-docs/stable/user_guide/indexing.html#returning-a-view-versus-a-copy\n",
      "  temp_df['prev3_avg'] = temp_df[['prev1_outcome', 'prev2_outcome', 'prev3_outcome']].apply(lambda x: np.nanmean(x), axis=1)\n",
      "/tmp/ipykernel_2765238/3243239086.py:16: SettingWithCopyWarning: \n",
      "A value is trying to be set on a copy of a slice from a DataFrame.\n",
      "Try using .loc[row_indexer,col_indexer] = value instead\n",
      "\n",
      "See the caveats in the documentation: https://pandas.pydata.org/pandas-docs/stable/user_guide/indexing.html#returning-a-view-versus-a-copy\n",
      "  temp_df['prev3_avg'] = temp_df[['prev1_outcome', 'prev2_outcome', 'prev3_outcome']].apply(lambda x: np.nanmean(x), axis=1)\n",
      "/tmp/ipykernel_2765238/3243239086.py:16: SettingWithCopyWarning: \n",
      "A value is trying to be set on a copy of a slice from a DataFrame.\n",
      "Try using .loc[row_indexer,col_indexer] = value instead\n",
      "\n",
      "See the caveats in the documentation: https://pandas.pydata.org/pandas-docs/stable/user_guide/indexing.html#returning-a-view-versus-a-copy\n",
      "  temp_df['prev3_avg'] = temp_df[['prev1_outcome', 'prev2_outcome', 'prev3_outcome']].apply(lambda x: np.nanmean(x), axis=1)\n",
      "/tmp/ipykernel_2765238/3243239086.py:16: SettingWithCopyWarning: \n",
      "A value is trying to be set on a copy of a slice from a DataFrame.\n",
      "Try using .loc[row_indexer,col_indexer] = value instead\n",
      "\n",
      "See the caveats in the documentation: https://pandas.pydata.org/pandas-docs/stable/user_guide/indexing.html#returning-a-view-versus-a-copy\n",
      "  temp_df['prev3_avg'] = temp_df[['prev1_outcome', 'prev2_outcome', 'prev3_outcome']].apply(lambda x: np.nanmean(x), axis=1)\n",
      "/tmp/ipykernel_2765238/3243239086.py:16: SettingWithCopyWarning: \n",
      "A value is trying to be set on a copy of a slice from a DataFrame.\n",
      "Try using .loc[row_indexer,col_indexer] = value instead\n",
      "\n",
      "See the caveats in the documentation: https://pandas.pydata.org/pandas-docs/stable/user_guide/indexing.html#returning-a-view-versus-a-copy\n",
      "  temp_df['prev3_avg'] = temp_df[['prev1_outcome', 'prev2_outcome', 'prev3_outcome']].apply(lambda x: np.nanmean(x), axis=1)\n",
      "/tmp/ipykernel_2765238/3243239086.py:16: SettingWithCopyWarning: \n",
      "A value is trying to be set on a copy of a slice from a DataFrame.\n",
      "Try using .loc[row_indexer,col_indexer] = value instead\n",
      "\n",
      "See the caveats in the documentation: https://pandas.pydata.org/pandas-docs/stable/user_guide/indexing.html#returning-a-view-versus-a-copy\n",
      "  temp_df['prev3_avg'] = temp_df[['prev1_outcome', 'prev2_outcome', 'prev3_outcome']].apply(lambda x: np.nanmean(x), axis=1)\n",
      "/tmp/ipykernel_2765238/3243239086.py:16: SettingWithCopyWarning: \n",
      "A value is trying to be set on a copy of a slice from a DataFrame.\n",
      "Try using .loc[row_indexer,col_indexer] = value instead\n",
      "\n",
      "See the caveats in the documentation: https://pandas.pydata.org/pandas-docs/stable/user_guide/indexing.html#returning-a-view-versus-a-copy\n",
      "  temp_df['prev3_avg'] = temp_df[['prev1_outcome', 'prev2_outcome', 'prev3_outcome']].apply(lambda x: np.nanmean(x), axis=1)\n",
      "/tmp/ipykernel_2765238/3243239086.py:16: SettingWithCopyWarning: \n",
      "A value is trying to be set on a copy of a slice from a DataFrame.\n",
      "Try using .loc[row_indexer,col_indexer] = value instead\n",
      "\n",
      "See the caveats in the documentation: https://pandas.pydata.org/pandas-docs/stable/user_guide/indexing.html#returning-a-view-versus-a-copy\n",
      "  temp_df['prev3_avg'] = temp_df[['prev1_outcome', 'prev2_outcome', 'prev3_outcome']].apply(lambda x: np.nanmean(x), axis=1)\n",
      "/tmp/ipykernel_2765238/3243239086.py:16: SettingWithCopyWarning: \n",
      "A value is trying to be set on a copy of a slice from a DataFrame.\n",
      "Try using .loc[row_indexer,col_indexer] = value instead\n",
      "\n",
      "See the caveats in the documentation: https://pandas.pydata.org/pandas-docs/stable/user_guide/indexing.html#returning-a-view-versus-a-copy\n",
      "  temp_df['prev3_avg'] = temp_df[['prev1_outcome', 'prev2_outcome', 'prev3_outcome']].apply(lambda x: np.nanmean(x), axis=1)\n",
      "/tmp/ipykernel_2765238/3243239086.py:16: SettingWithCopyWarning: \n",
      "A value is trying to be set on a copy of a slice from a DataFrame.\n",
      "Try using .loc[row_indexer,col_indexer] = value instead\n",
      "\n",
      "See the caveats in the documentation: https://pandas.pydata.org/pandas-docs/stable/user_guide/indexing.html#returning-a-view-versus-a-copy\n",
      "  temp_df['prev3_avg'] = temp_df[['prev1_outcome', 'prev2_outcome', 'prev3_outcome']].apply(lambda x: np.nanmean(x), axis=1)\n",
      "/tmp/ipykernel_2765238/3243239086.py:16: SettingWithCopyWarning: \n",
      "A value is trying to be set on a copy of a slice from a DataFrame.\n",
      "Try using .loc[row_indexer,col_indexer] = value instead\n",
      "\n",
      "See the caveats in the documentation: https://pandas.pydata.org/pandas-docs/stable/user_guide/indexing.html#returning-a-view-versus-a-copy\n",
      "  temp_df['prev3_avg'] = temp_df[['prev1_outcome', 'prev2_outcome', 'prev3_outcome']].apply(lambda x: np.nanmean(x), axis=1)\n",
      "/tmp/ipykernel_2765238/3243239086.py:16: SettingWithCopyWarning: \n",
      "A value is trying to be set on a copy of a slice from a DataFrame.\n",
      "Try using .loc[row_indexer,col_indexer] = value instead\n",
      "\n",
      "See the caveats in the documentation: https://pandas.pydata.org/pandas-docs/stable/user_guide/indexing.html#returning-a-view-versus-a-copy\n",
      "  temp_df['prev3_avg'] = temp_df[['prev1_outcome', 'prev2_outcome', 'prev3_outcome']].apply(lambda x: np.nanmean(x), axis=1)\n",
      "/tmp/ipykernel_2765238/3243239086.py:16: SettingWithCopyWarning: \n",
      "A value is trying to be set on a copy of a slice from a DataFrame.\n",
      "Try using .loc[row_indexer,col_indexer] = value instead\n",
      "\n",
      "See the caveats in the documentation: https://pandas.pydata.org/pandas-docs/stable/user_guide/indexing.html#returning-a-view-versus-a-copy\n",
      "  temp_df['prev3_avg'] = temp_df[['prev1_outcome', 'prev2_outcome', 'prev3_outcome']].apply(lambda x: np.nanmean(x), axis=1)\n",
      "/tmp/ipykernel_2765238/3243239086.py:16: SettingWithCopyWarning: \n",
      "A value is trying to be set on a copy of a slice from a DataFrame.\n",
      "Try using .loc[row_indexer,col_indexer] = value instead\n",
      "\n",
      "See the caveats in the documentation: https://pandas.pydata.org/pandas-docs/stable/user_guide/indexing.html#returning-a-view-versus-a-copy\n",
      "  temp_df['prev3_avg'] = temp_df[['prev1_outcome', 'prev2_outcome', 'prev3_outcome']].apply(lambda x: np.nanmean(x), axis=1)\n",
      "/tmp/ipykernel_2765238/3243239086.py:16: SettingWithCopyWarning: \n",
      "A value is trying to be set on a copy of a slice from a DataFrame.\n",
      "Try using .loc[row_indexer,col_indexer] = value instead\n",
      "\n",
      "See the caveats in the documentation: https://pandas.pydata.org/pandas-docs/stable/user_guide/indexing.html#returning-a-view-versus-a-copy\n",
      "  temp_df['prev3_avg'] = temp_df[['prev1_outcome', 'prev2_outcome', 'prev3_outcome']].apply(lambda x: np.nanmean(x), axis=1)\n",
      "/tmp/ipykernel_2765238/3243239086.py:16: SettingWithCopyWarning: \n",
      "A value is trying to be set on a copy of a slice from a DataFrame.\n",
      "Try using .loc[row_indexer,col_indexer] = value instead\n",
      "\n",
      "See the caveats in the documentation: https://pandas.pydata.org/pandas-docs/stable/user_guide/indexing.html#returning-a-view-versus-a-copy\n",
      "  temp_df['prev3_avg'] = temp_df[['prev1_outcome', 'prev2_outcome', 'prev3_outcome']].apply(lambda x: np.nanmean(x), axis=1)\n",
      "/tmp/ipykernel_2765238/3243239086.py:16: SettingWithCopyWarning: \n",
      "A value is trying to be set on a copy of a slice from a DataFrame.\n",
      "Try using .loc[row_indexer,col_indexer] = value instead\n",
      "\n",
      "See the caveats in the documentation: https://pandas.pydata.org/pandas-docs/stable/user_guide/indexing.html#returning-a-view-versus-a-copy\n",
      "  temp_df['prev3_avg'] = temp_df[['prev1_outcome', 'prev2_outcome', 'prev3_outcome']].apply(lambda x: np.nanmean(x), axis=1)\n",
      "/tmp/ipykernel_2765238/3243239086.py:16: SettingWithCopyWarning: \n",
      "A value is trying to be set on a copy of a slice from a DataFrame.\n",
      "Try using .loc[row_indexer,col_indexer] = value instead\n",
      "\n",
      "See the caveats in the documentation: https://pandas.pydata.org/pandas-docs/stable/user_guide/indexing.html#returning-a-view-versus-a-copy\n",
      "  temp_df['prev3_avg'] = temp_df[['prev1_outcome', 'prev2_outcome', 'prev3_outcome']].apply(lambda x: np.nanmean(x), axis=1)\n",
      "/tmp/ipykernel_2765238/3243239086.py:16: SettingWithCopyWarning: \n",
      "A value is trying to be set on a copy of a slice from a DataFrame.\n",
      "Try using .loc[row_indexer,col_indexer] = value instead\n",
      "\n",
      "See the caveats in the documentation: https://pandas.pydata.org/pandas-docs/stable/user_guide/indexing.html#returning-a-view-versus-a-copy\n",
      "  temp_df['prev3_avg'] = temp_df[['prev1_outcome', 'prev2_outcome', 'prev3_outcome']].apply(lambda x: np.nanmean(x), axis=1)\n",
      "/tmp/ipykernel_2765238/3243239086.py:16: SettingWithCopyWarning: \n",
      "A value is trying to be set on a copy of a slice from a DataFrame.\n",
      "Try using .loc[row_indexer,col_indexer] = value instead\n",
      "\n",
      "See the caveats in the documentation: https://pandas.pydata.org/pandas-docs/stable/user_guide/indexing.html#returning-a-view-versus-a-copy\n",
      "  temp_df['prev3_avg'] = temp_df[['prev1_outcome', 'prev2_outcome', 'prev3_outcome']].apply(lambda x: np.nanmean(x), axis=1)\n",
      "/tmp/ipykernel_2765238/3243239086.py:16: SettingWithCopyWarning: \n",
      "A value is trying to be set on a copy of a slice from a DataFrame.\n",
      "Try using .loc[row_indexer,col_indexer] = value instead\n",
      "\n",
      "See the caveats in the documentation: https://pandas.pydata.org/pandas-docs/stable/user_guide/indexing.html#returning-a-view-versus-a-copy\n",
      "  temp_df['prev3_avg'] = temp_df[['prev1_outcome', 'prev2_outcome', 'prev3_outcome']].apply(lambda x: np.nanmean(x), axis=1)\n",
      "/tmp/ipykernel_2765238/3243239086.py:16: SettingWithCopyWarning: \n",
      "A value is trying to be set on a copy of a slice from a DataFrame.\n",
      "Try using .loc[row_indexer,col_indexer] = value instead\n",
      "\n",
      "See the caveats in the documentation: https://pandas.pydata.org/pandas-docs/stable/user_guide/indexing.html#returning-a-view-versus-a-copy\n",
      "  temp_df['prev3_avg'] = temp_df[['prev1_outcome', 'prev2_outcome', 'prev3_outcome']].apply(lambda x: np.nanmean(x), axis=1)\n",
      "/tmp/ipykernel_2765238/3243239086.py:16: SettingWithCopyWarning: \n",
      "A value is trying to be set on a copy of a slice from a DataFrame.\n",
      "Try using .loc[row_indexer,col_indexer] = value instead\n",
      "\n",
      "See the caveats in the documentation: https://pandas.pydata.org/pandas-docs/stable/user_guide/indexing.html#returning-a-view-versus-a-copy\n",
      "  temp_df['prev3_avg'] = temp_df[['prev1_outcome', 'prev2_outcome', 'prev3_outcome']].apply(lambda x: np.nanmean(x), axis=1)\n",
      "/tmp/ipykernel_2765238/3243239086.py:16: SettingWithCopyWarning: \n",
      "A value is trying to be set on a copy of a slice from a DataFrame.\n",
      "Try using .loc[row_indexer,col_indexer] = value instead\n",
      "\n",
      "See the caveats in the documentation: https://pandas.pydata.org/pandas-docs/stable/user_guide/indexing.html#returning-a-view-versus-a-copy\n",
      "  temp_df['prev3_avg'] = temp_df[['prev1_outcome', 'prev2_outcome', 'prev3_outcome']].apply(lambda x: np.nanmean(x), axis=1)\n",
      "/tmp/ipykernel_2765238/3243239086.py:16: SettingWithCopyWarning: \n",
      "A value is trying to be set on a copy of a slice from a DataFrame.\n",
      "Try using .loc[row_indexer,col_indexer] = value instead\n",
      "\n",
      "See the caveats in the documentation: https://pandas.pydata.org/pandas-docs/stable/user_guide/indexing.html#returning-a-view-versus-a-copy\n",
      "  temp_df['prev3_avg'] = temp_df[['prev1_outcome', 'prev2_outcome', 'prev3_outcome']].apply(lambda x: np.nanmean(x), axis=1)\n",
      "/tmp/ipykernel_2765238/3243239086.py:16: SettingWithCopyWarning: \n",
      "A value is trying to be set on a copy of a slice from a DataFrame.\n",
      "Try using .loc[row_indexer,col_indexer] = value instead\n",
      "\n",
      "See the caveats in the documentation: https://pandas.pydata.org/pandas-docs/stable/user_guide/indexing.html#returning-a-view-versus-a-copy\n",
      "  temp_df['prev3_avg'] = temp_df[['prev1_outcome', 'prev2_outcome', 'prev3_outcome']].apply(lambda x: np.nanmean(x), axis=1)\n",
      "/tmp/ipykernel_2765238/3243239086.py:16: SettingWithCopyWarning: \n",
      "A value is trying to be set on a copy of a slice from a DataFrame.\n",
      "Try using .loc[row_indexer,col_indexer] = value instead\n",
      "\n",
      "See the caveats in the documentation: https://pandas.pydata.org/pandas-docs/stable/user_guide/indexing.html#returning-a-view-versus-a-copy\n",
      "  temp_df['prev3_avg'] = temp_df[['prev1_outcome', 'prev2_outcome', 'prev3_outcome']].apply(lambda x: np.nanmean(x), axis=1)\n",
      "/tmp/ipykernel_2765238/3243239086.py:16: SettingWithCopyWarning: \n",
      "A value is trying to be set on a copy of a slice from a DataFrame.\n",
      "Try using .loc[row_indexer,col_indexer] = value instead\n",
      "\n",
      "See the caveats in the documentation: https://pandas.pydata.org/pandas-docs/stable/user_guide/indexing.html#returning-a-view-versus-a-copy\n",
      "  temp_df['prev3_avg'] = temp_df[['prev1_outcome', 'prev2_outcome', 'prev3_outcome']].apply(lambda x: np.nanmean(x), axis=1)\n",
      "/tmp/ipykernel_2765238/3243239086.py:16: SettingWithCopyWarning: \n",
      "A value is trying to be set on a copy of a slice from a DataFrame.\n",
      "Try using .loc[row_indexer,col_indexer] = value instead\n",
      "\n",
      "See the caveats in the documentation: https://pandas.pydata.org/pandas-docs/stable/user_guide/indexing.html#returning-a-view-versus-a-copy\n",
      "  temp_df['prev3_avg'] = temp_df[['prev1_outcome', 'prev2_outcome', 'prev3_outcome']].apply(lambda x: np.nanmean(x), axis=1)\n",
      "/tmp/ipykernel_2765238/3243239086.py:16: SettingWithCopyWarning: \n",
      "A value is trying to be set on a copy of a slice from a DataFrame.\n",
      "Try using .loc[row_indexer,col_indexer] = value instead\n",
      "\n",
      "See the caveats in the documentation: https://pandas.pydata.org/pandas-docs/stable/user_guide/indexing.html#returning-a-view-versus-a-copy\n",
      "  temp_df['prev3_avg'] = temp_df[['prev1_outcome', 'prev2_outcome', 'prev3_outcome']].apply(lambda x: np.nanmean(x), axis=1)\n",
      "/tmp/ipykernel_2765238/3243239086.py:16: SettingWithCopyWarning: \n",
      "A value is trying to be set on a copy of a slice from a DataFrame.\n",
      "Try using .loc[row_indexer,col_indexer] = value instead\n",
      "\n",
      "See the caveats in the documentation: https://pandas.pydata.org/pandas-docs/stable/user_guide/indexing.html#returning-a-view-versus-a-copy\n",
      "  temp_df['prev3_avg'] = temp_df[['prev1_outcome', 'prev2_outcome', 'prev3_outcome']].apply(lambda x: np.nanmean(x), axis=1)\n",
      "/tmp/ipykernel_2765238/3243239086.py:16: SettingWithCopyWarning: \n",
      "A value is trying to be set on a copy of a slice from a DataFrame.\n",
      "Try using .loc[row_indexer,col_indexer] = value instead\n",
      "\n",
      "See the caveats in the documentation: https://pandas.pydata.org/pandas-docs/stable/user_guide/indexing.html#returning-a-view-versus-a-copy\n",
      "  temp_df['prev3_avg'] = temp_df[['prev1_outcome', 'prev2_outcome', 'prev3_outcome']].apply(lambda x: np.nanmean(x), axis=1)\n",
      "/tmp/ipykernel_2765238/3243239086.py:16: SettingWithCopyWarning: \n",
      "A value is trying to be set on a copy of a slice from a DataFrame.\n",
      "Try using .loc[row_indexer,col_indexer] = value instead\n",
      "\n",
      "See the caveats in the documentation: https://pandas.pydata.org/pandas-docs/stable/user_guide/indexing.html#returning-a-view-versus-a-copy\n",
      "  temp_df['prev3_avg'] = temp_df[['prev1_outcome', 'prev2_outcome', 'prev3_outcome']].apply(lambda x: np.nanmean(x), axis=1)\n",
      "/tmp/ipykernel_2765238/3243239086.py:16: SettingWithCopyWarning: \n",
      "A value is trying to be set on a copy of a slice from a DataFrame.\n",
      "Try using .loc[row_indexer,col_indexer] = value instead\n",
      "\n",
      "See the caveats in the documentation: https://pandas.pydata.org/pandas-docs/stable/user_guide/indexing.html#returning-a-view-versus-a-copy\n",
      "  temp_df['prev3_avg'] = temp_df[['prev1_outcome', 'prev2_outcome', 'prev3_outcome']].apply(lambda x: np.nanmean(x), axis=1)\n",
      "/tmp/ipykernel_2765238/3243239086.py:16: SettingWithCopyWarning: \n",
      "A value is trying to be set on a copy of a slice from a DataFrame.\n",
      "Try using .loc[row_indexer,col_indexer] = value instead\n",
      "\n",
      "See the caveats in the documentation: https://pandas.pydata.org/pandas-docs/stable/user_guide/indexing.html#returning-a-view-versus-a-copy\n",
      "  temp_df['prev3_avg'] = temp_df[['prev1_outcome', 'prev2_outcome', 'prev3_outcome']].apply(lambda x: np.nanmean(x), axis=1)\n",
      "/tmp/ipykernel_2765238/3243239086.py:16: SettingWithCopyWarning: \n",
      "A value is trying to be set on a copy of a slice from a DataFrame.\n",
      "Try using .loc[row_indexer,col_indexer] = value instead\n",
      "\n",
      "See the caveats in the documentation: https://pandas.pydata.org/pandas-docs/stable/user_guide/indexing.html#returning-a-view-versus-a-copy\n",
      "  temp_df['prev3_avg'] = temp_df[['prev1_outcome', 'prev2_outcome', 'prev3_outcome']].apply(lambda x: np.nanmean(x), axis=1)\n",
      "/tmp/ipykernel_2765238/3243239086.py:16: SettingWithCopyWarning: \n",
      "A value is trying to be set on a copy of a slice from a DataFrame.\n",
      "Try using .loc[row_indexer,col_indexer] = value instead\n",
      "\n",
      "See the caveats in the documentation: https://pandas.pydata.org/pandas-docs/stable/user_guide/indexing.html#returning-a-view-versus-a-copy\n",
      "  temp_df['prev3_avg'] = temp_df[['prev1_outcome', 'prev2_outcome', 'prev3_outcome']].apply(lambda x: np.nanmean(x), axis=1)\n",
      "/tmp/ipykernel_2765238/3243239086.py:16: SettingWithCopyWarning: \n",
      "A value is trying to be set on a copy of a slice from a DataFrame.\n",
      "Try using .loc[row_indexer,col_indexer] = value instead\n",
      "\n",
      "See the caveats in the documentation: https://pandas.pydata.org/pandas-docs/stable/user_guide/indexing.html#returning-a-view-versus-a-copy\n",
      "  temp_df['prev3_avg'] = temp_df[['prev1_outcome', 'prev2_outcome', 'prev3_outcome']].apply(lambda x: np.nanmean(x), axis=1)\n",
      "/tmp/ipykernel_2765238/3243239086.py:16: SettingWithCopyWarning: \n",
      "A value is trying to be set on a copy of a slice from a DataFrame.\n",
      "Try using .loc[row_indexer,col_indexer] = value instead\n",
      "\n",
      "See the caveats in the documentation: https://pandas.pydata.org/pandas-docs/stable/user_guide/indexing.html#returning-a-view-versus-a-copy\n",
      "  temp_df['prev3_avg'] = temp_df[['prev1_outcome', 'prev2_outcome', 'prev3_outcome']].apply(lambda x: np.nanmean(x), axis=1)\n",
      "/tmp/ipykernel_2765238/3243239086.py:16: SettingWithCopyWarning: \n",
      "A value is trying to be set on a copy of a slice from a DataFrame.\n",
      "Try using .loc[row_indexer,col_indexer] = value instead\n",
      "\n",
      "See the caveats in the documentation: https://pandas.pydata.org/pandas-docs/stable/user_guide/indexing.html#returning-a-view-versus-a-copy\n",
      "  temp_df['prev3_avg'] = temp_df[['prev1_outcome', 'prev2_outcome', 'prev3_outcome']].apply(lambda x: np.nanmean(x), axis=1)\n",
      "/tmp/ipykernel_2765238/3243239086.py:16: SettingWithCopyWarning: \n",
      "A value is trying to be set on a copy of a slice from a DataFrame.\n",
      "Try using .loc[row_indexer,col_indexer] = value instead\n",
      "\n",
      "See the caveats in the documentation: https://pandas.pydata.org/pandas-docs/stable/user_guide/indexing.html#returning-a-view-versus-a-copy\n",
      "  temp_df['prev3_avg'] = temp_df[['prev1_outcome', 'prev2_outcome', 'prev3_outcome']].apply(lambda x: np.nanmean(x), axis=1)\n",
      "/tmp/ipykernel_2765238/3243239086.py:16: SettingWithCopyWarning: \n",
      "A value is trying to be set on a copy of a slice from a DataFrame.\n",
      "Try using .loc[row_indexer,col_indexer] = value instead\n",
      "\n",
      "See the caveats in the documentation: https://pandas.pydata.org/pandas-docs/stable/user_guide/indexing.html#returning-a-view-versus-a-copy\n",
      "  temp_df['prev3_avg'] = temp_df[['prev1_outcome', 'prev2_outcome', 'prev3_outcome']].apply(lambda x: np.nanmean(x), axis=1)\n",
      "/tmp/ipykernel_2765238/3243239086.py:16: SettingWithCopyWarning: \n",
      "A value is trying to be set on a copy of a slice from a DataFrame.\n",
      "Try using .loc[row_indexer,col_indexer] = value instead\n",
      "\n",
      "See the caveats in the documentation: https://pandas.pydata.org/pandas-docs/stable/user_guide/indexing.html#returning-a-view-versus-a-copy\n",
      "  temp_df['prev3_avg'] = temp_df[['prev1_outcome', 'prev2_outcome', 'prev3_outcome']].apply(lambda x: np.nanmean(x), axis=1)\n",
      "/tmp/ipykernel_2765238/3243239086.py:16: SettingWithCopyWarning: \n",
      "A value is trying to be set on a copy of a slice from a DataFrame.\n",
      "Try using .loc[row_indexer,col_indexer] = value instead\n",
      "\n",
      "See the caveats in the documentation: https://pandas.pydata.org/pandas-docs/stable/user_guide/indexing.html#returning-a-view-versus-a-copy\n",
      "  temp_df['prev3_avg'] = temp_df[['prev1_outcome', 'prev2_outcome', 'prev3_outcome']].apply(lambda x: np.nanmean(x), axis=1)\n",
      "/tmp/ipykernel_2765238/3243239086.py:16: SettingWithCopyWarning: \n",
      "A value is trying to be set on a copy of a slice from a DataFrame.\n",
      "Try using .loc[row_indexer,col_indexer] = value instead\n",
      "\n",
      "See the caveats in the documentation: https://pandas.pydata.org/pandas-docs/stable/user_guide/indexing.html#returning-a-view-versus-a-copy\n",
      "  temp_df['prev3_avg'] = temp_df[['prev1_outcome', 'prev2_outcome', 'prev3_outcome']].apply(lambda x: np.nanmean(x), axis=1)\n",
      "/tmp/ipykernel_2765238/3243239086.py:16: SettingWithCopyWarning: \n",
      "A value is trying to be set on a copy of a slice from a DataFrame.\n",
      "Try using .loc[row_indexer,col_indexer] = value instead\n",
      "\n",
      "See the caveats in the documentation: https://pandas.pydata.org/pandas-docs/stable/user_guide/indexing.html#returning-a-view-versus-a-copy\n",
      "  temp_df['prev3_avg'] = temp_df[['prev1_outcome', 'prev2_outcome', 'prev3_outcome']].apply(lambda x: np.nanmean(x), axis=1)\n",
      "/tmp/ipykernel_2765238/3243239086.py:16: SettingWithCopyWarning: \n",
      "A value is trying to be set on a copy of a slice from a DataFrame.\n",
      "Try using .loc[row_indexer,col_indexer] = value instead\n",
      "\n",
      "See the caveats in the documentation: https://pandas.pydata.org/pandas-docs/stable/user_guide/indexing.html#returning-a-view-versus-a-copy\n",
      "  temp_df['prev3_avg'] = temp_df[['prev1_outcome', 'prev2_outcome', 'prev3_outcome']].apply(lambda x: np.nanmean(x), axis=1)\n",
      "/tmp/ipykernel_2765238/3243239086.py:16: SettingWithCopyWarning: \n",
      "A value is trying to be set on a copy of a slice from a DataFrame.\n",
      "Try using .loc[row_indexer,col_indexer] = value instead\n",
      "\n",
      "See the caveats in the documentation: https://pandas.pydata.org/pandas-docs/stable/user_guide/indexing.html#returning-a-view-versus-a-copy\n",
      "  temp_df['prev3_avg'] = temp_df[['prev1_outcome', 'prev2_outcome', 'prev3_outcome']].apply(lambda x: np.nanmean(x), axis=1)\n",
      "/tmp/ipykernel_2765238/3243239086.py:16: SettingWithCopyWarning: \n",
      "A value is trying to be set on a copy of a slice from a DataFrame.\n",
      "Try using .loc[row_indexer,col_indexer] = value instead\n",
      "\n",
      "See the caveats in the documentation: https://pandas.pydata.org/pandas-docs/stable/user_guide/indexing.html#returning-a-view-versus-a-copy\n",
      "  temp_df['prev3_avg'] = temp_df[['prev1_outcome', 'prev2_outcome', 'prev3_outcome']].apply(lambda x: np.nanmean(x), axis=1)\n",
      "/tmp/ipykernel_2765238/3243239086.py:16: SettingWithCopyWarning: \n",
      "A value is trying to be set on a copy of a slice from a DataFrame.\n",
      "Try using .loc[row_indexer,col_indexer] = value instead\n",
      "\n",
      "See the caveats in the documentation: https://pandas.pydata.org/pandas-docs/stable/user_guide/indexing.html#returning-a-view-versus-a-copy\n",
      "  temp_df['prev3_avg'] = temp_df[['prev1_outcome', 'prev2_outcome', 'prev3_outcome']].apply(lambda x: np.nanmean(x), axis=1)\n",
      "/tmp/ipykernel_2765238/3243239086.py:16: SettingWithCopyWarning: \n",
      "A value is trying to be set on a copy of a slice from a DataFrame.\n",
      "Try using .loc[row_indexer,col_indexer] = value instead\n",
      "\n",
      "See the caveats in the documentation: https://pandas.pydata.org/pandas-docs/stable/user_guide/indexing.html#returning-a-view-versus-a-copy\n",
      "  temp_df['prev3_avg'] = temp_df[['prev1_outcome', 'prev2_outcome', 'prev3_outcome']].apply(lambda x: np.nanmean(x), axis=1)\n",
      "/tmp/ipykernel_2765238/3243239086.py:16: SettingWithCopyWarning: \n",
      "A value is trying to be set on a copy of a slice from a DataFrame.\n",
      "Try using .loc[row_indexer,col_indexer] = value instead\n",
      "\n",
      "See the caveats in the documentation: https://pandas.pydata.org/pandas-docs/stable/user_guide/indexing.html#returning-a-view-versus-a-copy\n",
      "  temp_df['prev3_avg'] = temp_df[['prev1_outcome', 'prev2_outcome', 'prev3_outcome']].apply(lambda x: np.nanmean(x), axis=1)\n",
      "/tmp/ipykernel_2765238/3243239086.py:16: SettingWithCopyWarning: \n",
      "A value is trying to be set on a copy of a slice from a DataFrame.\n",
      "Try using .loc[row_indexer,col_indexer] = value instead\n",
      "\n",
      "See the caveats in the documentation: https://pandas.pydata.org/pandas-docs/stable/user_guide/indexing.html#returning-a-view-versus-a-copy\n",
      "  temp_df['prev3_avg'] = temp_df[['prev1_outcome', 'prev2_outcome', 'prev3_outcome']].apply(lambda x: np.nanmean(x), axis=1)\n",
      "/tmp/ipykernel_2765238/3243239086.py:16: SettingWithCopyWarning: \n",
      "A value is trying to be set on a copy of a slice from a DataFrame.\n",
      "Try using .loc[row_indexer,col_indexer] = value instead\n",
      "\n",
      "See the caveats in the documentation: https://pandas.pydata.org/pandas-docs/stable/user_guide/indexing.html#returning-a-view-versus-a-copy\n",
      "  temp_df['prev3_avg'] = temp_df[['prev1_outcome', 'prev2_outcome', 'prev3_outcome']].apply(lambda x: np.nanmean(x), axis=1)\n",
      "/tmp/ipykernel_2765238/3243239086.py:16: SettingWithCopyWarning: \n",
      "A value is trying to be set on a copy of a slice from a DataFrame.\n",
      "Try using .loc[row_indexer,col_indexer] = value instead\n",
      "\n",
      "See the caveats in the documentation: https://pandas.pydata.org/pandas-docs/stable/user_guide/indexing.html#returning-a-view-versus-a-copy\n",
      "  temp_df['prev3_avg'] = temp_df[['prev1_outcome', 'prev2_outcome', 'prev3_outcome']].apply(lambda x: np.nanmean(x), axis=1)\n",
      "/tmp/ipykernel_2765238/3243239086.py:16: SettingWithCopyWarning: \n",
      "A value is trying to be set on a copy of a slice from a DataFrame.\n",
      "Try using .loc[row_indexer,col_indexer] = value instead\n",
      "\n",
      "See the caveats in the documentation: https://pandas.pydata.org/pandas-docs/stable/user_guide/indexing.html#returning-a-view-versus-a-copy\n",
      "  temp_df['prev3_avg'] = temp_df[['prev1_outcome', 'prev2_outcome', 'prev3_outcome']].apply(lambda x: np.nanmean(x), axis=1)\n",
      "/tmp/ipykernel_2765238/3243239086.py:16: SettingWithCopyWarning: \n",
      "A value is trying to be set on a copy of a slice from a DataFrame.\n",
      "Try using .loc[row_indexer,col_indexer] = value instead\n",
      "\n",
      "See the caveats in the documentation: https://pandas.pydata.org/pandas-docs/stable/user_guide/indexing.html#returning-a-view-versus-a-copy\n",
      "  temp_df['prev3_avg'] = temp_df[['prev1_outcome', 'prev2_outcome', 'prev3_outcome']].apply(lambda x: np.nanmean(x), axis=1)\n",
      "/tmp/ipykernel_2765238/3243239086.py:16: SettingWithCopyWarning: \n",
      "A value is trying to be set on a copy of a slice from a DataFrame.\n",
      "Try using .loc[row_indexer,col_indexer] = value instead\n",
      "\n",
      "See the caveats in the documentation: https://pandas.pydata.org/pandas-docs/stable/user_guide/indexing.html#returning-a-view-versus-a-copy\n",
      "  temp_df['prev3_avg'] = temp_df[['prev1_outcome', 'prev2_outcome', 'prev3_outcome']].apply(lambda x: np.nanmean(x), axis=1)\n",
      "/tmp/ipykernel_2765238/3243239086.py:16: SettingWithCopyWarning: \n",
      "A value is trying to be set on a copy of a slice from a DataFrame.\n",
      "Try using .loc[row_indexer,col_indexer] = value instead\n",
      "\n",
      "See the caveats in the documentation: https://pandas.pydata.org/pandas-docs/stable/user_guide/indexing.html#returning-a-view-versus-a-copy\n",
      "  temp_df['prev3_avg'] = temp_df[['prev1_outcome', 'prev2_outcome', 'prev3_outcome']].apply(lambda x: np.nanmean(x), axis=1)\n",
      "/tmp/ipykernel_2765238/3243239086.py:16: SettingWithCopyWarning: \n",
      "A value is trying to be set on a copy of a slice from a DataFrame.\n",
      "Try using .loc[row_indexer,col_indexer] = value instead\n",
      "\n",
      "See the caveats in the documentation: https://pandas.pydata.org/pandas-docs/stable/user_guide/indexing.html#returning-a-view-versus-a-copy\n",
      "  temp_df['prev3_avg'] = temp_df[['prev1_outcome', 'prev2_outcome', 'prev3_outcome']].apply(lambda x: np.nanmean(x), axis=1)\n",
      "/tmp/ipykernel_2765238/3243239086.py:16: SettingWithCopyWarning: \n",
      "A value is trying to be set on a copy of a slice from a DataFrame.\n",
      "Try using .loc[row_indexer,col_indexer] = value instead\n",
      "\n",
      "See the caveats in the documentation: https://pandas.pydata.org/pandas-docs/stable/user_guide/indexing.html#returning-a-view-versus-a-copy\n",
      "  temp_df['prev3_avg'] = temp_df[['prev1_outcome', 'prev2_outcome', 'prev3_outcome']].apply(lambda x: np.nanmean(x), axis=1)\n",
      "/tmp/ipykernel_2765238/3243239086.py:16: SettingWithCopyWarning: \n",
      "A value is trying to be set on a copy of a slice from a DataFrame.\n",
      "Try using .loc[row_indexer,col_indexer] = value instead\n",
      "\n",
      "See the caveats in the documentation: https://pandas.pydata.org/pandas-docs/stable/user_guide/indexing.html#returning-a-view-versus-a-copy\n",
      "  temp_df['prev3_avg'] = temp_df[['prev1_outcome', 'prev2_outcome', 'prev3_outcome']].apply(lambda x: np.nanmean(x), axis=1)\n",
      "/tmp/ipykernel_2765238/3243239086.py:16: SettingWithCopyWarning: \n",
      "A value is trying to be set on a copy of a slice from a DataFrame.\n",
      "Try using .loc[row_indexer,col_indexer] = value instead\n",
      "\n",
      "See the caveats in the documentation: https://pandas.pydata.org/pandas-docs/stable/user_guide/indexing.html#returning-a-view-versus-a-copy\n",
      "  temp_df['prev3_avg'] = temp_df[['prev1_outcome', 'prev2_outcome', 'prev3_outcome']].apply(lambda x: np.nanmean(x), axis=1)\n",
      "/tmp/ipykernel_2765238/3243239086.py:16: SettingWithCopyWarning: \n",
      "A value is trying to be set on a copy of a slice from a DataFrame.\n",
      "Try using .loc[row_indexer,col_indexer] = value instead\n",
      "\n",
      "See the caveats in the documentation: https://pandas.pydata.org/pandas-docs/stable/user_guide/indexing.html#returning-a-view-versus-a-copy\n",
      "  temp_df['prev3_avg'] = temp_df[['prev1_outcome', 'prev2_outcome', 'prev3_outcome']].apply(lambda x: np.nanmean(x), axis=1)\n",
      "/tmp/ipykernel_2765238/3243239086.py:16: SettingWithCopyWarning: \n",
      "A value is trying to be set on a copy of a slice from a DataFrame.\n",
      "Try using .loc[row_indexer,col_indexer] = value instead\n",
      "\n",
      "See the caveats in the documentation: https://pandas.pydata.org/pandas-docs/stable/user_guide/indexing.html#returning-a-view-versus-a-copy\n",
      "  temp_df['prev3_avg'] = temp_df[['prev1_outcome', 'prev2_outcome', 'prev3_outcome']].apply(lambda x: np.nanmean(x), axis=1)\n",
      "/tmp/ipykernel_2765238/3243239086.py:16: SettingWithCopyWarning: \n",
      "A value is trying to be set on a copy of a slice from a DataFrame.\n",
      "Try using .loc[row_indexer,col_indexer] = value instead\n",
      "\n",
      "See the caveats in the documentation: https://pandas.pydata.org/pandas-docs/stable/user_guide/indexing.html#returning-a-view-versus-a-copy\n",
      "  temp_df['prev3_avg'] = temp_df[['prev1_outcome', 'prev2_outcome', 'prev3_outcome']].apply(lambda x: np.nanmean(x), axis=1)\n",
      "/tmp/ipykernel_2765238/3243239086.py:16: SettingWithCopyWarning: \n",
      "A value is trying to be set on a copy of a slice from a DataFrame.\n",
      "Try using .loc[row_indexer,col_indexer] = value instead\n",
      "\n",
      "See the caveats in the documentation: https://pandas.pydata.org/pandas-docs/stable/user_guide/indexing.html#returning-a-view-versus-a-copy\n",
      "  temp_df['prev3_avg'] = temp_df[['prev1_outcome', 'prev2_outcome', 'prev3_outcome']].apply(lambda x: np.nanmean(x), axis=1)\n",
      "/tmp/ipykernel_2765238/3243239086.py:16: SettingWithCopyWarning: \n",
      "A value is trying to be set on a copy of a slice from a DataFrame.\n",
      "Try using .loc[row_indexer,col_indexer] = value instead\n",
      "\n",
      "See the caveats in the documentation: https://pandas.pydata.org/pandas-docs/stable/user_guide/indexing.html#returning-a-view-versus-a-copy\n",
      "  temp_df['prev3_avg'] = temp_df[['prev1_outcome', 'prev2_outcome', 'prev3_outcome']].apply(lambda x: np.nanmean(x), axis=1)\n",
      "/tmp/ipykernel_2765238/3243239086.py:16: SettingWithCopyWarning: \n",
      "A value is trying to be set on a copy of a slice from a DataFrame.\n",
      "Try using .loc[row_indexer,col_indexer] = value instead\n",
      "\n",
      "See the caveats in the documentation: https://pandas.pydata.org/pandas-docs/stable/user_guide/indexing.html#returning-a-view-versus-a-copy\n",
      "  temp_df['prev3_avg'] = temp_df[['prev1_outcome', 'prev2_outcome', 'prev3_outcome']].apply(lambda x: np.nanmean(x), axis=1)\n",
      "/tmp/ipykernel_2765238/3243239086.py:16: SettingWithCopyWarning: \n",
      "A value is trying to be set on a copy of a slice from a DataFrame.\n",
      "Try using .loc[row_indexer,col_indexer] = value instead\n",
      "\n",
      "See the caveats in the documentation: https://pandas.pydata.org/pandas-docs/stable/user_guide/indexing.html#returning-a-view-versus-a-copy\n",
      "  temp_df['prev3_avg'] = temp_df[['prev1_outcome', 'prev2_outcome', 'prev3_outcome']].apply(lambda x: np.nanmean(x), axis=1)\n",
      "/tmp/ipykernel_2765238/3243239086.py:16: SettingWithCopyWarning: \n",
      "A value is trying to be set on a copy of a slice from a DataFrame.\n",
      "Try using .loc[row_indexer,col_indexer] = value instead\n",
      "\n",
      "See the caveats in the documentation: https://pandas.pydata.org/pandas-docs/stable/user_guide/indexing.html#returning-a-view-versus-a-copy\n",
      "  temp_df['prev3_avg'] = temp_df[['prev1_outcome', 'prev2_outcome', 'prev3_outcome']].apply(lambda x: np.nanmean(x), axis=1)\n",
      "/tmp/ipykernel_2765238/3243239086.py:16: SettingWithCopyWarning: \n",
      "A value is trying to be set on a copy of a slice from a DataFrame.\n",
      "Try using .loc[row_indexer,col_indexer] = value instead\n",
      "\n",
      "See the caveats in the documentation: https://pandas.pydata.org/pandas-docs/stable/user_guide/indexing.html#returning-a-view-versus-a-copy\n",
      "  temp_df['prev3_avg'] = temp_df[['prev1_outcome', 'prev2_outcome', 'prev3_outcome']].apply(lambda x: np.nanmean(x), axis=1)\n",
      "/tmp/ipykernel_2765238/3243239086.py:16: SettingWithCopyWarning: \n",
      "A value is trying to be set on a copy of a slice from a DataFrame.\n",
      "Try using .loc[row_indexer,col_indexer] = value instead\n",
      "\n",
      "See the caveats in the documentation: https://pandas.pydata.org/pandas-docs/stable/user_guide/indexing.html#returning-a-view-versus-a-copy\n",
      "  temp_df['prev3_avg'] = temp_df[['prev1_outcome', 'prev2_outcome', 'prev3_outcome']].apply(lambda x: np.nanmean(x), axis=1)\n",
      "/tmp/ipykernel_2765238/3243239086.py:16: SettingWithCopyWarning: \n",
      "A value is trying to be set on a copy of a slice from a DataFrame.\n",
      "Try using .loc[row_indexer,col_indexer] = value instead\n",
      "\n",
      "See the caveats in the documentation: https://pandas.pydata.org/pandas-docs/stable/user_guide/indexing.html#returning-a-view-versus-a-copy\n",
      "  temp_df['prev3_avg'] = temp_df[['prev1_outcome', 'prev2_outcome', 'prev3_outcome']].apply(lambda x: np.nanmean(x), axis=1)\n",
      "/tmp/ipykernel_2765238/3243239086.py:16: SettingWithCopyWarning: \n",
      "A value is trying to be set on a copy of a slice from a DataFrame.\n",
      "Try using .loc[row_indexer,col_indexer] = value instead\n",
      "\n",
      "See the caveats in the documentation: https://pandas.pydata.org/pandas-docs/stable/user_guide/indexing.html#returning-a-view-versus-a-copy\n",
      "  temp_df['prev3_avg'] = temp_df[['prev1_outcome', 'prev2_outcome', 'prev3_outcome']].apply(lambda x: np.nanmean(x), axis=1)\n",
      "/tmp/ipykernel_2765238/3243239086.py:16: SettingWithCopyWarning: \n",
      "A value is trying to be set on a copy of a slice from a DataFrame.\n",
      "Try using .loc[row_indexer,col_indexer] = value instead\n",
      "\n",
      "See the caveats in the documentation: https://pandas.pydata.org/pandas-docs/stable/user_guide/indexing.html#returning-a-view-versus-a-copy\n",
      "  temp_df['prev3_avg'] = temp_df[['prev1_outcome', 'prev2_outcome', 'prev3_outcome']].apply(lambda x: np.nanmean(x), axis=1)\n",
      "/tmp/ipykernel_2765238/3243239086.py:16: SettingWithCopyWarning: \n",
      "A value is trying to be set on a copy of a slice from a DataFrame.\n",
      "Try using .loc[row_indexer,col_indexer] = value instead\n",
      "\n",
      "See the caveats in the documentation: https://pandas.pydata.org/pandas-docs/stable/user_guide/indexing.html#returning-a-view-versus-a-copy\n",
      "  temp_df['prev3_avg'] = temp_df[['prev1_outcome', 'prev2_outcome', 'prev3_outcome']].apply(lambda x: np.nanmean(x), axis=1)\n",
      "/tmp/ipykernel_2765238/3243239086.py:16: SettingWithCopyWarning: \n",
      "A value is trying to be set on a copy of a slice from a DataFrame.\n",
      "Try using .loc[row_indexer,col_indexer] = value instead\n",
      "\n",
      "See the caveats in the documentation: https://pandas.pydata.org/pandas-docs/stable/user_guide/indexing.html#returning-a-view-versus-a-copy\n",
      "  temp_df['prev3_avg'] = temp_df[['prev1_outcome', 'prev2_outcome', 'prev3_outcome']].apply(lambda x: np.nanmean(x), axis=1)\n",
      "/tmp/ipykernel_2765238/3243239086.py:16: SettingWithCopyWarning: \n",
      "A value is trying to be set on a copy of a slice from a DataFrame.\n",
      "Try using .loc[row_indexer,col_indexer] = value instead\n",
      "\n",
      "See the caveats in the documentation: https://pandas.pydata.org/pandas-docs/stable/user_guide/indexing.html#returning-a-view-versus-a-copy\n",
      "  temp_df['prev3_avg'] = temp_df[['prev1_outcome', 'prev2_outcome', 'prev3_outcome']].apply(lambda x: np.nanmean(x), axis=1)\n",
      "/tmp/ipykernel_2765238/3243239086.py:16: SettingWithCopyWarning: \n",
      "A value is trying to be set on a copy of a slice from a DataFrame.\n",
      "Try using .loc[row_indexer,col_indexer] = value instead\n",
      "\n",
      "See the caveats in the documentation: https://pandas.pydata.org/pandas-docs/stable/user_guide/indexing.html#returning-a-view-versus-a-copy\n",
      "  temp_df['prev3_avg'] = temp_df[['prev1_outcome', 'prev2_outcome', 'prev3_outcome']].apply(lambda x: np.nanmean(x), axis=1)\n",
      "/tmp/ipykernel_2765238/3243239086.py:16: SettingWithCopyWarning: \n",
      "A value is trying to be set on a copy of a slice from a DataFrame.\n",
      "Try using .loc[row_indexer,col_indexer] = value instead\n",
      "\n",
      "See the caveats in the documentation: https://pandas.pydata.org/pandas-docs/stable/user_guide/indexing.html#returning-a-view-versus-a-copy\n",
      "  temp_df['prev3_avg'] = temp_df[['prev1_outcome', 'prev2_outcome', 'prev3_outcome']].apply(lambda x: np.nanmean(x), axis=1)\n",
      "/tmp/ipykernel_2765238/3243239086.py:16: SettingWithCopyWarning: \n",
      "A value is trying to be set on a copy of a slice from a DataFrame.\n",
      "Try using .loc[row_indexer,col_indexer] = value instead\n",
      "\n",
      "See the caveats in the documentation: https://pandas.pydata.org/pandas-docs/stable/user_guide/indexing.html#returning-a-view-versus-a-copy\n",
      "  temp_df['prev3_avg'] = temp_df[['prev1_outcome', 'prev2_outcome', 'prev3_outcome']].apply(lambda x: np.nanmean(x), axis=1)\n",
      "/tmp/ipykernel_2765238/3243239086.py:16: SettingWithCopyWarning: \n",
      "A value is trying to be set on a copy of a slice from a DataFrame.\n",
      "Try using .loc[row_indexer,col_indexer] = value instead\n",
      "\n",
      "See the caveats in the documentation: https://pandas.pydata.org/pandas-docs/stable/user_guide/indexing.html#returning-a-view-versus-a-copy\n",
      "  temp_df['prev3_avg'] = temp_df[['prev1_outcome', 'prev2_outcome', 'prev3_outcome']].apply(lambda x: np.nanmean(x), axis=1)\n",
      "/tmp/ipykernel_2765238/3243239086.py:16: SettingWithCopyWarning: \n",
      "A value is trying to be set on a copy of a slice from a DataFrame.\n",
      "Try using .loc[row_indexer,col_indexer] = value instead\n",
      "\n",
      "See the caveats in the documentation: https://pandas.pydata.org/pandas-docs/stable/user_guide/indexing.html#returning-a-view-versus-a-copy\n",
      "  temp_df['prev3_avg'] = temp_df[['prev1_outcome', 'prev2_outcome', 'prev3_outcome']].apply(lambda x: np.nanmean(x), axis=1)\n",
      "/tmp/ipykernel_2765238/3243239086.py:16: SettingWithCopyWarning: \n",
      "A value is trying to be set on a copy of a slice from a DataFrame.\n",
      "Try using .loc[row_indexer,col_indexer] = value instead\n",
      "\n",
      "See the caveats in the documentation: https://pandas.pydata.org/pandas-docs/stable/user_guide/indexing.html#returning-a-view-versus-a-copy\n",
      "  temp_df['prev3_avg'] = temp_df[['prev1_outcome', 'prev2_outcome', 'prev3_outcome']].apply(lambda x: np.nanmean(x), axis=1)\n",
      "/tmp/ipykernel_2765238/3243239086.py:16: SettingWithCopyWarning: \n",
      "A value is trying to be set on a copy of a slice from a DataFrame.\n",
      "Try using .loc[row_indexer,col_indexer] = value instead\n",
      "\n",
      "See the caveats in the documentation: https://pandas.pydata.org/pandas-docs/stable/user_guide/indexing.html#returning-a-view-versus-a-copy\n",
      "  temp_df['prev3_avg'] = temp_df[['prev1_outcome', 'prev2_outcome', 'prev3_outcome']].apply(lambda x: np.nanmean(x), axis=1)\n",
      "/tmp/ipykernel_2765238/3243239086.py:16: SettingWithCopyWarning: \n",
      "A value is trying to be set on a copy of a slice from a DataFrame.\n",
      "Try using .loc[row_indexer,col_indexer] = value instead\n",
      "\n",
      "See the caveats in the documentation: https://pandas.pydata.org/pandas-docs/stable/user_guide/indexing.html#returning-a-view-versus-a-copy\n",
      "  temp_df['prev3_avg'] = temp_df[['prev1_outcome', 'prev2_outcome', 'prev3_outcome']].apply(lambda x: np.nanmean(x), axis=1)\n",
      "/tmp/ipykernel_2765238/3243239086.py:16: SettingWithCopyWarning: \n",
      "A value is trying to be set on a copy of a slice from a DataFrame.\n",
      "Try using .loc[row_indexer,col_indexer] = value instead\n",
      "\n",
      "See the caveats in the documentation: https://pandas.pydata.org/pandas-docs/stable/user_guide/indexing.html#returning-a-view-versus-a-copy\n",
      "  temp_df['prev3_avg'] = temp_df[['prev1_outcome', 'prev2_outcome', 'prev3_outcome']].apply(lambda x: np.nanmean(x), axis=1)\n",
      "/tmp/ipykernel_2765238/3243239086.py:16: SettingWithCopyWarning: \n",
      "A value is trying to be set on a copy of a slice from a DataFrame.\n",
      "Try using .loc[row_indexer,col_indexer] = value instead\n",
      "\n",
      "See the caveats in the documentation: https://pandas.pydata.org/pandas-docs/stable/user_guide/indexing.html#returning-a-view-versus-a-copy\n",
      "  temp_df['prev3_avg'] = temp_df[['prev1_outcome', 'prev2_outcome', 'prev3_outcome']].apply(lambda x: np.nanmean(x), axis=1)\n",
      "/tmp/ipykernel_2765238/3243239086.py:16: SettingWithCopyWarning: \n",
      "A value is trying to be set on a copy of a slice from a DataFrame.\n",
      "Try using .loc[row_indexer,col_indexer] = value instead\n",
      "\n",
      "See the caveats in the documentation: https://pandas.pydata.org/pandas-docs/stable/user_guide/indexing.html#returning-a-view-versus-a-copy\n",
      "  temp_df['prev3_avg'] = temp_df[['prev1_outcome', 'prev2_outcome', 'prev3_outcome']].apply(lambda x: np.nanmean(x), axis=1)\n",
      "/tmp/ipykernel_2765238/3243239086.py:16: SettingWithCopyWarning: \n",
      "A value is trying to be set on a copy of a slice from a DataFrame.\n",
      "Try using .loc[row_indexer,col_indexer] = value instead\n",
      "\n",
      "See the caveats in the documentation: https://pandas.pydata.org/pandas-docs/stable/user_guide/indexing.html#returning-a-view-versus-a-copy\n",
      "  temp_df['prev3_avg'] = temp_df[['prev1_outcome', 'prev2_outcome', 'prev3_outcome']].apply(lambda x: np.nanmean(x), axis=1)\n",
      "/tmp/ipykernel_2765238/3243239086.py:16: SettingWithCopyWarning: \n",
      "A value is trying to be set on a copy of a slice from a DataFrame.\n",
      "Try using .loc[row_indexer,col_indexer] = value instead\n",
      "\n",
      "See the caveats in the documentation: https://pandas.pydata.org/pandas-docs/stable/user_guide/indexing.html#returning-a-view-versus-a-copy\n",
      "  temp_df['prev3_avg'] = temp_df[['prev1_outcome', 'prev2_outcome', 'prev3_outcome']].apply(lambda x: np.nanmean(x), axis=1)\n",
      "/tmp/ipykernel_2765238/3243239086.py:16: SettingWithCopyWarning: \n",
      "A value is trying to be set on a copy of a slice from a DataFrame.\n",
      "Try using .loc[row_indexer,col_indexer] = value instead\n",
      "\n",
      "See the caveats in the documentation: https://pandas.pydata.org/pandas-docs/stable/user_guide/indexing.html#returning-a-view-versus-a-copy\n",
      "  temp_df['prev3_avg'] = temp_df[['prev1_outcome', 'prev2_outcome', 'prev3_outcome']].apply(lambda x: np.nanmean(x), axis=1)\n",
      "/tmp/ipykernel_2765238/3243239086.py:16: SettingWithCopyWarning: \n",
      "A value is trying to be set on a copy of a slice from a DataFrame.\n",
      "Try using .loc[row_indexer,col_indexer] = value instead\n",
      "\n",
      "See the caveats in the documentation: https://pandas.pydata.org/pandas-docs/stable/user_guide/indexing.html#returning-a-view-versus-a-copy\n",
      "  temp_df['prev3_avg'] = temp_df[['prev1_outcome', 'prev2_outcome', 'prev3_outcome']].apply(lambda x: np.nanmean(x), axis=1)\n"
     ]
    }
   ],
   "source": [
    "last1_baseline_data = []\n",
    "last3_baseline_data = []\n",
    "for idx, row in val_df.iterrows():\n",
    "    outcomes_ts_df = get_outcomes_timeseries(row['time_ids'], row['outcomes'], row['infill_outcomes_mask'])\n",
    "    outcomes_ts_df_prev1 = get_ts_shifted_outcomes(outcomes_ts_df.copy(), shifts=[1])\n",
    "    outcomes_ts_df_prev1 = outcomes_ts_df_prev1.rename(columns={'outcome_shift_1': 'prev1_outcome'})\n",
    "    temp_df = outcomes_ts_df_prev1[(~outcomes_ts_df_prev1.outcome.isna()) & (~outcomes_ts_df_prev1.prev1_outcome.isna())]\n",
    "    last1_baseline_data.append(list(zip(temp_df['outcome'].to_list(), temp_df['prev1_outcome'].to_list())))\n",
    "    \n",
    "    outcomes_ts_df_prev3 = get_ts_shifted_outcomes(outcomes_ts_df.copy(), shifts=[1, 2, 3])\n",
    "    outcomes_ts_df_prev3 = outcomes_ts_df_prev3.rename(columns={'outcome_shift_1': 'prev1_outcome', 'outcome_shift_2': 'prev2_outcome', 'outcome_shift_3': 'prev3_outcome'})\n",
    "    temp_df = outcomes_ts_df_prev3[(~outcomes_ts_df_prev3.outcome.isna()) & (~outcomes_ts_df_prev3.prev1_outcome.isna() | \n",
    "                                                                             ~outcomes_ts_df_prev3.prev2_outcome.isna() | \n",
    "                                                                             ~outcomes_ts_df_prev3.prev3_outcome.isna())]\n",
    "    # average the prev1, prev2, prev3 outcomes. Exclude nan values from the average. Eg. If prev1 is nan, then average prev2 and prev3\n",
    "    temp_df['prev3_avg'] = temp_df[['prev1_outcome', 'prev2_outcome', 'prev3_outcome']].apply(lambda x: np.nanmean(x), axis=1)\n",
    "    last3_baseline_data.append(list(zip(temp_df['outcome'].to_list(), temp_df['prev3_avg'].to_list())))\n",
    "      "
   ]
  },
  {
   "cell_type": "code",
   "execution_count": 18,
   "metadata": {},
   "outputs": [],
   "source": [
    "# First compute within sequence Correlation for both baselines, i.e., correlation between the outcome and the previous outcome by combining all the sequences\n",
    "\n",
    "last1_baseline_data_flat = [item for sublist in last1_baseline_data for item in sublist]\n",
    "last3_baseline_data_flat = [item for sublist in last3_baseline_data for item in sublist]\n",
    "\n",
    "within_seq_metrics = {}\n",
    "\n",
    "pearsonr_last1 = pearsonr([item[0] for item in last1_baseline_data_flat], [item[1] for item in last1_baseline_data_flat])\n",
    "pearsonr_last3 = pearsonr([item[0] for item in last3_baseline_data_flat], [item[1] for item in last3_baseline_data_flat])\n",
    "\n",
    "mse_last1 = np.mean([(item[0] - item[1])**2 for item in last1_baseline_data_flat])\n",
    "mse_last3 = np.mean([(item[0] - item[1])**2 for item in last3_baseline_data_flat])\n",
    "\n",
    "smape_last1 = smape([item[0] for item in last1_baseline_data_flat], [item[1] for item in last1_baseline_data_flat])\n",
    "smape_last3 = smape([item[0] for item in last3_baseline_data_flat], [item[1] for item in last3_baseline_data_flat])\n",
    "\n",
    "within_seq_metrics['num_sequences'] = len(last1_baseline_data)\n",
    "within_seq_metrics['num_outcomes'] = len(last1_baseline_data_flat)\n",
    "within_seq_metrics['pearsonr_last1'] = round(pearsonr_last1.correlation, 3)\n",
    "within_seq_metrics['pearsonr_last1_pvalue'] = round(pearsonr_last1.pvalue, 3)\n",
    "within_seq_metrics['pearsonr_last3'] = round(pearsonr_last3.correlation, 3)\n",
    "within_seq_metrics['pearsonr_last3_pvalue'] = round(pearsonr_last3.pvalue, 3)\n",
    "within_seq_metrics['mse_last1'] = round(mse_last1, 3)\n",
    "within_seq_metrics['mse_last3'] = round(mse_last3, 3)\n",
    "within_seq_metrics['smape_last1'] = round(smape_last1, 3)\n",
    "within_seq_metrics['smape_last3'] = round(smape_last3, 3)\n"
   ]
  },
  {
   "cell_type": "code",
   "execution_count": 19,
   "metadata": {},
   "outputs": [
    {
     "name": "stdout",
     "output_type": "stream",
     "text": [
      "{'mse_last1': 0.366,\n",
      " 'mse_last3': 0.312,\n",
      " 'num_outcomes': 5642,\n",
      " 'num_sequences': 118,\n",
      " 'pearsonr_last1': 0.806,\n",
      " 'pearsonr_last1_pvalue': 0.0,\n",
      " 'pearsonr_last3': 0.826,\n",
      " 'pearsonr_last3_pvalue': 0.0,\n",
      " 'smape_last1': 0.19,\n",
      " 'smape_last3': 0.181}\n"
     ]
    }
   ],
   "source": [
    "pprint(within_seq_metrics)"
   ]
  },
  {
   "cell_type": "code",
   "execution_count": 20,
   "metadata": {},
   "outputs": [],
   "source": [
    "# Now compute the average the outcome and the previous outcome for each sequence and then compute the correlation between these averages\n",
    "last1_baseline_data_avg = [np.mean(sublist, axis=0) for sublist in last1_baseline_data] \n",
    "last3_baseline_data_avg = [np.mean(sublist, axis=0) for sublist in last3_baseline_data]\n",
    "\n",
    "between_seq_metrics = {}\n",
    "pearsonr_last1_avg = pearsonr([item[0] for item in last1_baseline_data_avg], [item[1] for item in last1_baseline_data_avg])\n",
    "pearsonr_last3_avg = pearsonr([item[0] for item in last3_baseline_data_avg], [item[1] for item in last3_baseline_data_avg])\n",
    "\n",
    "mse_last1_avg = np.mean([(item[0] - item[1])**2 for item in last1_baseline_data_avg])\n",
    "mse_last3_avg = np.mean([(item[0] - item[1])**2 for item in last3_baseline_data_avg])\n",
    "\n",
    "between_seq_metrics['num_sequences'] = len(last1_baseline_data)\n",
    "between_seq_metrics['num_outcomes'] = len(last1_baseline_data_avg)\n",
    "between_seq_metrics['pearsonr_last1'] = round(pearsonr_last1_avg.correlation, 3)\n",
    "between_seq_metrics['pearsonr_last1_pvalue'] = round(pearsonr_last1_avg.pvalue, 3)\n",
    "between_seq_metrics['pearsonr_last3'] = round(pearsonr_last3_avg.correlation, 3)\n",
    "between_seq_metrics['pearsonr_last3_pvalue'] = round(pearsonr_last3_avg.pvalue, 3)\n",
    "between_seq_metrics['mse_last1'] = round(mse_last1_avg, 3)\n",
    "between_seq_metrics['mse_last3'] = round(mse_last3_avg, 3)"
   ]
  },
  {
   "cell_type": "code",
   "execution_count": 21,
   "metadata": {},
   "outputs": [
    {
     "name": "stdout",
     "output_type": "stream",
     "text": [
      "{'mse_last1': 0.003,\n",
      " 'mse_last3': 0.003,\n",
      " 'num_outcomes': 118,\n",
      " 'num_sequences': 118,\n",
      " 'pearsonr_last1': 0.997,\n",
      " 'pearsonr_last1_pvalue': 0.0,\n",
      " 'pearsonr_last3': 0.997,\n",
      " 'pearsonr_last3_pvalue': 0.0}\n"
     ]
    }
   ],
   "source": [
    "pprint (between_seq_metrics)"
   ]
  },
  {
   "cell_type": "code",
   "execution_count": 22,
   "metadata": {},
   "outputs": [
    {
     "name": "stderr",
     "output_type": "stream",
     "text": [
      "/cronus_data/conda_envs/emi/lib/python3.9/site-packages/scipy/stats/_stats_py.py:4781: ConstantInputWarning: An input array is constant; the correlation coefficient is not defined.\n",
      "  warnings.warn(stats.ConstantInputWarning(msg))\n"
     ]
    },
    {
     "name": "stdout",
     "output_type": "stream",
     "text": [
      "{'mse_last1': 0.378,\n",
      " 'mse_last3': 0.319,\n",
      " 'num_sequences': 118,\n",
      " 'pearsonr_last1': 0.253,\n",
      " 'pearsonr_last1_pvalue': 0.0,\n",
      " 'pearsonr_last3': 0.235,\n",
      " 'pearsonr_last3_pvalue': 0.0,\n",
      " 'smape_last1': 0.196,\n",
      " 'smape_last3': 0.186}\n"
     ]
    }
   ],
   "source": [
    "# Compute the between sequence correlation a bit differently. Compute the correlation between the outcome and previous day's outcome for each sequence and then average the correlations.\n",
    "# Similarly, compute the mse for each sequence and then average the mse values.\n",
    "between_seq_metrics2 = {}\n",
    "\n",
    "pearsonr_last1_seq = []\n",
    "for sublist in last1_baseline_data:\n",
    "    temp = np.array(sublist)\n",
    "    x = temp[:, 0]\n",
    "    y = temp[:, 1]\n",
    "    pearsonr_last1_seq.append(pearsonr(x, y))\n",
    "    \n",
    "pearsonr_last3_seq = []\n",
    "for sublist in last3_baseline_data:\n",
    "    temp = np.array(sublist)\n",
    "    x = temp[:, 0]\n",
    "    y = temp[:, 1]\n",
    "    pearsonr_last3_seq.append(pearsonr(x, y))\n",
    "\n",
    "mse_last1_seq = [np.mean([(item[0] - item[1])**2 for item in sublist]) for sublist in last1_baseline_data]\n",
    "mse_last3_seq = [np.mean([(item[0] - item[1])**2 for item in sublist]) for sublist in last3_baseline_data]\n",
    "\n",
    "smape_last1_seq = [smape([item[0] for item in sublist], [item[1] for item in sublist]) for sublist in last1_baseline_data]\n",
    "smape_last3_seq = [smape([item[0] for item in sublist], [item[1] for item in sublist]) for sublist in last3_baseline_data]\n",
    "\n",
    "between_seq_metrics2['num_sequences'] = len(last1_baseline_data)\n",
    "\n",
    "between_seq_metrics2['pearsonr_last1'] = round(np.nanmean([item.correlation for item in pearsonr_last1_seq]), 3)\n",
    "between_seq_metrics2['pearsonr_last1_pvalue'] = round(hmean([item.pvalue for item in pearsonr_last1_seq if np.isnan(item.pvalue)==False]), 3)\n",
    "\n",
    "between_seq_metrics2['pearsonr_last3'] = round(np.nanmean([item.correlation for item in pearsonr_last3_seq]), 3)\n",
    "between_seq_metrics2['pearsonr_last3_pvalue'] = round(hmean([item.pvalue for item in pearsonr_last3_seq if np.isnan(item.pvalue)==False]), 3)\n",
    "\n",
    "between_seq_metrics2['mse_last1'] = round(np.mean(mse_last1_seq), 3)\n",
    "between_seq_metrics2['mse_last3'] = round(np.mean(mse_last3_seq), 3)\n",
    "\n",
    "between_seq_metrics2['smape_last1'] = round(np.mean(smape_last1_seq), 3)\n",
    "between_seq_metrics2['smape_last3'] = round(np.mean(smape_last3_seq), 3)\n",
    "\n",
    "pprint(between_seq_metrics2)\n"
   ]
  },
  {
   "cell_type": "code",
   "execution_count": 15,
   "metadata": {},
   "outputs": [
    {
     "data": {
      "image/png": "[encoded data removed]",
      "text/plain": [
       "<Figure size 500x500 with 1 Axes>"
      ]
     },
     "metadata": {},
     "output_type": "display_data"
    }
   ],
   "source": [
    "# Cumulative density function for the following series: [item.correlation for item in pearsonr_last1_seq]\n",
    "fig, ax = plt.subplots(figsize=(5, 5))\n",
    "plt.hist([item.correlation for item in pearsonr_last1_seq], bins=20, cumulative=True, density=True, histtype='step')\n",
    "plt.xlabel('Pearson Correlation Values')\n",
    "plt.ylabel('CDF')\n",
    "plt.title('CDF of Pearson Correlation Values for Last1 Baseline\\n(N={})'.format(len(pearsonr_last1_seq)))\n",
    "plt.show()"
   ]
  },
  {
   "cell_type": "code",
   "execution_count": 16,
   "metadata": {},
   "outputs": [
    {
     "data": {
      "image/png": "[encoded data removed]",
      "text/plain": [
       "<Figure size 500x500 with 1 Axes>"
      ]
     },
     "metadata": {},
     "output_type": "display_data"
    }
   ],
   "source": [
    "# Same for the last3 baseline\n",
    "fig, ax = plt.subplots(figsize=(5, 5))\n",
    "plt.hist([item.correlation for item in pearsonr_last3_seq], bins=20, cumulative=True, density=True, histtype='step')\n",
    "plt.xlabel('Pearson Correlation Values')\n",
    "plt.ylabel('CDF')\n",
    "plt.title('CDF of Pearson Correlation Values for Last3 Baseline\\n(N={})'.format(len(pearsonr_last3_seq)))\n",
    "plt.show()"
   ]
  },
  {
   "cell_type": "markdown",
   "metadata": {},
   "source": [
    "## Univariate Transformer Model Forecasting Analysis"
   ]
  },
  {
   "cell_type": "code",
   "execution_count": 42,
   "metadata": {},
   "outputs": [],
   "source": [
    "import pickle\n",
    "from eval import within_seq_metric\n",
    "import torch"
   ]
  },
  {
   "cell_type": "code",
   "execution_count": 73,
   "metadata": {},
   "outputs": [
    {
     "data": {
      "text/plain": [
       "dict_keys(['train', 'val', 'test'])"
      ]
     },
     "execution_count": 73,
     "metadata": {},
     "output_type": "execute_result"
    }
   ],
   "source": [
    "pred_path = \"/cronus_data/avirinchipur/ptsd_stop/forecasting/runs_1_ahead_only/1_day_ahead_sr_PCL/495b8cb32ffe4dd9b010033c113c5ecc/preds.pkl\"\n",
    "# CONFIG: trns_3lyr1hds_lr1e-2_wd5e-3_pe_1day_todayPCL_max90_do0.1_opdo_0.15\n",
    "pred_dict = pickle.load(open(pred_path, 'rb'))\n",
    "pred_dict.keys()"
   ]
  },
  {
   "cell_type": "code",
   "execution_count": 74,
   "metadata": {},
   "outputs": [
    {
     "data": {
      "text/plain": [
       "dict_keys(['preds', 'outcomes', 'infill_outcomes_mask', 'infill_lang_mask'])"
      ]
     },
     "execution_count": 74,
     "metadata": {},
     "output_type": "execute_result"
    }
   ],
   "source": [
    "pred_dict['val'].keys()"
   ]
  },
  {
   "cell_type": "code",
   "execution_count": 93,
   "metadata": {},
   "outputs": [],
   "source": [
    "# Get the predictions from the last epoch\n",
    "EPOCH = -1\n",
    "preds = pred_dict['val']['preds'][EPOCH]\n",
    "outcomes = pred_dict['val']['outcomes'][EPOCH]\n",
    "mask = pred_dict['val']['infill_outcomes_mask'][EPOCH]\n",
    "\n",
    "max_timesteps = max([pred.shape[1] for pred in preds])\n",
    "for batch_idx in range(len(preds)):\n",
    "    if preds[batch_idx].shape[1] < max_timesteps:\n",
    "        zero_pads = torch.zeros(preds[batch_idx].shape[0], max_timesteps - preds[batch_idx].shape[1], preds[batch_idx].shape[2])\n",
    "        preds[batch_idx] = torch.cat([preds[batch_idx], zero_pads], dim=1)\n",
    "        outcomes[batch_idx] = torch.cat([outcomes[batch_idx], zero_pads], dim=1)\n",
    "        mask[batch_idx] = torch.cat([mask[batch_idx], zero_pads], dim=1)\n",
    "preds = torch.cat(preds, dim=0).numpy()\n",
    "outcomes = torch.cat(outcomes, dim=0).numpy()\n",
    "mask = torch.cat(mask, dim=0).numpy()\n",
    "seq_id = range(preds.shape[0])"
   ]
  },
  {
   "cell_type": "code",
   "execution_count": 94,
   "metadata": {},
   "outputs": [
    {
     "data": {
      "text/plain": [
       "((22, 90, 1), (22, 90, 1), (22, 90, 1))"
      ]
     },
     "execution_count": 94,
     "metadata": {},
     "output_type": "execute_result"
    }
   ],
   "source": [
    "preds.shape, outcomes.shape, mask.shape"
   ]
  },
  {
   "cell_type": "code",
   "execution_count": 95,
   "metadata": {},
   "outputs": [
    {
     "data": {
      "text/plain": [
       "(array([1.9135073, 1.9135073, 1.9135073, 1.9135073, 1.9135073, 1.9135073,\n",
       "        1.9135073, 1.9135073, 1.9135073, 1.9135073, 1.9135073, 1.9135073,\n",
       "        1.9135073, 1.9135073, 1.9135073, 1.9135073, 1.9135073, 1.9135073,\n",
       "        1.9135073, 1.9135073, 1.9135073, 1.9135073, 1.9135073, 1.9135073,\n",
       "        1.9135073, 1.9135073, 1.9135073, 1.9135073, 1.9135073, 1.9135073,\n",
       "        1.9135073, 1.9135073, 1.9135073, 1.9135073, 1.9135073, 1.9135073,\n",
       "        1.9135073, 1.9135073, 1.9135073, 1.9135073, 1.9135073, 1.9135073,\n",
       "        1.9135073, 1.9135073, 1.9135073, 1.9135073, 1.9135073, 1.9135073,\n",
       "        1.9135073, 1.9135073, 1.9135073, 1.9135073, 1.9135073, 1.9135073,\n",
       "        1.9135073, 1.9135073, 1.9135073, 1.9135073, 1.9135073, 1.9135073,\n",
       "        1.9135073, 1.9135073, 1.9135073, 1.9135073, 1.9135073, 1.9135073,\n",
       "        1.9135073, 1.9135073, 1.9135073, 1.9135073, 1.9135073, 1.9135073,\n",
       "        1.9135073, 1.9135073, 1.9135073, 1.9135073, 1.9135073, 1.9135073,\n",
       "        1.9135073, 1.9135073, 1.9135073, 1.9135073, 1.9135073, 1.9135073,\n",
       "        1.9135073, 1.9135073, 1.9135073, 1.9135073, 1.9135073, 1.9135073],\n",
       "       dtype=float32),\n",
       " array([1.5  , 1.625, 0.   , 0.   , 0.   , 0.   , 0.   , 0.   , 1.25 ,\n",
       "        1.5  , 0.   , 0.   , 0.   , 0.   , 0.   , 1.375, 0.   , 0.   ,\n",
       "        1.625, 0.   , 0.   , 0.   , 0.   , 1.375, 0.   , 0.   , 1.875,\n",
       "        0.   , 0.   , 1.25 , 1.25 , 0.   , 0.   , 1.625, 1.5  , 1.125,\n",
       "        0.   , 0.   , 0.   , 0.   , 1.5  , 1.75 , 1.625, 0.   , 0.   ,\n",
       "        0.   , 0.   , 0.   , 0.   , 1.375, 0.   , 0.   , 0.   , 0.   ,\n",
       "        0.   , 0.   , 0.   , 1.125, 1.125, 0.   , 0.   , 1.375, 1.125,\n",
       "        1.25 , 0.   , 0.   , 0.   , 0.   , 0.   , 1.125, 1.25 , 1.25 ,\n",
       "        1.125, 0.   , 0.   , 1.   , 1.125, 1.125, 0.   , 0.   , 1.25 ,\n",
       "        1.   , 2.125, 1.5  , 1.   , 0.   , 0.   , 1.25 , 1.   , 1.125],\n",
       "       dtype=float32))"
      ]
     },
     "execution_count": 95,
     "metadata": {},
     "output_type": "execute_result"
    }
   ],
   "source": [
    "IDX=1\n",
    "# preds[IDX][mask[IDX]==1], outcomes[IDX][mask[IDX]==1]\n",
    "preds[IDX].reshape(-1, ), outcomes[IDX].reshape(-1, )"
   ]
  },
  {
   "cell_type": "code",
   "execution_count": 28,
   "metadata": {},
   "outputs": [],
   "source": [
    "within_seq_metrics_sr_mse = within_seq_metric(\"mse\", seq_ids=seq_id, preds=preds, labels=outcomes, outcome_masks=mask)\n",
    "within_seq_metrics_sr_smape = within_seq_metric(\"smape\", seq_ids=seq_id, preds=preds, labels=outcomes, outcome_masks=mask)\n",
    "within_seq_metrics_sr_pearsonr = within_seq_metric(\"pearsonr\", seq_ids=seq_id, preds=preds, labels=outcomes, outcome_masks=mask)"
   ]
  },
  {
   "cell_type": "code",
   "execution_count": 29,
   "metadata": {},
   "outputs": [
    {
     "data": {
      "text/plain": [
       "(0.6483063515689638, 0.313558670381705, 0.019505013412526494)"
      ]
     },
     "execution_count": 29,
     "metadata": {},
     "output_type": "execute_result"
    }
   ],
   "source": [
    "within_seq_metrics_sr_mse[\"mean\"], within_seq_metrics_sr_smape[\"mean\"], within_seq_metrics_sr_pearsonr[\"mean\"]"
   ]
  },
  {
   "cell_type": "code",
   "execution_count": 30,
   "metadata": {},
   "outputs": [
    {
     "data": {
      "text/plain": [
       "(0.59713554, 0.314508855342865, 0.06366507980047643)"
      ]
     },
     "execution_count": 30,
     "metadata": {},
     "output_type": "execute_result"
    }
   ],
   "source": [
    "within_seq_metrics_sr_mse[\"median\"], within_seq_metrics_sr_smape[\"median\"], within_seq_metrics_sr_pearsonr[\"median\"]"
   ]
  },
  {
   "cell_type": "code",
   "execution_count": 31,
   "metadata": {},
   "outputs": [
    {
     "name": "stdout",
     "output_type": "stream",
     "text": [
      "2.0488968392213187\n"
     ]
    }
   ],
   "source": [
    "means = []\n",
    "for i in range(outcomes.shape[0]):\n",
    "    means.append(outcomes[i][mask[i]==1].mean())\n",
    "print (sum(means)/len(means))"
   ]
  },
  {
   "cell_type": "markdown",
   "metadata": {},
   "source": [
    "## Language Based Transformer model Forecasting Analysis"
   ]
  },
  {
   "cell_type": "code",
   "execution_count": 28,
   "metadata": {},
   "outputs": [
    {
     "data": {
      "text/plain": [
       "dict_keys(['train', 'val', 'test'])"
      ]
     },
     "execution_count": 28,
     "metadata": {},
     "output_type": "execute_result"
    }
   ],
   "source": [
    "pred_path = \"/cronus_data/avirinchipur/ptsd_stop/forecasting/runs_1_ahead_only/1_day_ahead/62feef67d8a54accb77b383ba3ec3f88/preds.pkl\"\n",
    "# CONFIG: trns_3lyr8hds_lr3e-4_wd1e-2_pe_1day_rpca64robaL11_max90_do0.1_opdo_0.1\n",
    "pred_dict = pickle.load(open(pred_path, 'rb'))\n",
    "\n",
    "pred_dict.keys()"
   ]
  },
  {
   "cell_type": "code",
   "execution_count": 29,
   "metadata": {},
   "outputs": [],
   "source": [
    "# Get the predictions from the last epoch\n",
    "EPOCH = -1\n",
    "preds = pred_dict['val']['preds'][EPOCH]\n",
    "outcomes = pred_dict['val']['outcomes'][EPOCH]\n",
    "mask = pred_dict['val']['infill_outcomes_mask'][EPOCH]\n",
    "\n",
    "max_timesteps = max([pred.shape[1] for pred in preds])\n",
    "for batch_idx in range(len(preds)):\n",
    "    if preds[batch_idx].shape[1] < max_timesteps:\n",
    "        zero_pads = torch.zeros(preds[batch_idx].shape[0], max_timesteps - preds[batch_idx].shape[1], preds[batch_idx].shape[2])\n",
    "        preds[batch_idx] = torch.cat([preds[batch_idx], zero_pads], dim=1)\n",
    "        outcomes[batch_idx] = torch.cat([outcomes[batch_idx], zero_pads], dim=1)\n",
    "        mask[batch_idx] = torch.cat([mask[batch_idx], zero_pads], dim=1)\n",
    "preds = torch.cat(preds, dim=0).numpy()\n",
    "outcomes = torch.cat(outcomes, dim=0).numpy()\n",
    "mask = torch.cat(mask, dim=0).numpy()\n",
    "seq_id = range(preds.shape[0])"
   ]
  },
  {
   "cell_type": "code",
   "execution_count": 30,
   "metadata": {},
   "outputs": [
    {
     "data": {
      "text/plain": [
       "((22, 90, 1), (22, 90, 1), (22, 90, 1))"
      ]
     },
     "execution_count": 30,
     "metadata": {},
     "output_type": "execute_result"
    }
   ],
   "source": [
    "preds.shape, outcomes.shape, mask.shape"
   ]
  },
  {
   "cell_type": "code",
   "execution_count": 41,
   "metadata": {},
   "outputs": [
    {
     "data": {
      "text/plain": [
       "(array([3.533716  , 2.596331  , 1.8414134 , 1.6874374 , 1.9828278 ,\n",
       "        2.1228154 , 1.8566581 , 2.0797765 , 1.9839393 , 1.696215  ,\n",
       "        2.0236125 , 2.031986  , 1.7578269 , 1.8662194 , 1.7333511 ,\n",
       "        1.7430755 , 1.6706219 , 1.7222781 , 1.99562   , 1.7595446 ,\n",
       "        1.8377098 , 1.808729  , 1.740755  , 1.8948921 , 1.9082593 ,\n",
       "        1.6226968 , 1.7732283 , 1.37792   , 1.4938092 , 1.572729  ,\n",
       "        1.5401582 , 1.5482643 , 1.5554265 , 1.670083  , 1.6452016 ,\n",
       "        1.5891438 , 1.717217  , 1.7337536 , 1.6694287 , 1.0912808 ,\n",
       "        1.0491267 , 1.3208672 , 1.3278825 , 1.2736276 , 1.301498  ,\n",
       "        1.324557  , 1.2066897 , 1.3234512 , 1.4259608 , 1.5038141 ,\n",
       "        1.3988682 , 1.0743399 , 1.0968844 , 1.0911646 , 1.3319117 ,\n",
       "        1.3801936 , 1.3481673 , 1.0275066 , 0.8294541 , 0.81588185,\n",
       "        0.94972473, 1.1978372 , 1.5189346 , 1.3559071 , 1.4149032 ,\n",
       "        1.3186059 , 1.4638044 , 1.3112178 , 1.2486062 , 1.1226166 ,\n",
       "        1.085983  , 1.0989414 , 1.1716046 , 1.0283542 , 1.0433363 ,\n",
       "        1.1162243 , 1.2551187 , 1.1459008 , 1.0823867 , 0.96849227,\n",
       "        1.336593  , 1.316361  , 1.2940944 , 1.2172172 , 1.4675741 ,\n",
       "        1.5072927 , 1.4206678 , 1.5026363 , 1.0863827 , 1.0964404 ],\n",
       "       dtype=float32),\n",
       " array([1.375, 1.   , 1.   , 1.25 , 1.75 , 1.375, 1.5  , 2.25 , 1.25 ,\n",
       "        1.5  , 1.125, 1.625, 1.125, 1.5  , 0.   , 0.   , 1.125, 1.25 ,\n",
       "        1.5  , 1.625, 1.25 , 0.   , 0.   , 0.   , 0.   , 0.   , 0.   ,\n",
       "        0.   , 0.   , 1.   , 0.   , 0.   , 0.   , 0.   , 0.   , 0.   ,\n",
       "        0.   , 0.   , 0.   , 0.   , 0.   , 0.   , 0.   , 0.   , 0.   ,\n",
       "        0.   , 0.   , 0.   , 0.   , 0.   , 1.   , 0.   , 0.   , 0.   ,\n",
       "        1.625, 1.375, 1.375, 0.   , 0.   , 0.   , 0.   , 1.375, 1.125,\n",
       "        0.   , 0.   , 0.   , 0.   , 0.   , 1.125, 1.25 , 1.25 , 0.   ,\n",
       "        0.   , 0.   , 0.   , 0.   , 0.   , 0.   , 0.   , 0.   , 0.   ,\n",
       "        0.   , 0.   , 1.25 , 0.   , 0.   , 0.   , 0.   , 1.375, 0.   ],\n",
       "       dtype=float32))"
      ]
     },
     "execution_count": 41,
     "metadata": {},
     "output_type": "execute_result"
    }
   ],
   "source": [
    "IDX=2\n",
    "# preds[IDX][mask[IDX]==1], outcomes[IDX][mask[IDX]==1]\n",
    "preds[IDX].reshape(-1, ), outcomes[IDX].reshape(-1, )"
   ]
  },
  {
   "cell_type": "code",
   "execution_count": 16,
   "metadata": {},
   "outputs": [],
   "source": [
    "within_seq_metrics_sr_mse = within_seq_metric(\"mse\", seq_ids=seq_id, preds=preds, labels=outcomes, outcome_masks=mask)\n",
    "within_seq_metrics_sr_smape = within_seq_metric(\"smape\", seq_ids=seq_id, preds=preds, labels=outcomes, outcome_masks=mask)\n",
    "within_seq_metrics_sr_pearsonr = within_seq_metric(\"pearsonr\", seq_ids=seq_id, preds=preds, labels=outcomes, outcome_masks=mask)"
   ]
  },
  {
   "cell_type": "code",
   "execution_count": 17,
   "metadata": {},
   "outputs": [
    {
     "data": {
      "text/plain": [
       "(0.8012269017371264, 0.33369048752567987, 0.05335034962629875)"
      ]
     },
     "execution_count": 17,
     "metadata": {},
     "output_type": "execute_result"
    }
   ],
   "source": [
    "within_seq_metrics_sr_mse[\"mean\"], within_seq_metrics_sr_smape[\"mean\"], within_seq_metrics_sr_pearsonr[\"mean\"]"
   ]
  },
  {
   "cell_type": "code",
   "execution_count": 18,
   "metadata": {},
   "outputs": [
    {
     "data": {
      "text/plain": [
       "(0.75560683, 0.32721443474292755, 0.027467731202179563)"
      ]
     },
     "execution_count": 18,
     "metadata": {},
     "output_type": "execute_result"
    }
   ],
   "source": [
    "within_seq_metrics_sr_mse[\"median\"], within_seq_metrics_sr_smape[\"median\"], within_seq_metrics_sr_pearsonr[\"median\"]"
   ]
  },
  {
   "cell_type": "code",
   "execution_count": 18,
   "metadata": {},
   "outputs": [
    {
     "name": "stdout",
     "output_type": "stream",
     "text": [
      "2.2171019369905647\n"
     ]
    }
   ],
   "source": [
    "means = []\n",
    "for i in range(outcomes.shape[0]):\n",
    "    means.append(outcomes[i][mask[i]==1].mean())\n",
    "print (sum(means)/len(means))"
   ]
  },
  {
   "cell_type": "markdown",
   "metadata": {},
   "source": [
    "## Univariate baseline of using today's PCL as the forecast"
   ]
  },
  {
   "cell_type": "code",
   "execution_count": 19,
   "metadata": {},
   "outputs": [
    {
     "name": "stdout",
     "output_type": "stream",
     "text": [
      "Adding directory to path: /home/avirinchipur/research/LongitudeML\n"
     ]
    }
   ],
   "source": [
    "from utils import add_to_path\n",
    "add_to_path(\"/home/avirinchipur/research/LongitudeML/examples/ptsd_stop_forecasting/PCL_forecast_baselines.ipynb\")\n",
    "\n",
    "from datasets import load_from_disk\n",
    "from src import get_datasetDict\n",
    "\n",
    "import numpy as np"
   ]
  },
  {
   "cell_type": "code",
   "execution_count": 20,
   "metadata": {},
   "outputs": [],
   "source": [
    "data_dir = \"/cronus_data/avirinchipur/ptsd_stop/forecasting/datasets/todayPCL_selfreport_PCL_1_days_ahead_max90days_v3_40combined_5fold/\"\n",
    "data = load_from_disk(data_dir)"
   ]
  },
  {
   "cell_type": "code",
   "execution_count": 21,
   "metadata": {},
   "outputs": [
    {
     "data": {
      "application/vnd.jupyter.widget-view+json": {
       "model_id": "049863f52bd44da7ba44e4e49590cd2d",
       "version_major": 2,
       "version_minor": 0
      },
      "text/plain": [
       "Filter:   0%|          | 0/118 [00:00<?, ? examples/s]"
      ]
     },
     "metadata": {},
     "output_type": "display_data"
    },
    {
     "data": {
      "application/vnd.jupyter.widget-view+json": {
       "model_id": "76c0c7769dd043d2a6c15c288a53e49d",
       "version_major": 2,
       "version_minor": 0
      },
      "text/plain": [
       "Filter:   0%|          | 0/118 [00:00<?, ? examples/s]"
      ]
     },
     "metadata": {},
     "output_type": "display_data"
    },
    {
     "data": {
      "text/plain": [
       "DatasetDict({\n",
       "    train: Dataset({\n",
       "        features: ['seq_id', 'embeddings', 'num_tokens', 'time_ids', 'infill_lang_mask', 'outcomes', 'infill_outcomes_mask'],\n",
       "        num_rows: 96\n",
       "    })\n",
       "    val: Dataset({\n",
       "        features: ['seq_id', 'embeddings', 'num_tokens', 'time_ids', 'infill_lang_mask', 'outcomes', 'infill_outcomes_mask'],\n",
       "        num_rows: 22\n",
       "    })\n",
       "})"
      ]
     },
     "execution_count": 21,
     "metadata": {},
     "output_type": "execute_result"
    }
   ],
   "source": [
    "datasetDict = get_datasetDict(train_data=data, val_folds=[0])\n",
    "datasetDict"
   ]
  },
  {
   "cell_type": "code",
   "execution_count": 22,
   "metadata": {},
   "outputs": [],
   "source": [
    "preds = datasetDict['val']['embeddings']\n",
    "outcomes = datasetDict['val']['outcomes']\n",
    "masks = datasetDict['val']['infill_outcomes_mask']\n",
    "max_timesteps = max([np.array(pred).shape[0] for pred in preds])\n",
    "\n",
    "for idx in range(len(preds)):\n",
    "    pred = np.array(preds[idx])\n",
    "    outcome = np.array(outcomes[idx])\n",
    "    mask = np.array(masks[idx])\n",
    "    # reshape to (1, timesteps, num_outcomes) \n",
    "    pred = pred.reshape(1, pred.shape[0], pred.shape[1])\n",
    "    outcome = outcome.reshape(1, outcome.shape[0], outcome.shape[1])\n",
    "    mask = mask.reshape(1, mask.shape[0], mask.shape[1]) \n",
    "    if pred.shape[1] < max_timesteps:\n",
    "        zero_pads = np.zeros((1, max_timesteps - pred.shape[1], pred.shape[2]))\n",
    "        pred = np.concatenate([pred, zero_pads], axis=1)\n",
    "        outcome = np.concatenate([outcome, zero_pads], axis=1)\n",
    "        mask = np.concatenate([mask, zero_pads], axis=1)\n",
    "    preds[idx] = pred\n",
    "    outcomes[idx] = outcome\n",
    "    masks[idx] = mask\n",
    "\n",
    "preds = np.concatenate(preds, axis=0)\n",
    "outcomes = np.concatenate(outcomes, axis=0)\n",
    "masks = np.concatenate(masks, axis=0)\n",
    "        "
   ]
  },
  {
   "cell_type": "code",
   "execution_count": 23,
   "metadata": {},
   "outputs": [
    {
     "data": {
      "text/plain": [
       "((22, 90, 1), (22, 90, 1), (22, 90, 1))"
      ]
     },
     "execution_count": 23,
     "metadata": {},
     "output_type": "execute_result"
    }
   ],
   "source": [
    "preds.shape, outcomes.shape, masks.shape"
   ]
  },
  {
   "cell_type": "code",
   "execution_count": 24,
   "metadata": {},
   "outputs": [],
   "source": [
    "within_seq_metrics_sr_mse = within_seq_metric(\"mse\", seq_ids=seq_id, preds=preds, labels=outcomes, outcome_masks=masks)\n",
    "within_seq_metrics_sr_smape = within_seq_metric(\"smape\", seq_ids=seq_id, preds=preds, labels=outcomes, outcome_masks=masks)\n",
    "within_seq_metrics_sr_pearsonr = within_seq_metric(\"pearsonr\", seq_ids=seq_id, preds=preds, labels=outcomes, outcome_masks=masks)"
   ]
  },
  {
   "cell_type": "code",
   "execution_count": 25,
   "metadata": {},
   "outputs": [
    {
     "name": "stdout",
     "output_type": "stream",
     "text": [
      "0.717486195222183 0.3016922769367519 0.227537103756738\n",
      "0.5735490743758036 0.25372796958184324 0.20999837285350684\n"
     ]
    }
   ],
   "source": [
    "print (within_seq_metrics_sr_mse[\"mean\"], within_seq_metrics_sr_smape[\"mean\"], within_seq_metrics_sr_pearsonr[\"mean\"])\n",
    "print (within_seq_metrics_sr_mse[\"median\"], within_seq_metrics_sr_smape[\"median\"], within_seq_metrics_sr_pearsonr[\"median\"])"
   ]
  },
  {
   "cell_type": "code",
   "execution_count": 26,
   "metadata": {},
   "outputs": [
    {
     "name": "stdout",
     "output_type": "stream",
     "text": [
      "2.1471421368918486\n"
     ]
    }
   ],
   "source": [
    "means = []\n",
    "for i in range(preds.shape[0]):\n",
    "    means.append(preds[i][masks[i]==1].mean())\n",
    "print (sum(means)/len(means))"
   ]
  },
  {
   "cell_type": "markdown",
   "metadata": {},
   "source": [
    "# V4 data"
   ]
  },
  {
   "cell_type": "markdown",
   "metadata": {},
   "source": [
    "## Univariate baseline of using today's PCL as the forecast: V4"
   ]
  },
  {
   "cell_type": "code",
   "execution_count": 4,
   "metadata": {},
   "outputs": [],
   "source": [
    "# data_dir = \"/cronus_data/avirinchipur/ptsd_stop/forecasting/datasets/PCLsubscales_selfreport_noNULLs_roberta_base_L11_rpca64_merged_PCL_1_days_ahead_max90days_v4_40combined_5fold\"\n",
    "data_dir = \"/cronus_data/avirinchipur/ptsd_stop/forecasting/datasets/PCLsubscales_selfreport_noNULLs_roberta_base_L11_rpca64_hypLexNormalized_wtcSubscalesNormalized_merged_PCL_1_days_ahead_max60days_v4_40combined_5fold\"\n",
    "data = load_from_disk(data_dir)"
   ]
  },
  {
   "cell_type": "code",
   "execution_count": 5,
   "metadata": {},
   "outputs": [
    {
     "data": {
      "application/vnd.jupyter.widget-view+json": {
       "model_id": "24f41d669032434194fe8b56fff84026",
       "version_major": 2,
       "version_minor": 0
      },
      "text/plain": [
       "Filter:   0%|          | 0/174 [00:00<?, ? examples/s]"
      ]
     },
     "metadata": {},
     "output_type": "display_data"
    },
    {
     "data": {
      "application/vnd.jupyter.widget-view+json": {
       "model_id": "9e605f32b73e4050b908b0a3b1b0535c",
       "version_major": 2,
       "version_minor": 0
      },
      "text/plain": [
       "Filter:   0%|          | 0/174 [00:00<?, ? examples/s]"
      ]
     },
     "metadata": {},
     "output_type": "display_data"
    },
    {
     "data": {
      "text/plain": [
       "DatasetDict({\n",
       "    train: Dataset({\n",
       "        features: ['seq_id', 'time_ids', 'embeddings_subscales', 'mask_subscales', 'embeddings_lang', 'mask_lang', 'embeddings_hypLex', 'mask_hypLex', 'embeddings_wtcSubscales', 'mask_wtcSubscales', 'outcomes', 'outcomes_mask'],\n",
       "        num_rows: 139\n",
       "    })\n",
       "    val: Dataset({\n",
       "        features: ['seq_id', 'time_ids', 'embeddings_subscales', 'mask_subscales', 'embeddings_lang', 'mask_lang', 'embeddings_hypLex', 'mask_hypLex', 'embeddings_wtcSubscales', 'mask_wtcSubscales', 'outcomes', 'outcomes_mask'],\n",
       "        num_rows: 35\n",
       "    })\n",
       "})"
      ]
     },
     "execution_count": 5,
     "metadata": {},
     "output_type": "execute_result"
    }
   ],
   "source": [
    "datasetDict = get_datasetDict(train_data=data, val_folds=[0])\n",
    "datasetDict"
   ]
  },
  {
   "cell_type": "code",
   "execution_count": 6,
   "metadata": {},
   "outputs": [],
   "source": [
    "preds = datasetDict['val']['embeddings_subscales']\n",
    "outcomes = datasetDict['val']['outcomes']"
   ]
  },
  {
   "cell_type": "code",
   "execution_count": 11,
   "metadata": {},
   "outputs": [],
   "source": [
    "preds = datasetDict['val']['embeddings_subscales']\n",
    "outcomes = datasetDict['val']['outcomes']\n",
    "masks = datasetDict['val']['outcomes_mask']\n",
    "max_timesteps = max([np.array(pred).shape[0] for pred in preds])\n",
    "seq_ids = datasetDict['val']['seq_id']\n",
    "\n",
    "for idx in range(len(preds)):\n",
    "    pred = np.array(preds[idx]).mean(-1).reshape(-1, 1)*4 + 1\n",
    "    outcome = np.array(outcomes[idx])\n",
    "    mask = np.array(masks[idx])\n",
    "    # reshape to (1, timesteps, num_outcomes) \n",
    "    pred = pred.reshape(1, pred.shape[0], pred.shape[1])\n",
    "    outcome = outcome.reshape(1, outcome.shape[0], outcome.shape[1])\n",
    "    mask = mask.reshape(1, mask.shape[0], mask.shape[1]) \n",
    "    if pred.shape[1] < max_timesteps:\n",
    "        zero_pads = np.zeros((1, max_timesteps - pred.shape[1], pred.shape[2]))\n",
    "        pred = np.concatenate([pred, zero_pads], axis=1)\n",
    "        outcome = np.concatenate([outcome, zero_pads], axis=1)\n",
    "        mask = np.concatenate([mask, zero_pads], axis=1)\n",
    "    preds[idx] = pred\n",
    "    outcomes[idx] = outcome\n",
    "    masks[idx] = mask\n",
    "\n",
    "preds = np.concatenate(preds, axis=0)\n",
    "outcomes = np.concatenate(outcomes, axis=0)\n",
    "masks = np.concatenate(masks, axis=0)\n",
    "        "
   ]
  },
  {
   "cell_type": "code",
   "execution_count": 12,
   "metadata": {},
   "outputs": [
    {
     "data": {
      "text/plain": [
       "((35, 60, 1), (35, 60, 1), (35, 60, 1))"
      ]
     },
     "execution_count": 12,
     "metadata": {},
     "output_type": "execute_result"
    }
   ],
   "source": [
    "preds.shape, outcomes.shape, masks.shape"
   ]
  },
  {
   "cell_type": "code",
   "execution_count": 13,
   "metadata": {},
   "outputs": [],
   "source": [
    "within_seq_metrics_sr_mse = within_seq_metric(\"mse\", seq_ids=seq_ids, preds=preds, labels=outcomes, outcome_masks=masks)\n",
    "within_seq_metrics_sr_smape = within_seq_metric(\"smape\", seq_ids=seq_ids, preds=preds, labels=outcomes, outcome_masks=masks)\n",
    "within_seq_metrics_sr_pearsonr = within_seq_metric(\"pearsonr\", seq_ids=seq_ids, preds=preds, labels=outcomes, outcome_masks=masks)\n",
    "within_seq_metrics_sr_mae = within_seq_metric(\"mae\", seq_ids=seq_ids, preds=preds, labels=outcomes, outcome_masks=masks)"
   ]
  },
  {
   "cell_type": "code",
   "execution_count": 14,
   "metadata": {},
   "outputs": [
    {
     "name": "stdout",
     "output_type": "stream",
     "text": [
      "Fold 0 Baseline Metrics - Last 1 as prediction\n",
      "-----------------------------------------------\n",
      "Within Person MSE:  0.466\n",
      "Within Person MAE:  0.439\n",
      "Within Person SMAPE:  0.303\n",
      "Within Person Pearsonr:  0.286\n"
     ]
    }
   ],
   "source": [
    "# Print the mean metric values line by line upto 3 points of decimal\n",
    "print (\"Fold 0 Baseline Metrics - Last 1 as prediction\")\n",
    "print (\"-----------------------------------------------\")\n",
    "print (\"Within Person MSE: \", round(within_seq_metrics_sr_mse[\"mean\"], 3))\n",
    "print (\"Within Person MAE: \", round(within_seq_metrics_sr_mae[\"mean\"], 3))\n",
    "print (\"Within Person SMAPE: \", round(within_seq_metrics_sr_smape[\"mean\"], 3))\n",
    "print (\"Within Person Pearsonr: \", round(within_seq_metrics_sr_pearsonr[\"mean\"], 3))\n"
   ]
  },
  {
   "cell_type": "code",
   "execution_count": 92,
   "metadata": {},
   "outputs": [
    {
     "name": "stdout",
     "output_type": "stream",
     "text": [
      "1.813781367841284\n"
     ]
    }
   ],
   "source": [
    "means = []\n",
    "for i in range(preds.shape[0]):\n",
    "    means.append(preds[i][masks[i]==1].mean())\n",
    "print (sum(means)/len(means))"
   ]
  },
  {
   "cell_type": "markdown",
   "metadata": {},
   "source": [
    "## Univariate baseline of using Mean until today's PCL as the forecast: V4"
   ]
  },
  {
   "cell_type": "code",
   "execution_count": 93,
   "metadata": {},
   "outputs": [],
   "source": [
    "preds = datasetDict['val']['embeddings_subscales']\n",
    "outcomes = datasetDict['val']['outcomes']\n",
    "masks = datasetDict['val']['outcomes_mask']\n",
    "preds_mask = datasetDict['val']['mask_subscales']\n",
    "max_timesteps = max([np.array(pred).shape[0] for pred in preds])\n",
    "seq_ids = datasetDict['val']['seq_id']\n",
    "\n",
    "for idx in range(len(preds)):\n",
    "    pred_mean = np.array(preds[idx]).mean(-1).reshape(-1, 1)\n",
    "    pred_mask = preds_mask[idx]\n",
    "    # calculate the running mean of predictions. Update the mean only when the preds_mask is 0. \n",
    "    # Copy the running mean of predictions when preds_mask is 1 from the previous valid timestep\n",
    "    running_mean = np.zeros(pred_mean.shape)\n",
    "    running_mean[0] = pred_mean[0]\n",
    "    valid_timesteps = 1 if pred_mask[0] == 0 else 0\n",
    "    for i in range(1, pred_mean.shape[0]):\n",
    "        running_mean[i] = running_mean[i-1] if pred_mask[i] == 1 else (running_mean[i-1]*valid_timesteps + pred_mean[i])/(valid_timesteps + 1)\n",
    "        valid_timesteps += 1 if pred_mask[i] == 0 else 0\n",
    "    pred = np.array(running_mean)\n",
    "    pred = pred.reshape(1, pred_mean.shape[0], pred_mean.shape[1])\n",
    "    outcome = np.array(outcomes[idx])\n",
    "    outcome = outcome.reshape(1, outcome.shape[0], outcome.shape[1])\n",
    "    mask = np.array(masks[idx])\n",
    "    mask = mask.reshape(1, mask.shape[0], mask.shape[1])\n",
    "    if pred.shape[1] < max_timesteps:\n",
    "        zero_pads = np.zeros((1, max_timesteps - pred.shape[1], pred.shape[2]))\n",
    "        pred = np.concatenate([pred, zero_pads], axis=1)\n",
    "        outcome = np.concatenate([outcome, zero_pads], axis=1)\n",
    "        mask = np.concatenate([mask, zero_pads], axis=1)\n",
    "    preds[idx] = pred\n",
    "    outcomes[idx] = outcome\n",
    "    masks[idx] = mask"
   ]
  },
  {
   "cell_type": "code",
   "execution_count": 94,
   "metadata": {},
   "outputs": [],
   "source": [
    "preds = np.concatenate(preds, axis=0)\n",
    "outcomes = np.concatenate(outcomes, axis=0)\n",
    "masks = np.concatenate(masks, axis=0)"
   ]
  },
  {
   "cell_type": "code",
   "execution_count": 95,
   "metadata": {},
   "outputs": [
    {
     "data": {
      "text/plain": [
       "((38, 90, 1), (38, 90, 1), (38, 90, 1))"
      ]
     },
     "execution_count": 95,
     "metadata": {},
     "output_type": "execute_result"
    }
   ],
   "source": [
    "preds.shape, outcomes.shape, masks.shape"
   ]
  },
  {
   "cell_type": "code",
   "execution_count": 96,
   "metadata": {},
   "outputs": [],
   "source": [
    "within_seq_metrics_sr_mse = within_seq_metric(\"mse\", seq_ids=seq_ids, preds=preds, labels=outcomes, outcome_masks=masks)\n",
    "within_seq_metrics_sr_smape = within_seq_metric(\"smape\", seq_ids=seq_ids, preds=preds, labels=outcomes, outcome_masks=masks)\n",
    "within_seq_metrics_sr_pearsonr = within_seq_metric(\"pearsonr\", seq_ids=seq_ids, preds=preds, labels=outcomes, outcome_masks=masks)\n",
    "within_seq_metrics_sr_mae = within_seq_metric(\"mae\", seq_ids=seq_ids, preds=preds, labels=outcomes, outcome_masks=masks)\n"
   ]
  },
  {
   "cell_type": "code",
   "execution_count": 97,
   "metadata": {},
   "outputs": [
    {
     "name": "stdout",
     "output_type": "stream",
     "text": [
      "Fold 0 Baseline Metrics - Running Mean Prediction\n",
      "-----------------------------------------------\n",
      "Within Person MSE:  0.505\n",
      "Within Person MAE:  0.459\n",
      "Within Person SMAPE:  0.278\n",
      "Within Person Pearsonr:  0.022\n"
     ]
    }
   ],
   "source": [
    "print (\"Fold 0 Baseline Metrics - Running Mean Prediction\")\n",
    "print (\"-----------------------------------------------\")\n",
    "print (\"Within Person MSE: \", round(within_seq_metrics_sr_mse[\"mean\"], 3))\n",
    "print (\"Within Person MAE: \", round(within_seq_metrics_sr_mae[\"mean\"], 3))\n",
    "print (\"Within Person SMAPE: \", round(within_seq_metrics_sr_smape[\"mean\"], 3))\n",
    "print (\"Within Person Pearsonr: \", round(within_seq_metrics_sr_pearsonr[\"mean\"], 3))\n"
   ]
  },
  {
   "cell_type": "markdown",
   "metadata": {},
   "source": [
    "## Language Based Transformer model Forecasting Analysis: V4 data "
   ]
  },
  {
   "cell_type": "code",
   "execution_count": 4,
   "metadata": {},
   "outputs": [],
   "source": [
    "data_dir = \"/cronus_data/avirinchipur/ptsd_stop/forecasting/datasets/roberta_base_L11_rpca64_PCL_1_days_ahead_max90days_v4_40combined_5fold\"\n",
    "data = load_from_disk(data_dir)"
   ]
  },
  {
   "cell_type": "code",
   "execution_count": 5,
   "metadata": {},
   "outputs": [
    {
     "data": {
      "application/vnd.jupyter.widget-view+json": {
       "model_id": "8f9fccd24292423eb7f0257d50e50611",
       "version_major": 2,
       "version_minor": 0
      },
      "text/plain": [
       "Filter:   0%|          | 0/176 [00:00<?, ? examples/s]"
      ]
     },
     "metadata": {},
     "output_type": "display_data"
    },
    {
     "data": {
      "application/vnd.jupyter.widget-view+json": {
       "model_id": "56087084b7794e46bd9c9989336db1f2",
       "version_major": 2,
       "version_minor": 0
      },
      "text/plain": [
       "Filter:   0%|          | 0/176 [00:00<?, ? examples/s]"
      ]
     },
     "metadata": {},
     "output_type": "display_data"
    }
   ],
   "source": [
    "datasetDict = get_datasetDict(train_data=data, val_folds=[0])"
   ]
  },
  {
   "cell_type": "code",
   "execution_count": 6,
   "metadata": {},
   "outputs": [
    {
     "data": {
      "text/plain": [
       "DatasetDict({\n",
       "    train: Dataset({\n",
       "        features: ['seq_id', 'embeddings', 'num_tokens', 'time_ids', 'infill_lang_mask', 'outcomes', 'infill_outcomes_mask'],\n",
       "        num_rows: 140\n",
       "    })\n",
       "    val: Dataset({\n",
       "        features: ['seq_id', 'embeddings', 'num_tokens', 'time_ids', 'infill_lang_mask', 'outcomes', 'infill_outcomes_mask'],\n",
       "        num_rows: 36\n",
       "    })\n",
       "})"
      ]
     },
     "execution_count": 6,
     "metadata": {},
     "output_type": "execute_result"
    }
   ],
   "source": [
    "datasetDict"
   ]
  },
  {
   "cell_type": "code",
   "execution_count": 16,
   "metadata": {},
   "outputs": [
    {
     "data": {
      "text/plain": [
       "dict_keys(['train', 'val', 'test'])"
      ]
     },
     "execution_count": 16,
     "metadata": {},
     "output_type": "execute_result"
    }
   ],
   "source": [
    "pred_path = \"/cronus_data/avirinchipur/ptsd_stop/forecasting/runs_1_ahead_only/1_day_ahead_v4/a774e14437cc4c9ba73f42fe504d5554/preds.pkl\"\n",
    "# CONFIG: trns_3lyr8hds_lr3e-4_wd1e-2_pe_1day_rpca64robaL11_max90_do0.1_opdo_0.1\n",
    "pred_dict = pickle.load(open(pred_path, 'rb'))\n",
    "\n",
    "pred_dict.keys()"
   ]
  },
  {
   "cell_type": "code",
   "execution_count": 18,
   "metadata": {},
   "outputs": [],
   "source": [
    "# Get the predictions from the last epoch\n",
    "EPOCH = -1\n",
    "preds = pred_dict['val']['preds'][EPOCH]\n",
    "outcomes = pred_dict['val']['outcomes'][EPOCH]\n",
    "mask = pred_dict['val']['outcomes_mask'][EPOCH]\n",
    "\n",
    "max_timesteps = max([pred.shape[1] for pred in preds])\n",
    "for batch_idx in range(len(preds)):\n",
    "    if preds[batch_idx].shape[1] < max_timesteps:\n",
    "        zero_pads = torch.zeros(preds[batch_idx].shape[0], max_timesteps - preds[batch_idx].shape[1], preds[batch_idx].shape[2])\n",
    "        preds[batch_idx] = torch.cat([preds[batch_idx], zero_pads], dim=1)\n",
    "        outcomes[batch_idx] = torch.cat([outcomes[batch_idx], zero_pads], dim=1)\n",
    "        mask[batch_idx] = torch.cat([mask[batch_idx], zero_pads], dim=1)\n",
    "preds = torch.cat(preds, dim=0).numpy()\n",
    "outcomes = torch.cat(outcomes, dim=0).numpy()\n",
    "mask = torch.cat(mask, dim=0).numpy()\n",
    "seq_id = range(preds.shape[0])"
   ]
  },
  {
   "cell_type": "code",
   "execution_count": 19,
   "metadata": {},
   "outputs": [
    {
     "data": {
      "text/plain": [
       "((38, 90, 1), (38, 90, 1), (38, 90, 1))"
      ]
     },
     "execution_count": 19,
     "metadata": {},
     "output_type": "execute_result"
    }
   ],
   "source": [
    "preds.shape, outcomes.shape, mask.shape"
   ]
  },
  {
   "cell_type": "code",
   "execution_count": 20,
   "metadata": {},
   "outputs": [
    {
     "data": {
      "text/plain": [
       "(array([1.8417159 , 2.2271898 , 2.488259  , 2.093345  , 2.3888242 ,\n",
       "        1.7884068 , 1.8362304 , 1.7750205 , 1.7143009 , 2.0094674 ,\n",
       "        1.7603344 , 1.6332518 , 1.5336968 , 1.433922  , 1.3639191 ,\n",
       "        1.3077722 , 1.2478154 , 1.2344244 , 1.2205907 , 1.1510898 ,\n",
       "        1.1310447 , 1.1859962 , 1.0925841 , 1.0672607 , 1.0037085 ,\n",
       "        1.1269207 , 1.0352885 , 1.259075  , 0.99549615, 0.87416184,\n",
       "        1.0039848 , 0.9277929 , 0.95398104, 1.149944  , 1.1661164 ,\n",
       "        1.1929493 , 1.0612742 , 1.1526523 , 1.0595587 , 1.1805623 ,\n",
       "        0.7627444 , 1.3910584 , 1.1680444 , 0.9862671 , 1.1959988 ,\n",
       "        1.1727794 , 1.1196339 , 1.0555011 , 0.93578756, 1.0976365 ,\n",
       "        1.1304644 , 0.97041744, 0.8422487 , 0.8429946 , 0.8905673 ,\n",
       "        0.84693986, 0.8906682 , 0.7271917 , 0.86819893, 0.7128142 ,\n",
       "        0.88625103, 0.89794123, 0.8822064 , 0.8634292 , 0.8268039 ,\n",
       "        0.9195315 , 0.80331576, 0.9461101 , 0.8628497 , 0.82098657,\n",
       "        0.83167297, 0.6572094 , 0.62553555, 0.62331843, 0.60136503,\n",
       "        0.6978179 , 0.8110355 , 0.8890957 , 0.81049526, 0.7546886 ,\n",
       "        0.82886446, 1.0152442 , 0.9265338 , 0.71075624, 0.6990688 ,\n",
       "        0.7392067 , 0.7897363 , 0.76579964, 0.77379966, 0.7021353 ],\n",
       "       dtype=float32),\n",
       " array([1.     , 1.125  , 0.     , 0.     , 1.25   , 0.     , 1.875  ,\n",
       "        1.25   , 0.     , 1.125  , 1.625  , 0.     , 1.25   , 1.125  ,\n",
       "        0.     , 0.     , 1.     , 1.     , 1.     , 1.     , 0.     ,\n",
       "        1.     , 0.     , 1.     , 0.     , 1.125  , 1.     , 1.125  ,\n",
       "        1.     , 0.     , 1.125  , 1.125  , 1.25   , 0.     , 0.     ,\n",
       "        1.25   , 0.     , 0.     , 1.14286, 1.125  , 1.     , 0.     ,\n",
       "        0.     , 1.25   , 1.     , 0.     , 0.     , 1.125  , 1.125  ,\n",
       "        1.125  , 0.     , 1.125  , 1.     , 1.25   , 0.     , 1.125  ,\n",
       "        0.     , 1.875  , 0.     , 1.     , 1.     , 0.     , 1.125  ,\n",
       "        0.     , 1.     , 1.     , 0.     , 1.     , 1.     , 0.     ,\n",
       "        1.125  , 0.     , 0.     , 0.     , 1.     , 1.     , 0.     ,\n",
       "        0.     , 1.     , 1.     , 0.     , 1.     , 1.125  , 0.     ,\n",
       "        1.125  , 1.125  , 0.     , 1.     , 1.     , 0.     ],\n",
       "       dtype=float32))"
      ]
     },
     "execution_count": 20,
     "metadata": {},
     "output_type": "execute_result"
    }
   ],
   "source": [
    "IDX=2\n",
    "# preds[IDX][mask[IDX]==1], outcomes[IDX][mask[IDX]==1]\n",
    "preds[IDX].reshape(-1, ), outcomes[IDX].reshape(-1, )"
   ]
  },
  {
   "cell_type": "code",
   "execution_count": 24,
   "metadata": {},
   "outputs": [],
   "source": [
    "within_seq_metrics_sr_mse = within_seq_metric(\"mse\", seq_ids=seq_id, preds=preds, labels=outcomes, outcome_masks=mask)\n",
    "within_seq_metrics_sr_smape = within_seq_metric(\"smape\", seq_ids=seq_id, preds=preds, labels=outcomes, outcome_masks=mask)\n",
    "within_seq_metrics_sr_pearsonr = within_seq_metric(\"pearsonr\", seq_ids=seq_id, preds=preds, labels=outcomes, outcome_masks=mask)\n",
    "within_seq_metrics_sr_mae = within_seq_metric(\"mae\", seq_ids=seq_id, preds=preds, labels=outcomes, outcome_masks=mask)\n",
    "\n",
    "seq_id_lang_hist = seq_id\n",
    "preds_lang_hist = preds\n",
    "outcomes_lang_hist = outcomes\n",
    "mask_lang_hist = mask"
   ]
  },
  {
   "cell_type": "code",
   "execution_count": 22,
   "metadata": {},
   "outputs": [
    {
     "name": "stdout",
     "output_type": "stream",
     "text": [
      "Fold 0 Metrics - Lang History Trns Model\n",
      "-----------------------------------------------\n",
      "Within Person MSE:  0.716\n",
      "Within Person MAE:  0.65\n",
      "Within Person SMAPE:  0.322\n",
      "Within Person Pearsonr:  0.035\n"
     ]
    }
   ],
   "source": [
    "print (\"Fold 0 Metrics - Lang History Trns Model\")\n",
    "print (\"-----------------------------------------------\")\n",
    "print (\"Within Person MSE: \", round(within_seq_metrics_sr_mse[\"mean\"], 3))\n",
    "print (\"Within Person MAE: \", round(within_seq_metrics_sr_mae[\"mean\"], 3))\n",
    "print (\"Within Person SMAPE: \", round(within_seq_metrics_sr_smape[\"mean\"], 3))\n",
    "print (\"Within Person Pearsonr: \", round(within_seq_metrics_sr_pearsonr[\"mean\"], 3))\n"
   ]
  },
  {
   "cell_type": "code",
   "execution_count": 23,
   "metadata": {},
   "outputs": [
    {
     "name": "stdout",
     "output_type": "stream",
     "text": [
      "1.979216992855072\n"
     ]
    }
   ],
   "source": [
    "means = []\n",
    "for i in range(outcomes.shape[0]):\n",
    "    means.append(outcomes[i][mask[i]==1].mean())\n",
    "print (sum(means)/len(means))"
   ]
  },
  {
   "cell_type": "markdown",
   "metadata": {},
   "source": [
    "## PCL History Subscales Based Transformer model Forecasting Analysis: V4 data "
   ]
  },
  {
   "cell_type": "code",
   "execution_count": 25,
   "metadata": {},
   "outputs": [],
   "source": [
    "data_dir = \"/cronus_data/avirinchipur/ptsd_stop/forecasting/datasets/PCLsubscales_selfreport_noNULLs_roberta_base_L11_rpca64_merged_PCL_1_days_ahead_max90days_v4_40combined_5fold/\"\n",
    "data = load_from_disk(data_dir)"
   ]
  },
  {
   "cell_type": "code",
   "execution_count": 26,
   "metadata": {},
   "outputs": [],
   "source": [
    "datasetDict = get_datasetDict(train_data=data, val_folds=[0])"
   ]
  },
  {
   "cell_type": "code",
   "execution_count": 27,
   "metadata": {},
   "outputs": [
    {
     "data": {
      "text/plain": [
       "DatasetDict({\n",
       "    train: Dataset({\n",
       "        features: ['seq_id', 'time_ids', 'embeddings_subscales', 'mask_subscales', 'embeddings_lang', 'mask_lang', 'outcomes', 'outcomes_mask'],\n",
       "        num_rows: 148\n",
       "    })\n",
       "    val: Dataset({\n",
       "        features: ['seq_id', 'time_ids', 'embeddings_subscales', 'mask_subscales', 'embeddings_lang', 'mask_lang', 'outcomes', 'outcomes_mask'],\n",
       "        num_rows: 38\n",
       "    })\n",
       "})"
      ]
     },
     "execution_count": 27,
     "metadata": {},
     "output_type": "execute_result"
    }
   ],
   "source": [
    "datasetDict"
   ]
  },
  {
   "cell_type": "code",
   "execution_count": 50,
   "metadata": {},
   "outputs": [
    {
     "data": {
      "text/plain": [
       "dict_keys(['train', 'val', 'test'])"
      ]
     },
     "execution_count": 50,
     "metadata": {},
     "output_type": "execute_result"
    }
   ],
   "source": [
    "pred_path = \"/cronus_data/avirinchipur/ptsd_stop/forecasting/runs_1_ahead_only/1_day_ahead_sr_PCL_v4/9169f500e359450582f4d9bd17b99449/preds.pkl\"\n",
    "# pred_path = \"/cronus_data/avirinchipur/ptsd_stop/forecasting/runs_1_ahead_only/1_day_ahead_sr_PCL_v4/e6383722cb5942bc8aa19e8b3647f3b4/preds.pkl\"\n",
    "# CONFIG: trns_3lyr1hds_lr5e-3_wd5e-4_pe_1day_todayPCLsubscales_max90_do0.1_opdo_0.15\n",
    "pred_dict = pickle.load(open(pred_path, 'rb'))\n",
    "\n",
    "pred_dict.keys()"
   ]
  },
  {
   "cell_type": "code",
   "execution_count": 51,
   "metadata": {},
   "outputs": [],
   "source": [
    "# Get the predictions from the last epoch\n",
    "EPOCH = -2\n",
    "preds = pred_dict['val']['preds'][EPOCH]\n",
    "outcomes = pred_dict['val']['outcomes'][EPOCH]\n",
    "mask = pred_dict['val']['outcomes_mask'][EPOCH]\n",
    "\n",
    "max_timesteps = max([pred.shape[1] for pred in preds])\n",
    "for batch_idx in range(len(preds)):\n",
    "    if preds[batch_idx].shape[1] < max_timesteps:\n",
    "        zero_pads = torch.zeros(preds[batch_idx].shape[0], max_timesteps - preds[batch_idx].shape[1], preds[batch_idx].shape[2])\n",
    "        preds[batch_idx] = torch.cat([preds[batch_idx], zero_pads], dim=1)\n",
    "        outcomes[batch_idx] = torch.cat([outcomes[batch_idx], zero_pads], dim=1)\n",
    "        mask[batch_idx] = torch.cat([mask[batch_idx], zero_pads], dim=1)\n",
    "preds = torch.cat(preds, dim=0).numpy()\n",
    "outcomes = torch.cat(outcomes, dim=0).numpy()\n",
    "mask = torch.cat(mask, dim=0).numpy()\n",
    "seq_id = range(preds.shape[0])"
   ]
  },
  {
   "cell_type": "code",
   "execution_count": 52,
   "metadata": {},
   "outputs": [
    {
     "data": {
      "text/plain": [
       "((38, 90, 1), (38, 90, 1), (38, 90, 1))"
      ]
     },
     "execution_count": 52,
     "metadata": {},
     "output_type": "execute_result"
    }
   ],
   "source": [
    "preds.shape, outcomes.shape, mask.shape"
   ]
  },
  {
   "cell_type": "code",
   "execution_count": 53,
   "metadata": {},
   "outputs": [
    {
     "data": {
      "text/plain": [
       "(array([2.0115266, 1.8248277, 1.7577759, 1.7762098, 1.6836634, 1.4623067,\n",
       "        1.3780122, 1.3752643, 1.3204957, 1.3142201, 1.3158542, 1.4586445,\n",
       "        1.5095373, 1.4068999, 1.3198124, 1.3380498, 1.3103178, 1.2643764,\n",
       "        1.2349297, 1.4199787, 1.2633691, 1.2013695, 1.2352114, 1.2635783,\n",
       "        1.3839805, 1.2521454, 1.1813331, 1.256826 , 1.20949  , 1.3399019,\n",
       "        1.328136 , 1.1994616, 1.1729673, 1.2337952, 1.2054322, 1.254672 ,\n",
       "        1.2621866, 1.2428582, 1.2426226, 1.3523206, 1.1701176, 1.25525  ,\n",
       "        1.2214615, 1.2369194, 1.2291428, 1.1543111, 1.1452332, 1.1794398,\n",
       "        1.1504028, 1.1639596, 1.155108 , 1.1392766, 1.1676794, 1.2665648,\n",
       "        1.159115 , 1.1268014, 1.1635183, 1.1324873, 1.4134473, 1.384235 ,\n",
       "        1.2193604, 1.1741781, 1.2391423, 1.1979549, 1.1621786, 1.1165087,\n",
       "        1.1641015, 1.1206722, 1.2017664, 1.1370217, 1.1918988, 1.1656373,\n",
       "        1.1310571, 1.1504823, 1.1412512, 1.1384706, 1.189808 , 1.1183627,\n",
       "        1.1892073, 1.1147267, 1.2142904, 1.0978594, 1.1036663, 1.1494174,\n",
       "        1.1136953, 1.1501592, 1.1370405, 1.136519 , 1.0898249, 1.3087652],\n",
       "       dtype=float32),\n",
       " array([1.     , 1.125  , 0.     , 0.     , 1.25   , 0.     , 1.875  ,\n",
       "        1.25   , 0.     , 1.125  , 1.625  , 0.     , 1.25   , 1.125  ,\n",
       "        0.     , 0.     , 1.     , 1.     , 1.     , 1.     , 0.     ,\n",
       "        1.     , 0.     , 1.     , 0.     , 1.125  , 1.     , 1.125  ,\n",
       "        1.     , 0.     , 1.125  , 1.125  , 1.25   , 0.     , 0.     ,\n",
       "        1.25   , 0.     , 0.     , 1.14286, 1.125  , 1.     , 0.     ,\n",
       "        0.     , 1.25   , 1.     , 0.     , 0.     , 1.125  , 1.125  ,\n",
       "        1.125  , 0.     , 1.125  , 1.     , 1.25   , 0.     , 1.125  ,\n",
       "        0.     , 1.875  , 0.     , 1.     , 1.     , 0.     , 1.125  ,\n",
       "        0.     , 1.     , 1.     , 0.     , 1.     , 1.     , 0.     ,\n",
       "        1.125  , 0.     , 0.     , 0.     , 1.     , 1.     , 0.     ,\n",
       "        0.     , 1.     , 1.     , 0.     , 1.     , 1.125  , 0.     ,\n",
       "        1.125  , 1.125  , 0.     , 1.     , 1.     , 0.     ],\n",
       "       dtype=float32))"
      ]
     },
     "execution_count": 53,
     "metadata": {},
     "output_type": "execute_result"
    }
   ],
   "source": [
    "IDX=2\n",
    "# preds[IDX][mask[IDX]==1], outcomes[IDX][mask[IDX]==1]\n",
    "preds[IDX].reshape(-1, ), outcomes[IDX].reshape(-1, )"
   ]
  },
  {
   "cell_type": "code",
   "execution_count": 54,
   "metadata": {},
   "outputs": [],
   "source": [
    "within_seq_metrics_sr_mse = within_seq_metric(\"mse\", seq_ids=seq_id, preds=preds, labels=outcomes, outcome_masks=mask)\n",
    "within_seq_metrics_sr_smape = within_seq_metric(\"smape\", seq_ids=seq_id, preds=preds, labels=outcomes, outcome_masks=mask)\n",
    "within_seq_metrics_sr_pearsonr = within_seq_metric(\"pearsonr\", seq_ids=seq_id, preds=preds, labels=outcomes, outcome_masks=mask)\n",
    "within_seq_metrics_sr_mae = within_seq_metric(\"mae\", seq_ids=seq_id, preds=preds, labels=outcomes, outcome_masks=mask)\n",
    "\n",
    "seq_id_srsubscales_hist = seq_id\n",
    "preds_srsubscales_hist = preds\n",
    "outcomes_srsubscales_hist = outcomes\n",
    "mask_srsubscales_hist = mask"
   ]
  },
  {
   "cell_type": "code",
   "execution_count": 55,
   "metadata": {},
   "outputs": [
    {
     "name": "stdout",
     "output_type": "stream",
     "text": [
      "Fold 0 Metrics - PCL Subscale History Transformer model\n",
      "-----------------------------------------------\n",
      "Within Person MSE:  0.379\n",
      "Within Person MAE:  0.45\n",
      "Within Person SMAPE:  0.225\n",
      "Within Person Pearsonr:  0.123\n"
     ]
    }
   ],
   "source": [
    "print (\"Fold 0 Metrics - PCL Subscale History Transformer model\")\n",
    "print (\"-----------------------------------------------\")\n",
    "print (\"Within Person MSE: \", round(within_seq_metrics_sr_mse[\"mean\"], 3))\n",
    "print (\"Within Person MAE: \", round(within_seq_metrics_sr_mae[\"mean\"], 3))\n",
    "print (\"Within Person SMAPE: \", round(within_seq_metrics_sr_smape[\"mean\"], 3))\n",
    "print (\"Within Person Pearsonr: \", round(within_seq_metrics_sr_pearsonr[\"mean\"], 3))\n"
   ]
  },
  {
   "cell_type": "code",
   "execution_count": 56,
   "metadata": {},
   "outputs": [
    {
     "name": "stdout",
     "output_type": "stream",
     "text": [
      "1.979216992855072\n"
     ]
    }
   ],
   "source": [
    "means = []\n",
    "for i in range(outcomes.shape[0]):\n",
    "    means.append(outcomes[i][mask[i]==1].mean())\n",
    "print (sum(means)/len(means))"
   ]
  },
  {
   "cell_type": "markdown",
   "metadata": {},
   "source": [
    "## AVG(Language, PCL) History Based Transformer model Forecasting Analysis (Unlearned Model): V4 data "
   ]
  },
  {
   "cell_type": "code",
   "execution_count": 40,
   "metadata": {},
   "outputs": [
    {
     "data": {
      "text/plain": [
       "(True, True)"
      ]
     },
     "execution_count": 40,
     "metadata": {},
     "output_type": "execute_result"
    }
   ],
   "source": [
    "(outcomes_lang_hist == outcomes_srsubscales_hist).all(), (mask_lang_hist == mask_srsubscales_hist).all()"
   ]
  },
  {
   "cell_type": "code",
   "execution_count": 72,
   "metadata": {},
   "outputs": [
    {
     "data": {
      "text/plain": [
       "(38, 90, 1)"
      ]
     },
     "execution_count": 72,
     "metadata": {},
     "output_type": "execute_result"
    }
   ],
   "source": [
    "W=0.5\n",
    "preds_avg_hist = W*(preds_lang_hist) + (1-W)*(preds_srsubscales_hist)\n",
    "preds_avg_hist.shape"
   ]
  },
  {
   "cell_type": "code",
   "execution_count": 73,
   "metadata": {},
   "outputs": [],
   "source": [
    "within_seq_metrics_sr_mse = within_seq_metric(\"mse\", seq_ids=seq_id, preds=preds_avg_hist, labels=outcomes_lang_hist, outcome_masks=mask_lang_hist)\n",
    "within_seq_metrics_sr_smape = within_seq_metric(\"smape\", seq_ids=seq_id, preds=preds_avg_hist, labels=outcomes_lang_hist, outcome_masks=mask_lang_hist)\n",
    "within_seq_metrics_sr_pearsonr = within_seq_metric(\"pearsonr\", seq_ids=seq_id, preds=preds_avg_hist, labels=outcomes_lang_hist, outcome_masks=mask_lang_hist)\n",
    "within_seq_metrics_sr_mae = within_seq_metric(\"mae\", seq_ids=seq_id, preds=preds_avg_hist, labels=outcomes_lang_hist, outcome_masks=mask_lang_hist)"
   ]
  },
  {
   "cell_type": "code",
   "execution_count": 74,
   "metadata": {},
   "outputs": [
    {
     "name": "stdout",
     "output_type": "stream",
     "text": [
      "Fold 0 Metrics - Average of Lang History and PCL Subscale History Transformer model\n",
      "-----------------------------------------------\n",
      "Within Person MSE:  0.445\n",
      "Within Person MAE:  0.505\n",
      "Within Person SMAPE:  0.251\n",
      "Within Person Pearsonr:  0.108\n"
     ]
    }
   ],
   "source": [
    "print (\"Fold 0 Metrics - Average of Lang History and PCL Subscale History Transformer model\")\n",
    "print (\"-----------------------------------------------\")\n",
    "print (\"Within Person MSE: \", round(within_seq_metrics_sr_mse[\"mean\"], 3))\n",
    "print (\"Within Person MAE: \", round(within_seq_metrics_sr_mae[\"mean\"], 3))\n",
    "print (\"Within Person SMAPE: \", round(within_seq_metrics_sr_smape[\"mean\"], 3))\n",
    "print (\"Within Person Pearsonr: \", round(within_seq_metrics_sr_pearsonr[\"mean\"], 3))"
   ]
  },
  {
   "cell_type": "markdown",
   "metadata": {},
   "source": [
    "## Language + PCL History Based Transformer model Forecasting Analysis: V4 data "
   ]
  },
  {
   "cell_type": "code",
   "execution_count": 4,
   "metadata": {},
   "outputs": [],
   "source": [
    "data_dir = \"/cronus_data/avirinchipur/ptsd_stop/forecasting/datasets/PCLsubscales_selfreport_noNULLs_roberta_base_L11_rpca64_merged_PCL_1_days_ahead_max90days_v4_40combined_5fold/\"\n",
    "data = load_from_disk(data_dir)"
   ]
  },
  {
   "cell_type": "code",
   "execution_count": 5,
   "metadata": {},
   "outputs": [
    {
     "data": {
      "application/vnd.jupyter.widget-view+json": {
       "model_id": "bf4b1edf08394c789ecc810dc06355ca",
       "version_major": 2,
       "version_minor": 0
      },
      "text/plain": [
       "Filter:   0%|          | 0/186 [00:00<?, ? examples/s]"
      ]
     },
     "metadata": {},
     "output_type": "display_data"
    },
    {
     "data": {
      "application/vnd.jupyter.widget-view+json": {
       "model_id": "5c078fc059b8461cab1171cbccafe2b5",
       "version_major": 2,
       "version_minor": 0
      },
      "text/plain": [
       "Filter:   0%|          | 0/186 [00:00<?, ? examples/s]"
      ]
     },
     "metadata": {},
     "output_type": "display_data"
    }
   ],
   "source": [
    "datasetDict = get_datasetDict(train_data=data, val_folds=[0])"
   ]
  },
  {
   "cell_type": "code",
   "execution_count": 6,
   "metadata": {},
   "outputs": [
    {
     "data": {
      "text/plain": [
       "DatasetDict({\n",
       "    train: Dataset({\n",
       "        features: ['seq_id', 'time_ids', 'embeddings_subscales', 'mask_subscales', 'embeddings_lang', 'mask_lang', 'outcomes', 'outcomes_mask'],\n",
       "        num_rows: 148\n",
       "    })\n",
       "    val: Dataset({\n",
       "        features: ['seq_id', 'time_ids', 'embeddings_subscales', 'mask_subscales', 'embeddings_lang', 'mask_lang', 'outcomes', 'outcomes_mask'],\n",
       "        num_rows: 38\n",
       "    })\n",
       "})"
      ]
     },
     "execution_count": 6,
     "metadata": {},
     "output_type": "execute_result"
    }
   ],
   "source": [
    "datasetDict"
   ]
  },
  {
   "cell_type": "code",
   "execution_count": 11,
   "metadata": {},
   "outputs": [
    {
     "data": {
      "text/plain": [
       "dict_keys(['train', 'val', 'test'])"
      ]
     },
     "execution_count": 11,
     "metadata": {},
     "output_type": "execute_result"
    }
   ],
   "source": [
    "pred_path = \"/cronus_data/avirinchipur/ptsd_stop/forecasting/runs_1_ahead_only/1_day_ahead_roba_PCLsubscales_v4/8848925fe7e5493aa47c73fdd61f2d7f/preds.pkl\"\n",
    "# CONFIG: trns_3lyr8hds_lr3e-4_wd1e-2_pe_1day_rpca64robaL11_max90_do0.1_opdo_0.1\n",
    "pred_dict = pickle.load(open(pred_path, 'rb'))\n",
    "\n",
    "pred_dict.keys()"
   ]
  },
  {
   "cell_type": "code",
   "execution_count": 13,
   "metadata": {},
   "outputs": [],
   "source": [
    "# Get the predictions from the last epoch\n",
    "EPOCH = -1\n",
    "preds = pred_dict['val']['preds'][EPOCH]\n",
    "outcomes = pred_dict['val']['outcomes'][EPOCH]\n",
    "mask = pred_dict['val']['outcomes_mask'][EPOCH]\n",
    "\n",
    "max_timesteps = max([pred.shape[1] for pred in preds])\n",
    "for batch_idx in range(len(preds)):\n",
    "    if preds[batch_idx].shape[1] < max_timesteps:\n",
    "        zero_pads = torch.zeros(preds[batch_idx].shape[0], max_timesteps - preds[batch_idx].shape[1], preds[batch_idx].shape[2])\n",
    "        preds[batch_idx] = torch.cat([preds[batch_idx], zero_pads], dim=1)\n",
    "        outcomes[batch_idx] = torch.cat([outcomes[batch_idx], zero_pads], dim=1)\n",
    "        mask[batch_idx] = torch.cat([mask[batch_idx], zero_pads], dim=1)\n",
    "preds = torch.cat(preds, dim=0).numpy()\n",
    "outcomes = torch.cat(outcomes, dim=0).numpy()\n",
    "mask = torch.cat(mask, dim=0).numpy()\n",
    "seq_id = range(preds.shape[0])"
   ]
  },
  {
   "cell_type": "code",
   "execution_count": 14,
   "metadata": {},
   "outputs": [
    {
     "data": {
      "text/plain": [
       "((38, 90, 1), (38, 90, 1), (38, 90, 1))"
      ]
     },
     "execution_count": 14,
     "metadata": {},
     "output_type": "execute_result"
    }
   ],
   "source": [
    "preds.shape, outcomes.shape, mask.shape"
   ]
  },
  {
   "cell_type": "code",
   "execution_count": 15,
   "metadata": {},
   "outputs": [
    {
     "data": {
      "text/plain": [
       "(array([1.8604727 , 2.1385198 , 2.1739478 , 1.5431788 , 1.9456352 ,\n",
       "        1.9422048 , 1.9725502 , 1.7157701 , 1.7812619 , 1.5680987 ,\n",
       "        1.688627  , 1.5673436 , 1.502558  , 1.2004757 , 1.4147222 ,\n",
       "        1.4365643 , 1.0972564 , 1.4560182 , 1.0425687 , 1.3149645 ,\n",
       "        1.2380326 , 0.77833146, 1.2339675 , 0.84922326, 1.0475154 ,\n",
       "        0.6485805 , 1.0671364 , 1.3464439 , 1.4684799 , 1.6308355 ,\n",
       "        1.399189  , 1.2689992 , 1.0932165 , 0.9677872 , 1.2579682 ,\n",
       "        1.4097309 , 1.1425357 , 1.178956  , 1.1995068 , 1.2272314 ,\n",
       "        0.9213251 , 1.1017983 , 1.2950332 , 1.2439194 , 0.9526506 ,\n",
       "        1.4636091 , 1.1307024 , 0.9559655 , 1.0086529 , 1.2696023 ,\n",
       "        1.3827736 , 1.158332  , 1.141865  , 1.6340516 , 1.3732551 ,\n",
       "        1.1316512 , 1.0927802 , 0.63801277, 0.9772299 , 1.0112724 ,\n",
       "        1.0484105 , 0.9560596 , 0.6427811 , 1.1142404 , 0.57852143,\n",
       "        1.1009399 , 0.9846361 , 1.3725274 , 0.77228427, 1.197517  ,\n",
       "        0.9031833 , 0.7528493 , 0.9401903 , 1.1927073 , 0.97321177,\n",
       "        1.0487567 , 0.81373507, 1.054657  , 0.95257956, 1.2542055 ,\n",
       "        1.2451468 , 1.1497946 , 1.108387  , 1.2133152 , 0.68890655,\n",
       "        1.1018642 , 1.1896088 , 1.1540463 , 1.1354605 , 0.7071779 ],\n",
       "       dtype=float32),\n",
       " array([1.     , 1.125  , 0.     , 0.     , 1.25   , 0.     , 1.875  ,\n",
       "        1.25   , 0.     , 1.125  , 1.625  , 0.     , 1.25   , 1.125  ,\n",
       "        0.     , 0.     , 1.     , 1.     , 1.     , 1.     , 0.     ,\n",
       "        1.     , 0.     , 1.     , 0.     , 1.125  , 1.     , 1.125  ,\n",
       "        1.     , 0.     , 1.125  , 1.125  , 1.25   , 0.     , 0.     ,\n",
       "        1.25   , 0.     , 0.     , 1.14286, 1.125  , 1.     , 0.     ,\n",
       "        0.     , 1.25   , 1.     , 0.     , 0.     , 1.125  , 1.125  ,\n",
       "        1.125  , 0.     , 1.125  , 1.     , 1.25   , 0.     , 1.125  ,\n",
       "        0.     , 1.875  , 0.     , 1.     , 1.     , 0.     , 1.125  ,\n",
       "        0.     , 1.     , 1.     , 0.     , 1.     , 1.     , 0.     ,\n",
       "        1.125  , 0.     , 0.     , 0.     , 1.     , 1.     , 0.     ,\n",
       "        0.     , 1.     , 1.     , 0.     , 1.     , 1.125  , 0.     ,\n",
       "        1.125  , 1.125  , 0.     , 1.     , 1.     , 0.     ],\n",
       "       dtype=float32))"
      ]
     },
     "execution_count": 15,
     "metadata": {},
     "output_type": "execute_result"
    }
   ],
   "source": [
    "IDX=2\n",
    "# preds[IDX][mask[IDX]==1], outcomes[IDX][mask[IDX]==1]\n",
    "preds[IDX].reshape(-1, ), outcomes[IDX].reshape(-1, )"
   ]
  },
  {
   "cell_type": "code",
   "execution_count": 16,
   "metadata": {},
   "outputs": [],
   "source": [
    "within_seq_metrics_sr_mse = within_seq_metric(\"mse\", seq_ids=seq_id, preds=preds, labels=outcomes, outcome_masks=mask)\n",
    "within_seq_metrics_sr_smape = within_seq_metric(\"smape\", seq_ids=seq_id, preds=preds, labels=outcomes, outcome_masks=mask)\n",
    "within_seq_metrics_sr_pearsonr = within_seq_metric(\"pearsonr\", seq_ids=seq_id, preds=preds, labels=outcomes, outcome_masks=mask)\n",
    "within_seq_metrics_sr_mae = within_seq_metric(\"mae\", seq_ids=seq_id, preds=preds, labels=outcomes, outcome_masks=mask)"
   ]
  },
  {
   "cell_type": "code",
   "execution_count": 17,
   "metadata": {},
   "outputs": [
    {
     "name": "stdout",
     "output_type": "stream",
     "text": [
      "Fold 0 Metrics - RoBERTa PCL Subscale History Transformer model\n",
      "-----------------------------------------------\n",
      "Within Person MSE:  0.744\n",
      "Within Person MAE:  0.646\n",
      "Within Person SMAPE:  0.321\n",
      "Within Person Pearsonr:  -0.001\n"
     ]
    }
   ],
   "source": [
    "print (\"Fold 0 Metrics - RoBERTa PCL Subscale History Transformer model\")\n",
    "print (\"-----------------------------------------------\")\n",
    "print (\"Within Person MSE: \", round(within_seq_metrics_sr_mse[\"mean\"], 3))\n",
    "print (\"Within Person MAE: \", round(within_seq_metrics_sr_mae[\"mean\"], 3))\n",
    "print (\"Within Person SMAPE: \", round(within_seq_metrics_sr_smape[\"mean\"], 3))\n",
    "print (\"Within Person Pearsonr: \", round(within_seq_metrics_sr_pearsonr[\"mean\"], 3))"
   ]
  },
  {
   "cell_type": "code",
   "execution_count": 24,
   "metadata": {},
   "outputs": [
    {
     "data": {
      "text/plain": [
       "(0.47121447, 0.2410353496670723, 0.05591485793759464)"
      ]
     },
     "execution_count": 24,
     "metadata": {},
     "output_type": "execute_result"
    }
   ],
   "source": [
    "within_seq_metrics_sr_mse[\"median\"], within_seq_metrics_sr_smape[\"median\"], within_seq_metrics_sr_pearsonr[\"median\"]"
   ]
  },
  {
   "cell_type": "code",
   "execution_count": 25,
   "metadata": {},
   "outputs": [
    {
     "name": "stdout",
     "output_type": "stream",
     "text": [
      "1.979216992855072\n"
     ]
    }
   ],
   "source": [
    "means = []\n",
    "for i in range(outcomes.shape[0]):\n",
    "    means.append(outcomes[i][mask[i]==1].mean())\n",
    "print (sum(means)/len(means))"
   ]
  },
  {
   "cell_type": "code",
   "execution_count": null,
   "metadata": {},
   "outputs": [],
   "source": []
  }
 ],
 "metadata": {
  "kernelspec": {
   "display_name": "Python 3",
   "language": "python",
   "name": "python3"
  },
  "language_info": {
   "codemirror_mode": {
    "name": "ipython",
    "version": 3
   },
   "file_extension": ".py",
   "mimetype": "text/x-python",
   "name": "python",
   "nbconvert_exporter": "python",
   "pygments_lexer": "ipython3",
   "version": "3.9.12"
  }
 },
 "nbformat": 4,
 "nbformat_minor": 2
}
