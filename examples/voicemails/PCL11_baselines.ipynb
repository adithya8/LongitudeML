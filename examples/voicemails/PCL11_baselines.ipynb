{
 "cells": [
  {
   "cell_type": "code",
   "execution_count": 1,
   "metadata": {},
   "outputs": [],
   "source": [
    "import pickle\n",
    "import numpy as np\n",
    "from sklearn.metrics import mean_squared_error, mean_absolute_error\n",
    "from scipy.stats import pearsonr\n",
    "\n",
    "import pandas as pd\n",
    "import torch\n"
   ]
  },
  {
   "cell_type": "code",
   "execution_count": 2,
   "metadata": {},
   "outputs": [],
   "source": [
    "def smape(y_true, y_pred):\n",
    "    return np.mean(np.abs((y_true - y_pred) / (y_true + y_pred)))"
   ]
  },
  {
   "cell_type": "code",
   "execution_count": 106,
   "metadata": {},
   "outputs": [
    {
     "name": "stdout",
     "output_type": "stream",
     "text": [
      "dict_keys(['train_data', 'val_data', 'test_data'])\n"
     ]
    }
   ],
   "source": [
    "PICKLE_FILE_PATH = \"/data/avirinchipur/EMI/datadicts/rift_PCL11_minmax_ans_avg.pkl\"\n",
    "datadict = pickle.load(open(PICKLE_FILE_PATH, \"rb\"))\n",
    "print (datadict.keys())"
   ]
  },
  {
   "cell_type": "code",
   "execution_count": 107,
   "metadata": {},
   "outputs": [
    {
     "name": "stdout",
     "output_type": "stream",
     "text": [
      "Num train examples: 122\n",
      "Num val examples: 19\n"
     ]
    }
   ],
   "source": [
    "train_data, val_data = datadict['train_data'], datadict['val_data']\n",
    "print (\"Num train examples: {}\".format(len(train_data['labels'])))\n",
    "print (\"Num val examples: {}\".format(len(val_data['labels'])))\n"
   ]
  },
  {
   "cell_type": "code",
   "execution_count": 108,
   "metadata": {},
   "outputs": [
    {
     "name": "stdout",
     "output_type": "stream",
     "text": [
      "Train Label distribution\n",
      "Min: 1.224744871391589, Max: 1.8602191717778138, Avg: 1.3581212167652628, Median: 1.311099796200312\n",
      "Val Label distribution\n",
      "Min: 1.2377967793203888, Max: 1.72086022041801, Avg: 1.3385628714282165, Median: 1.303390248687618\n"
     ]
    }
   ],
   "source": [
    "train_labels = list(map(lambda x: x[0], train_data['labels']))\n",
    "val_labels = list(map(lambda x: x[0], val_data['labels']))\n",
    "print (\"Train Label distribution\")\n",
    "print (\"Min: {}, Max: {}, Avg: {}, Median: {}\".format(min(train_labels), max(train_labels), sum(train_labels)/len(train_labels), sorted(train_labels)[len(train_labels)//2]))\n",
    "print (\"Val Label distribution\")\n",
    "print (\"Min: {}, Max: {}, Avg: {}, Median: {}\".format(min(val_labels), max(val_labels), sum(val_labels)/len(val_labels), sorted(val_labels)[len(val_labels)//2]))"
   ]
  },
  {
   "cell_type": "code",
   "execution_count": 109,
   "metadata": {},
   "outputs": [],
   "source": [
    "avg_train_label = np.array([sum(train_labels)/len(train_labels)]*len(val_labels))\n",
    "median_train_label = np.array([sorted(train_labels)[len(train_labels)//2]]*len(val_labels))\n",
    "val_labels = np.array(val_labels)"
   ]
  },
  {
   "cell_type": "code",
   "execution_count": 110,
   "metadata": {},
   "outputs": [
    {
     "name": "stdout",
     "output_type": "stream",
     "text": [
      "1.3581212167652628 1.311099796200312\n"
     ]
    }
   ],
   "source": [
    "print (avg_train_label[0], median_train_label[0])"
   ]
  },
  {
   "cell_type": "code",
   "execution_count": 111,
   "metadata": {},
   "outputs": [],
   "source": [
    "mse_baseline_avg = mean_squared_error(val_labels, avg_train_label)\n",
    "mae_baseline_avg = mean_absolute_error(val_labels, avg_train_label)\n",
    "smape_baseline_avg = smape(val_labels, avg_train_label)\n",
    "\n",
    "mse_baseline_median = mean_squared_error(val_labels, median_train_label)\n",
    "mae_baseline_avg = mean_absolute_error(val_labels, median_train_label)\n",
    "smape_baseline_median = smape(val_labels, median_train_label)"
   ]
  },
  {
   "cell_type": "code",
   "execution_count": 112,
   "metadata": {},
   "outputs": [
    {
     "name": "stdout",
     "output_type": "stream",
     "text": [
      "Baseline Avg\n",
      "MSE: 0.0126, MAE: 0.0719, SMAPE: 0.0308\n",
      "Baseline Median\n",
      "MSE: 0.0129, MAE: 0.0719, SMAPE: 0.0261\n"
     ]
    }
   ],
   "source": [
    "print (\"Baseline Avg\") \n",
    "print (\"MSE: {}, MAE: {}, SMAPE: {}\".format(round(mse_baseline_avg, 4), round(mae_baseline_avg, 4), round(smape_baseline_avg, 4)))\n",
    "print (\"Baseline Median\")\n",
    "print (\"MSE: {}, MAE: {}, SMAPE: {}\".format(round(mse_baseline_median, 4), round(mae_baseline_avg, 4), round(smape_baseline_median, 4)))"
   ]
  },
  {
   "cell_type": "code",
   "execution_count": 113,
   "metadata": {},
   "outputs": [],
   "source": [
    "val_labels, avg_train_label, median_train_label = ((val_labels/2)**2 - (3/8))*55 + 11, ((avg_train_label/2)**2 - (3/8))*55 + 11, ((median_train_label/2)**2 - (3/8))*55 + 11\n",
    "\n",
    "mse_baseline_avg = mean_squared_error(val_labels, avg_train_label)\n",
    "mae_baseline_avg = mean_absolute_error(val_labels, avg_train_label)\n",
    "smape_baseline_avg = smape(val_labels, avg_train_label)\n",
    "\n",
    "mse_baseline_median = mean_squared_error(val_labels, median_train_label)\n",
    "mae_baseline_avg = mean_absolute_error(val_labels, median_train_label)\n",
    "smape_baseline_median = smape(val_labels, median_train_label)"
   ]
  },
  {
   "cell_type": "code",
   "execution_count": 114,
   "metadata": {},
   "outputs": [
    {
     "name": "stdout",
     "output_type": "stream",
     "text": [
      "Un Anscombed\n",
      "Baseline Avg\n",
      "MSE: 19.9262, MAE: 2.7393, SMAPE: 0.0987\n",
      "Baseline Median\n",
      "MSE: 20.9791, MAE: 2.7393, SMAPE: 0.0828\n"
     ]
    }
   ],
   "source": [
    "print (\"Un Anscombed\")\n",
    "print (\"Baseline Avg\") \n",
    "print (\"MSE: {}, MAE: {}, SMAPE: {}\".format(round(mse_baseline_avg, 4), round(mae_baseline_avg, 4), round(smape_baseline_avg, 4)))\n",
    "print (\"Baseline Median\")\n",
    "print (\"MSE: {}, MAE: {}, SMAPE: {}\".format(round(mse_baseline_median, 4), round(mae_baseline_avg, 4), round(smape_baseline_median, 4)))"
   ]
  },
  {
   "cell_type": "code",
   "execution_count": 3,
   "metadata": {},
   "outputs": [
    {
     "data": {
      "text/plain": [
       "dict_keys(['train', 'val', 'test'])"
      ]
     },
     "execution_count": 3,
     "metadata": {},
     "output_type": "execute_result"
    }
   ],
   "source": [
    "PREDS_FILE_PATH = \"/data/avirinchipur/EMI/outputs/voicemails/PCL11_minmax_ans_avg_roba128/voicemails_PCL11_minmax_ans_avg/7563578782e54beab8dcc3df3bb212e9/preds.pkl\"\n",
    "preds_dict = pickle.load(open(PREDS_FILE_PATH, \"rb\"))\n",
    "preds_dict.keys()"
   ]
  },
  {
   "cell_type": "code",
   "execution_count": 4,
   "metadata": {},
   "outputs": [
    {
     "data": {
      "text/plain": [
       "848"
      ]
     },
     "execution_count": 4,
     "metadata": {},
     "output_type": "execute_result"
    }
   ],
   "source": [
    "len(preds_dict['train']['preds'])"
   ]
  },
  {
   "cell_type": "code",
   "execution_count": 26,
   "metadata": {},
   "outputs": [],
   "source": [
    "preds, target = preds_dict['train']['preds'][-10], preds_dict['train']['target'][-10]\n",
    "# mask = target != 0\n",
    "# # Calculate Pearson correlation\n",
    "# pearsonr(preds[mask], target[mask])"
   ]
  },
  {
   "cell_type": "code",
   "execution_count": 25,
   "metadata": {},
   "outputs": [
    {
     "data": {
      "text/plain": [
       "(-0.19404317750494207, 0.002588534606951888)"
      ]
     },
     "execution_count": 25,
     "metadata": {},
     "output_type": "execute_result"
    }
   ],
   "source": [
    "preds, target = preds_dict['val']['preds'][-10][0], preds_dict['val']['target'][-10][0]\n",
    "mask = target != 0\n",
    "# Calculate Pearson correlation\n",
    "pearsonr(preds[mask], target[mask])"
   ]
  },
  {
   "cell_type": "code",
   "execution_count": 5,
   "metadata": {},
   "outputs": [],
   "source": [
    "timestep_level_preds = {}\n",
    "epoch=225\n",
    "for batch_pred, batch_target in zip(preds_dict['val']['preds'][epoch], preds_dict['val']['target'][epoch]):\n",
    "    batch_mask = ~(batch_target==0)\n",
    "    for time_step in range(batch_pred.shape[1]):\n",
    "        if time_step not in timestep_level_preds: timestep_level_preds[time_step] = {'preds': [], 'target': [], 'mask': []}\n",
    "        timestep_level_preds[time_step]['preds'].extend(batch_pred[:, time_step])\n",
    "        timestep_level_preds[time_step]['target'].extend(batch_target[:, time_step])\n",
    "        timestep_level_preds[time_step]['mask'].extend(batch_mask[:, time_step])"
   ]
  },
  {
   "cell_type": "code",
   "execution_count": 6,
   "metadata": {},
   "outputs": [],
   "source": [
    "timestep_level_metrics = {}\n",
    "for i in timestep_level_preds:\n",
    "    preds, target, mask = timestep_level_preds[i]['preds'], timestep_level_preds[i]['target'], timestep_level_preds[i]['mask']\n",
    "    preds, target, mask = torch.tensor(preds), torch.tensor(target), torch.tensor(mask)\n",
    "    preds, target = ((preds/2)**2 - (3/8))*55 + 11, ((target/2)**2 - (3/8))*55 + 11\n",
    "    mse_timestep = torch.sum(torch.square(preds - target)*mask)/torch.sum(mask)\n",
    "    mae_timestep = torch.sum(torch.abs(preds - target)*mask)/torch.sum(mask)\n",
    "    smape_timestep = torch.sum(torch.abs(preds - target)/(torch.abs(preds) + torch.abs(target) + 1e-8)*mask)/torch.sum(mask)\n",
    "    count_timestep = torch.sum(mask)\n",
    "    timestep_level_metrics[i] = {'mse': mse_timestep.item(), 'mae': mae_timestep.item(), 'smape': smape_timestep.item(), 'count': count_timestep.item()}"
   ]
  },
  {
   "cell_type": "code",
   "execution_count": 7,
   "metadata": {},
   "outputs": [
    {
     "data": {
      "text/html": [
       "<div>\n",
       "<style scoped>\n",
       "    .dataframe tbody tr th:only-of-type {\n",
       "        vertical-align: middle;\n",
       "    }\n",
       "\n",
       "    .dataframe tbody tr th {\n",
       "        vertical-align: top;\n",
       "    }\n",
       "\n",
       "    .dataframe thead th {\n",
       "        text-align: right;\n",
       "    }\n",
       "</style>\n",
       "<table border=\"1\" class=\"dataframe\">\n",
       "  <thead>\n",
       "    <tr style=\"text-align: right;\">\n",
       "      <th></th>\n",
       "      <th>mse</th>\n",
       "      <th>mae</th>\n",
       "      <th>smape</th>\n",
       "      <th>count</th>\n",
       "    </tr>\n",
       "  </thead>\n",
       "  <tbody>\n",
       "    <tr>\n",
       "      <th>0</th>\n",
       "      <td>233.162643</td>\n",
       "      <td>12.513783</td>\n",
       "      <td>0.571252</td>\n",
       "      <td>19.0</td>\n",
       "    </tr>\n",
       "    <tr>\n",
       "      <th>1</th>\n",
       "      <td>280.968994</td>\n",
       "      <td>14.042586</td>\n",
       "      <td>0.527226</td>\n",
       "      <td>19.0</td>\n",
       "    </tr>\n",
       "    <tr>\n",
       "      <th>2</th>\n",
       "      <td>260.248260</td>\n",
       "      <td>12.646894</td>\n",
       "      <td>0.479471</td>\n",
       "      <td>19.0</td>\n",
       "    </tr>\n",
       "    <tr>\n",
       "      <th>3</th>\n",
       "      <td>302.833984</td>\n",
       "      <td>13.782494</td>\n",
       "      <td>0.519594</td>\n",
       "      <td>18.0</td>\n",
       "    </tr>\n",
       "    <tr>\n",
       "      <th>4</th>\n",
       "      <td>321.125671</td>\n",
       "      <td>14.271898</td>\n",
       "      <td>0.516644</td>\n",
       "      <td>18.0</td>\n",
       "    </tr>\n",
       "    <tr>\n",
       "      <th>5</th>\n",
       "      <td>324.427063</td>\n",
       "      <td>15.089183</td>\n",
       "      <td>0.600448</td>\n",
       "      <td>18.0</td>\n",
       "    </tr>\n",
       "    <tr>\n",
       "      <th>6</th>\n",
       "      <td>309.886566</td>\n",
       "      <td>13.114624</td>\n",
       "      <td>0.459036</td>\n",
       "      <td>18.0</td>\n",
       "    </tr>\n",
       "    <tr>\n",
       "      <th>7</th>\n",
       "      <td>191.289673</td>\n",
       "      <td>10.112420</td>\n",
       "      <td>0.371442</td>\n",
       "      <td>18.0</td>\n",
       "    </tr>\n",
       "    <tr>\n",
       "      <th>8</th>\n",
       "      <td>227.627075</td>\n",
       "      <td>10.557377</td>\n",
       "      <td>0.368045</td>\n",
       "      <td>17.0</td>\n",
       "    </tr>\n",
       "    <tr>\n",
       "      <th>9</th>\n",
       "      <td>234.442093</td>\n",
       "      <td>10.958411</td>\n",
       "      <td>0.406806</td>\n",
       "      <td>16.0</td>\n",
       "    </tr>\n",
       "    <tr>\n",
       "      <th>10</th>\n",
       "      <td>266.027283</td>\n",
       "      <td>11.808394</td>\n",
       "      <td>0.450494</td>\n",
       "      <td>15.0</td>\n",
       "    </tr>\n",
       "    <tr>\n",
       "      <th>11</th>\n",
       "      <td>245.450699</td>\n",
       "      <td>11.765578</td>\n",
       "      <td>0.425935</td>\n",
       "      <td>13.0</td>\n",
       "    </tr>\n",
       "    <tr>\n",
       "      <th>12</th>\n",
       "      <td>199.958542</td>\n",
       "      <td>10.412828</td>\n",
       "      <td>0.306778</td>\n",
       "      <td>12.0</td>\n",
       "    </tr>\n",
       "    <tr>\n",
       "      <th>13</th>\n",
       "      <td>362.459656</td>\n",
       "      <td>15.823415</td>\n",
       "      <td>0.596414</td>\n",
       "      <td>10.0</td>\n",
       "    </tr>\n",
       "    <tr>\n",
       "      <th>14</th>\n",
       "      <td>157.076202</td>\n",
       "      <td>11.394047</td>\n",
       "      <td>0.439039</td>\n",
       "      <td>5.0</td>\n",
       "    </tr>\n",
       "    <tr>\n",
       "      <th>15</th>\n",
       "      <td>823.239258</td>\n",
       "      <td>27.722820</td>\n",
       "      <td>0.734019</td>\n",
       "      <td>2.0</td>\n",
       "    </tr>\n",
       "    <tr>\n",
       "      <th>16</th>\n",
       "      <td>365.436127</td>\n",
       "      <td>19.114201</td>\n",
       "      <td>0.529427</td>\n",
       "      <td>2.0</td>\n",
       "    </tr>\n",
       "  </tbody>\n",
       "</table>\n",
       "</div>"
      ],
      "text/plain": [
       "           mse        mae     smape  count\n",
       "0   233.162643  12.513783  0.571252   19.0\n",
       "1   280.968994  14.042586  0.527226   19.0\n",
       "2   260.248260  12.646894  0.479471   19.0\n",
       "3   302.833984  13.782494  0.519594   18.0\n",
       "4   321.125671  14.271898  0.516644   18.0\n",
       "5   324.427063  15.089183  0.600448   18.0\n",
       "6   309.886566  13.114624  0.459036   18.0\n",
       "7   191.289673  10.112420  0.371442   18.0\n",
       "8   227.627075  10.557377  0.368045   17.0\n",
       "9   234.442093  10.958411  0.406806   16.0\n",
       "10  266.027283  11.808394  0.450494   15.0\n",
       "11  245.450699  11.765578  0.425935   13.0\n",
       "12  199.958542  10.412828  0.306778   12.0\n",
       "13  362.459656  15.823415  0.596414   10.0\n",
       "14  157.076202  11.394047  0.439039    5.0\n",
       "15  823.239258  27.722820  0.734019    2.0\n",
       "16  365.436127  19.114201  0.529427    2.0"
      ]
     },
     "execution_count": 7,
     "metadata": {},
     "output_type": "execute_result"
    }
   ],
   "source": [
    "pd.DataFrame(timestep_level_metrics).T"
   ]
  },
  {
   "cell_type": "code",
   "execution_count": null,
   "metadata": {},
   "outputs": [],
   "source": []
  }
 ],
 "metadata": {
  "kernelspec": {
   "display_name": "emi",
   "language": "python",
   "name": "python3"
  },
  "language_info": {
   "codemirror_mode": {
    "name": "ipython",
    "version": 3
   },
   "file_extension": ".py",
   "mimetype": "text/x-python",
   "name": "python",
   "nbconvert_exporter": "python",
   "pygments_lexer": "ipython3",
   "version": "3.9.12"
  },
  "orig_nbformat": 4
 },
 "nbformat": 4,
 "nbformat_minor": 2
}
