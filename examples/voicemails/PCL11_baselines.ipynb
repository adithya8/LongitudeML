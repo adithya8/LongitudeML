{
 "cells": [
  {
   "cell_type": "code",
   "execution_count": 2,
   "metadata": {},
   "outputs": [],
   "source": [
    "import pickle\n",
    "import numpy as np\n",
    "from sklearn.metrics import mean_squared_error, mean_absolute_error\n",
    "from scipy.stats import pearsonr\n",
    "\n",
    "import pandas as pd\n",
    "import torch\n"
   ]
  },
  {
   "cell_type": "code",
   "execution_count": 3,
   "metadata": {},
   "outputs": [],
   "source": [
    "def smape(y_true, y_pred):\n",
    "    return np.mean(np.abs((y_true - y_pred) / (y_true + y_pred)))"
   ]
  },
  {
   "cell_type": "code",
   "execution_count": 4,
   "metadata": {},
   "outputs": [
    {
     "name": "stdout",
     "output_type": "stream",
     "text": [
      "dict_keys(['train_data', 'val_data', 'test_data'])\n"
     ]
    }
   ],
   "source": [
    "PICKLE_FILE_PATH = \"/data/avirinchipur/EMI/datadicts/voicemails_PCL11_minmax_ans_avg_roba128_rangel3u14.pkl\"\n",
    "datadict = pickle.load(open(PICKLE_FILE_PATH, \"rb\"))\n",
    "print (datadict.keys())"
   ]
  },
  {
   "cell_type": "code",
   "execution_count": 5,
   "metadata": {},
   "outputs": [
    {
     "name": "stdout",
     "output_type": "stream",
     "text": [
      "Num train examples: 122\n",
      "Num val examples: 19\n"
     ]
    }
   ],
   "source": [
    "train_data, val_data = datadict['train_data'], datadict['val_data']\n",
    "print (\"Num train examples: {}\".format(len(train_data['labels'])))\n",
    "print (\"Num val examples: {}\".format(len(val_data['labels'])))\n"
   ]
  },
  {
   "cell_type": "code",
   "execution_count": 6,
   "metadata": {},
   "outputs": [
    {
     "name": "stdout",
     "output_type": "stream",
     "text": [
      "Train Label distribution\n",
      "Min: 1.224744871391589, Max: 1.8540872566577051, Avg: 1.3584739428492187, Median: 1.3092415949028486\n",
      "Val Label distribution\n",
      "Min: 1.224744871391589, Max: 1.8602191717778138, Avg: 1.3582451887013627, Median: 1.324565602916875\n"
     ]
    }
   ],
   "source": [
    "train_labels = list(map(lambda x: x[0], train_data['labels']))\n",
    "val_labels = list(map(lambda x: x[0], val_data['labels']))\n",
    "print (\"Train Label distribution\")\n",
    "print (\"Min: {}, Max: {}, Avg: {}, Median: {}\".format(min(train_labels), max(train_labels), sum(train_labels)/len(train_labels), sorted(train_labels)[len(train_labels)//2]))\n",
    "print (\"Val Label distribution\")\n",
    "print (\"Min: {}, Max: {}, Avg: {}, Median: {}\".format(min(val_labels), max(val_labels), sum(val_labels)/len(val_labels), sorted(val_labels)[len(val_labels)//2]))"
   ]
  },
  {
   "cell_type": "code",
   "execution_count": 7,
   "metadata": {},
   "outputs": [],
   "source": [
    "avg_train_label = np.array([sum(train_labels)/len(train_labels)]*len(val_labels))\n",
    "median_train_label = np.array([sorted(train_labels)[len(train_labels)//2]]*len(val_labels))\n",
    "val_labels = np.array(val_labels)"
   ]
  },
  {
   "cell_type": "code",
   "execution_count": 8,
   "metadata": {},
   "outputs": [
    {
     "name": "stdout",
     "output_type": "stream",
     "text": [
      "1.3584739428492187 1.3092415949028486\n"
     ]
    }
   ],
   "source": [
    "print (avg_train_label[0], median_train_label[0])"
   ]
  },
  {
   "cell_type": "code",
   "execution_count": 9,
   "metadata": {},
   "outputs": [],
   "source": [
    "mse_baseline_avg = mean_squared_error(val_labels, avg_train_label)\n",
    "mae_baseline_avg = mean_absolute_error(val_labels, avg_train_label)\n",
    "smape_baseline_avg = smape(val_labels, avg_train_label)\n",
    "\n",
    "mse_baseline_median = mean_squared_error(val_labels, median_train_label)\n",
    "mae_baseline_avg = mean_absolute_error(val_labels, median_train_label)\n",
    "smape_baseline_median = smape(val_labels, median_train_label)"
   ]
  },
  {
   "cell_type": "code",
   "execution_count": 10,
   "metadata": {},
   "outputs": [
    {
     "name": "stdout",
     "output_type": "stream",
     "text": [
      "Baseline Avg\n",
      "MSE: 0.0234, MAE: 0.1003, SMAPE: 0.0371\n",
      "Baseline Median\n",
      "MSE: 0.0258, MAE: 0.1003, SMAPE: 0.0355\n"
     ]
    }
   ],
   "source": [
    "print (\"Baseline Avg\") \n",
    "print (\"MSE: {}, MAE: {}, SMAPE: {}\".format(round(mse_baseline_avg, 4), round(mae_baseline_avg, 4), round(smape_baseline_avg, 4)))\n",
    "print (\"Baseline Median\")\n",
    "print (\"MSE: {}, MAE: {}, SMAPE: {}\".format(round(mse_baseline_median, 4), round(mae_baseline_avg, 4), round(smape_baseline_median, 4)))"
   ]
  },
  {
   "cell_type": "code",
   "execution_count": 11,
   "metadata": {},
   "outputs": [],
   "source": [
    "val_labels, avg_train_label, median_train_label = ((val_labels/2)**2 - (3/8))*55 + 11, ((avg_train_label/2)**2 - (3/8))*55 + 11, ((median_train_label/2)**2 - (3/8))*55 + 11\n",
    "\n",
    "mse_baseline_avg = mean_squared_error(val_labels, avg_train_label)\n",
    "mae_baseline_avg = mean_absolute_error(val_labels, avg_train_label)\n",
    "smape_baseline_avg = smape(val_labels, avg_train_label)\n",
    "\n",
    "mse_baseline_median = mean_squared_error(val_labels, median_train_label)\n",
    "mae_baseline_avg = mean_absolute_error(val_labels, median_train_label)\n",
    "smape_baseline_median = smape(val_labels, median_train_label)"
   ]
  },
  {
   "cell_type": "code",
   "execution_count": 12,
   "metadata": {},
   "outputs": [
    {
     "name": "stdout",
     "output_type": "stream",
     "text": [
      "Un Anscombed\n",
      "Baseline Avg\n",
      "MSE: 40.6621, MAE: 3.9186, SMAPE: 0.1162\n",
      "Baseline Median\n",
      "MSE: 45.0546, MAE: 3.9186, SMAPE: 0.1104\n"
     ]
    }
   ],
   "source": [
    "print (\"Un Anscombed\")\n",
    "print (\"Baseline Avg\") \n",
    "print (\"MSE: {}, MAE: {}, SMAPE: {}\".format(round(mse_baseline_avg, 4), round(mae_baseline_avg, 4), round(smape_baseline_avg, 4)))\n",
    "print (\"Baseline Median\")\n",
    "print (\"MSE: {}, MAE: {}, SMAPE: {}\".format(round(mse_baseline_median, 4), round(mae_baseline_avg, 4), round(smape_baseline_median, 4)))"
   ]
  },
  {
   "cell_type": "code",
   "execution_count": 13,
   "metadata": {},
   "outputs": [
    {
     "data": {
      "text/plain": [
       "dict_keys(['train', 'val', 'test'])"
      ]
     },
     "execution_count": 13,
     "metadata": {},
     "output_type": "execute_result"
    }
   ],
   "source": [
    "PREDS_FILE_PATH = \"/data/avirinchipur/EMI/outputs/voicemails/PCL11_minmax_ans_avg_roba128/voicemails_PCL11_minmax_ans_avg_hparams/8f399596359e423c9d861c882bcc1f7d/preds.pkl\"\n",
    "preds_dict = pickle.load(open(PREDS_FILE_PATH, \"rb\"))\n",
    "preds_dict.keys()"
   ]
  },
  {
   "cell_type": "code",
   "execution_count": 14,
   "metadata": {},
   "outputs": [
    {
     "data": {
      "text/plain": [
       "1000"
      ]
     },
     "execution_count": 14,
     "metadata": {},
     "output_type": "execute_result"
    }
   ],
   "source": [
    "len(preds_dict['train']['preds'])"
   ]
  },
  {
   "cell_type": "code",
   "execution_count": 15,
   "metadata": {},
   "outputs": [],
   "source": [
    "preds, target = preds_dict['train']['preds'][737], preds_dict['train']['target'][737]\n",
    "# mask = target != 0\n",
    "# # Calculate Pearson correlation\n",
    "# pearsonr(preds[mask], target[mask])"
   ]
  },
  {
   "cell_type": "code",
   "execution_count": 16,
   "metadata": {},
   "outputs": [
    {
     "name": "stdout",
     "output_type": "stream",
     "text": [
      "Pearson r:  (0.19300775252363028, 0.0024624545171336213)\n",
      "MSE:  0.16199276\n",
      "MAE:  0.25019816\n",
      "SMAPE:  0.12055549\n"
     ]
    }
   ],
   "source": [
    "preds, target = preds_dict['val']['preds'][737][0], preds_dict['val']['target'][737][0]\n",
    "mask = target != 0\n",
    "# Calculate Pearson correlation\n",
    "print ('Pearson r: ', pearsonr(preds[mask], target[mask]))\n",
    "print ('MSE: ', mean_squared_error(preds[mask], target[mask]))\n",
    "print ('MAE: ', mean_absolute_error(preds[mask], target[mask]))\n",
    "print ('SMAPE: ', smape(preds[mask].numpy(), target[mask].numpy()))"
   ]
  },
  {
   "cell_type": "code",
   "execution_count": 17,
   "metadata": {},
   "outputs": [],
   "source": [
    "timestep_level_preds = {}\n",
    "epoch=737\n",
    "for batch_pred, batch_target in zip(preds_dict['val']['preds'][epoch], preds_dict['val']['target'][epoch]):\n",
    "    batch_mask = ~(batch_target==0)\n",
    "    for time_step in range(batch_pred.shape[1]):\n",
    "        if time_step not in timestep_level_preds: timestep_level_preds[time_step] = {'preds': [], 'target': [], 'mask': []}\n",
    "        timestep_level_preds[time_step]['preds'].extend(batch_pred[:, time_step])\n",
    "        timestep_level_preds[time_step]['target'].extend(batch_target[:, time_step])\n",
    "        timestep_level_preds[time_step]['mask'].extend(batch_mask[:, time_step])"
   ]
  },
  {
   "cell_type": "code",
   "execution_count": 18,
   "metadata": {},
   "outputs": [],
   "source": [
    "timestep_level_metrics = {}\n",
    "for i in timestep_level_preds:\n",
    "    preds, target, mask = timestep_level_preds[i]['preds'], timestep_level_preds[i]['target'], timestep_level_preds[i]['mask']\n",
    "    preds, target, mask = torch.tensor(preds), torch.tensor(target), torch.tensor(mask)\n",
    "    preds, target = ((preds/2)**2 - (3/8))*55 + 11, ((target/2)**2 - (3/8))*55 + 11\n",
    "    mse_timestep = torch.sum(torch.square(preds - target)*mask)/torch.sum(mask)\n",
    "    mae_timestep = torch.sum(torch.abs(preds - target)*mask)/torch.sum(mask)\n",
    "    smape_timestep = torch.sum(torch.abs(preds - target)/(torch.abs(preds) + torch.abs(target) + 1e-8)*mask)/torch.sum(mask)\n",
    "    count_timestep = torch.sum(mask)\n",
    "    timestep_level_metrics[i] = {'mse': mse_timestep.item(), 'mae': mae_timestep.item(), 'smape': smape_timestep.item(), 'count': count_timestep.item()}"
   ]
  },
  {
   "cell_type": "code",
   "execution_count": 19,
   "metadata": {},
   "outputs": [
    {
     "data": {
      "text/html": [
       "<div>\n",
       "<style scoped>\n",
       "    .dataframe tbody tr th:only-of-type {\n",
       "        vertical-align: middle;\n",
       "    }\n",
       "\n",
       "    .dataframe tbody tr th {\n",
       "        vertical-align: top;\n",
       "    }\n",
       "\n",
       "    .dataframe thead th {\n",
       "        text-align: right;\n",
       "    }\n",
       "</style>\n",
       "<table border=\"1\" class=\"dataframe\">\n",
       "  <thead>\n",
       "    <tr style=\"text-align: right;\">\n",
       "      <th></th>\n",
       "      <th>mse</th>\n",
       "      <th>mae</th>\n",
       "      <th>smape</th>\n",
       "      <th>count</th>\n",
       "    </tr>\n",
       "  </thead>\n",
       "  <tbody>\n",
       "    <tr>\n",
       "      <th>0</th>\n",
       "      <td>52.231110</td>\n",
       "      <td>4.722153</td>\n",
       "      <td>0.145023</td>\n",
       "      <td>19.0</td>\n",
       "    </tr>\n",
       "    <tr>\n",
       "      <th>1</th>\n",
       "      <td>106.585320</td>\n",
       "      <td>6.965294</td>\n",
       "      <td>0.264477</td>\n",
       "      <td>19.0</td>\n",
       "    </tr>\n",
       "    <tr>\n",
       "      <th>2</th>\n",
       "      <td>183.671432</td>\n",
       "      <td>8.787758</td>\n",
       "      <td>0.345185</td>\n",
       "      <td>19.0</td>\n",
       "    </tr>\n",
       "    <tr>\n",
       "      <th>3</th>\n",
       "      <td>212.117142</td>\n",
       "      <td>9.768369</td>\n",
       "      <td>0.385870</td>\n",
       "      <td>19.0</td>\n",
       "    </tr>\n",
       "    <tr>\n",
       "      <th>4</th>\n",
       "      <td>134.728790</td>\n",
       "      <td>6.620628</td>\n",
       "      <td>0.232378</td>\n",
       "      <td>19.0</td>\n",
       "    </tr>\n",
       "    <tr>\n",
       "      <th>5</th>\n",
       "      <td>159.753937</td>\n",
       "      <td>8.677685</td>\n",
       "      <td>0.344561</td>\n",
       "      <td>19.0</td>\n",
       "    </tr>\n",
       "    <tr>\n",
       "      <th>6</th>\n",
       "      <td>139.586975</td>\n",
       "      <td>7.271071</td>\n",
       "      <td>0.281410</td>\n",
       "      <td>19.0</td>\n",
       "    </tr>\n",
       "    <tr>\n",
       "      <th>7</th>\n",
       "      <td>171.384735</td>\n",
       "      <td>9.651164</td>\n",
       "      <td>0.401910</td>\n",
       "      <td>19.0</td>\n",
       "    </tr>\n",
       "    <tr>\n",
       "      <th>8</th>\n",
       "      <td>135.526276</td>\n",
       "      <td>8.970512</td>\n",
       "      <td>0.400401</td>\n",
       "      <td>17.0</td>\n",
       "    </tr>\n",
       "    <tr>\n",
       "      <th>9</th>\n",
       "      <td>111.603188</td>\n",
       "      <td>7.215124</td>\n",
       "      <td>0.287426</td>\n",
       "      <td>17.0</td>\n",
       "    </tr>\n",
       "    <tr>\n",
       "      <th>10</th>\n",
       "      <td>168.482269</td>\n",
       "      <td>9.318977</td>\n",
       "      <td>0.393147</td>\n",
       "      <td>17.0</td>\n",
       "    </tr>\n",
       "    <tr>\n",
       "      <th>11</th>\n",
       "      <td>98.397720</td>\n",
       "      <td>6.861518</td>\n",
       "      <td>0.281260</td>\n",
       "      <td>17.0</td>\n",
       "    </tr>\n",
       "    <tr>\n",
       "      <th>12</th>\n",
       "      <td>22.026518</td>\n",
       "      <td>3.113581</td>\n",
       "      <td>0.101027</td>\n",
       "      <td>14.0</td>\n",
       "    </tr>\n",
       "    <tr>\n",
       "      <th>13</th>\n",
       "      <td>43.863796</td>\n",
       "      <td>5.143666</td>\n",
       "      <td>0.152509</td>\n",
       "      <td>7.0</td>\n",
       "    </tr>\n",
       "    <tr>\n",
       "      <th>14</th>\n",
       "      <td>23.356817</td>\n",
       "      <td>3.592038</td>\n",
       "      <td>0.164274</td>\n",
       "      <td>3.0</td>\n",
       "    </tr>\n",
       "  </tbody>\n",
       "</table>\n",
       "</div>"
      ],
      "text/plain": [
       "           mse       mae     smape  count\n",
       "0    52.231110  4.722153  0.145023   19.0\n",
       "1   106.585320  6.965294  0.264477   19.0\n",
       "2   183.671432  8.787758  0.345185   19.0\n",
       "3   212.117142  9.768369  0.385870   19.0\n",
       "4   134.728790  6.620628  0.232378   19.0\n",
       "5   159.753937  8.677685  0.344561   19.0\n",
       "6   139.586975  7.271071  0.281410   19.0\n",
       "7   171.384735  9.651164  0.401910   19.0\n",
       "8   135.526276  8.970512  0.400401   17.0\n",
       "9   111.603188  7.215124  0.287426   17.0\n",
       "10  168.482269  9.318977  0.393147   17.0\n",
       "11   98.397720  6.861518  0.281260   17.0\n",
       "12   22.026518  3.113581  0.101027   14.0\n",
       "13   43.863796  5.143666  0.152509    7.0\n",
       "14   23.356817  3.592038  0.164274    3.0"
      ]
     },
     "execution_count": 19,
     "metadata": {},
     "output_type": "execute_result"
    }
   ],
   "source": [
    "pd.DataFrame(timestep_level_metrics).T"
   ]
  },
  {
   "cell_type": "code",
   "execution_count": 20,
   "metadata": {},
   "outputs": [
    {
     "name": "stdout",
     "output_type": "stream",
     "text": [
      "dict_keys(['train', 'val', 'test'])\n"
     ]
    }
   ],
   "source": [
    "epoch_metrics = pickle.load(open(\"/data/avirinchipur/EMI/outputs/voicemails/PCL11_minmax_ans_avg_roba128/voicemails_PCL11_minmax_ans_avg_hparams/8f399596359e423c9d861c882bcc1f7d/epoch_metrics.pkl\", \"rb\"))\n",
    "print (epoch_metrics.keys())"
   ]
  },
  {
   "cell_type": "code",
   "execution_count": 21,
   "metadata": {},
   "outputs": [
    {
     "data": {
      "text/plain": [
       "[tensor(0.0096),\n",
       " tensor(0.0197),\n",
       " tensor(-0.0256),\n",
       " tensor(0.0092),\n",
       " tensor(-0.0480),\n",
       " tensor(-0.0025),\n",
       " tensor(-0.0527),\n",
       " tensor(-0.0081),\n",
       " tensor(-0.0263),\n",
       " tensor(-0.0035),\n",
       " tensor(-0.0765),\n",
       " tensor(0.0044),\n",
       " tensor(-0.0135),\n",
       " tensor(0.0107),\n",
       " tensor(-0.0665)]"
      ]
     },
     "execution_count": 21,
     "metadata": {},
     "output_type": "execute_result"
    }
   ],
   "source": [
    "epoch_metrics['val']['pearsonr'][:15]"
   ]
  },
  {
   "cell_type": "code",
   "execution_count": 22,
   "metadata": {},
   "outputs": [
    {
     "data": {
      "text/plain": [
       "tensor([[ 0.4240,  0.1044, -0.1692,  ...,  0.1044,  0.1044,  0.1044],\n",
       "        [-0.0439,  0.1044,  0.1044,  ...,  0.1044,  0.1044,  0.1044],\n",
       "        [ 0.3634, -0.0163, -0.5928,  ...,  0.1044,  0.1044,  0.1044],\n",
       "        ...,\n",
       "        [-0.1335,  0.1044,  0.1044,  ...,  0.1044,  0.1044,  0.1044],\n",
       "        [ 0.0063, -0.2970,  0.0112,  ...,  0.1044,  0.1044,  0.1044],\n",
       "        [ 0.2837, -0.3592,  0.1485,  ...,  0.1044,  0.1044,  0.1044]])"
      ]
     },
     "execution_count": 22,
     "metadata": {},
     "output_type": "execute_result"
    }
   ],
   "source": [
    "preds_dict['train']['preds'][0][0]"
   ]
  },
  {
   "cell_type": "code",
   "execution_count": 23,
   "metadata": {},
   "outputs": [
    {
     "data": {
      "text/plain": [
       "tensor([[1.3234, 1.3234, 1.3234,  ..., 0.0000, 0.0000, 0.0000],\n",
       "        [1.2939, 1.2939, 1.2939,  ..., 0.0000, 0.0000, 0.0000],\n",
       "        [1.8259, 1.8259, 1.8259,  ..., 0.0000, 0.0000, 0.0000],\n",
       "        ...,\n",
       "        [1.3462, 1.3462, 1.3462,  ..., 0.0000, 0.0000, 0.0000],\n",
       "        [1.5181, 1.5181, 1.5181,  ..., 0.0000, 0.0000, 0.0000],\n",
       "        [1.3873, 1.3873, 1.3873,  ..., 0.0000, 0.0000, 0.0000]])"
      ]
     },
     "execution_count": 23,
     "metadata": {},
     "output_type": "execute_result"
    }
   ],
   "source": [
    "preds_dict['train']['target'][0][0]"
   ]
  },
  {
   "cell_type": "code",
   "execution_count": 24,
   "metadata": {},
   "outputs": [
    {
     "data": {
      "text/plain": [
       "tensor([[1.2378, 1.2378, 1.2378, 1.2378, 1.2378, 1.2378, 1.2378, 1.2378, 1.2378,\n",
       "         1.2378, 1.2378, 1.2378, 1.2378, 0.0000, 0.0000],\n",
       "        [1.3555, 1.3555, 1.3555, 1.3555, 1.3555, 1.3555, 1.3555, 1.3555, 0.0000,\n",
       "         0.0000, 0.0000, 0.0000, 0.0000, 0.0000, 0.0000],\n",
       "        [1.2354, 1.2354, 1.2354, 1.2354, 1.2354, 1.2354, 1.2354, 1.2354, 1.2354,\n",
       "         1.2354, 1.2354, 1.2354, 1.2354, 0.0000, 0.0000],\n",
       "        [1.3674, 1.3674, 1.3674, 1.3674, 1.3674, 1.3674, 1.3674, 1.3674, 1.3674,\n",
       "         1.3674, 1.3674, 1.3674, 1.3674, 1.3674, 1.3674],\n",
       "        [1.3954, 1.3954, 1.3954, 1.3954, 1.3954, 1.3954, 1.3954, 1.3954, 1.3954,\n",
       "         1.3954, 1.3954, 1.3954, 1.3954, 0.0000, 0.0000],\n",
       "        [1.2819, 1.2819, 1.2819, 1.2819, 1.2819, 1.2819, 1.2819, 1.2819, 1.2819,\n",
       "         1.2819, 1.2819, 1.2819, 1.2819, 0.0000, 0.0000],\n",
       "        [1.2805, 1.2805, 1.2805, 1.2805, 1.2805, 1.2805, 1.2805, 1.2805, 1.2805,\n",
       "         1.2805, 1.2805, 1.2805, 0.0000, 0.0000, 0.0000],\n",
       "        [1.3344, 1.3344, 1.3344, 1.3344, 1.3344, 1.3344, 1.3344, 1.3344, 1.3344,\n",
       "         1.3344, 1.3344, 1.3344, 1.3344, 1.3344, 0.0000],\n",
       "        [1.2570, 1.2570, 1.2570, 1.2570, 1.2570, 1.2570, 1.2570, 1.2570, 1.2570,\n",
       "         1.2570, 1.2570, 1.2570, 1.2570, 0.0000, 0.0000],\n",
       "        [1.3542, 1.3542, 1.3542, 1.3542, 1.3542, 1.3542, 1.3542, 1.3542, 1.3542,\n",
       "         1.3542, 1.3542, 1.3542, 1.3542, 1.3542, 0.0000],\n",
       "        [1.2409, 1.2409, 1.2409, 1.2409, 1.2409, 1.2409, 1.2409, 1.2409, 1.2409,\n",
       "         1.2409, 1.2409, 1.2409, 1.2409, 1.2409, 0.0000],\n",
       "        [1.4803, 1.4803, 1.4803, 1.4803, 1.4803, 1.4803, 1.4803, 1.4803, 0.0000,\n",
       "         0.0000, 0.0000, 0.0000, 0.0000, 0.0000, 0.0000],\n",
       "        [1.2374, 1.2374, 1.2374, 1.2374, 1.2374, 1.2374, 1.2374, 1.2374, 1.2374,\n",
       "         1.2374, 1.2374, 1.2374, 1.2374, 1.2374, 1.2374],\n",
       "        [1.8602, 1.8602, 1.8602, 1.8602, 1.8602, 1.8602, 1.8602, 1.8602, 1.8602,\n",
       "         1.8602, 1.8602, 1.8602, 1.8602, 1.8602, 0.0000],\n",
       "        [1.2247, 1.2247, 1.2247, 1.2247, 1.2247, 1.2247, 1.2247, 1.2247, 1.2247,\n",
       "         1.2247, 1.2247, 1.2247, 0.0000, 0.0000, 0.0000],\n",
       "        [1.3006, 1.3006, 1.3006, 1.3006, 1.3006, 1.3006, 1.3006, 1.3006, 1.3006,\n",
       "         1.3006, 1.3006, 1.3006, 1.3006, 0.0000, 0.0000],\n",
       "        [1.3246, 1.3246, 1.3246, 1.3246, 1.3246, 1.3246, 1.3246, 1.3246, 1.3246,\n",
       "         1.3246, 1.3246, 1.3246, 1.3246, 1.3246, 1.3246],\n",
       "        [1.4157, 1.4157, 1.4157, 1.4157, 1.4157, 1.4157, 1.4157, 1.4157, 1.4157,\n",
       "         1.4157, 1.4157, 1.4157, 1.4157, 0.0000, 0.0000],\n",
       "        [1.6228, 1.6228, 1.6228, 1.6228, 1.6228, 1.6228, 1.6228, 1.6228, 1.6228,\n",
       "         1.6228, 1.6228, 1.6228, 0.0000, 0.0000, 0.0000]])"
      ]
     },
     "execution_count": 24,
     "metadata": {},
     "output_type": "execute_result"
    }
   ],
   "source": [
    "preds_dict['val']['target'][737][0]"
   ]
  },
  {
   "cell_type": "code",
   "execution_count": 25,
   "metadata": {},
   "outputs": [
    {
     "data": {
      "text/plain": [
       "tensor([[1.2236, 1.2217, 0.4925, 0.4925, 1.2778, 1.2409, 1.2785, 0.4925, 0.4925,\n",
       "         1.2187, 0.4925, 1.2503, 1.3347, 0.4925, 0.4925],\n",
       "        [1.2347, 1.2983, 1.2759, 1.2387, 0.4925, 1.2679, 0.4925, 1.3043, 0.4925,\n",
       "         0.4925, 0.4925, 0.4925, 0.4925, 0.4925, 0.4925],\n",
       "        [1.2127, 1.2254, 1.2559, 1.2812, 1.2436, 0.4925, 1.2916, 1.2679, 0.4925,\n",
       "         1.2723, 0.4925, 1.2706, 1.2240, 0.4925, 0.4925],\n",
       "        [1.2501, 1.2658, 1.2319, 0.4925, 1.2838, 1.2723, 1.2615, 1.2663, 1.2741,\n",
       "         1.3097, 1.3122, 1.2970, 1.3628, 1.3367, 1.4001],\n",
       "        [1.2318, 0.4925, 1.4025, 1.3913, 1.3909, 1.4348, 1.4332, 0.4925, 1.4225,\n",
       "         1.3980, 1.3712, 1.4412, 1.4167, 0.4925, 0.4925],\n",
       "        [1.1954, 0.4925, 0.4925, 1.1926, 1.1871, 1.4229, 1.4598, 1.4872, 0.4925,\n",
       "         0.4925, 0.4925, 1.3038, 1.2352, 0.4925, 0.4925],\n",
       "        [1.2388, 1.2085, 1.2748, 0.4925, 1.2779, 1.2607, 1.2631, 0.4925, 1.3802,\n",
       "         1.3342, 1.3193, 1.3216, 0.4925, 0.4925, 0.4925],\n",
       "        [1.2921, 1.3011, 1.3256, 0.4925, 1.3425, 0.4925, 1.2935, 1.3548, 1.3572,\n",
       "         1.4671, 1.4637, 0.4925, 1.4398, 1.4891, 0.4925],\n",
       "        [1.2165, 1.2284, 1.3107, 1.2765, 1.2248, 1.2952, 1.2800, 1.2069, 1.1762,\n",
       "         1.2101, 1.1664, 1.1808, 1.2044, 0.4925, 0.4925],\n",
       "        [1.2349, 1.2464, 1.2690, 1.3495, 1.2859, 1.2998, 1.2574, 0.4925, 1.1766,\n",
       "         1.0908, 1.1350, 1.1854, 1.1787, 1.2398, 0.4925],\n",
       "        [1.2285, 1.2510, 1.2213, 1.2243, 1.2248, 1.2229, 1.2079, 1.2225, 0.4925,\n",
       "         1.1923, 1.2094, 0.4925, 1.1787, 1.1765, 0.4925],\n",
       "        [1.2281, 1.2829, 1.2397, 1.2830, 0.4925, 0.4925, 1.4715, 1.4294, 0.4925,\n",
       "         0.4925, 0.4925, 0.4925, 0.4925, 0.4925, 0.4925],\n",
       "        [1.2870, 1.2870, 1.2305, 1.2428, 1.2199, 1.1999, 0.4925, 1.2093, 1.1642,\n",
       "         1.1290, 1.1787, 1.2040, 1.1997, 1.1796, 1.1964],\n",
       "        [1.3407, 1.3941, 1.2404, 1.2742, 1.3114, 1.3920, 1.4306, 1.4197, 1.3855,\n",
       "         1.4324, 1.4649, 1.5183, 1.5702, 1.5571, 0.4925],\n",
       "        [1.2953, 0.4925, 0.4925, 1.2742, 1.2209, 0.4925, 0.4925, 0.4925, 0.4925,\n",
       "         0.4925, 0.4925, 1.3050, 0.4925, 0.4925, 0.4925],\n",
       "        [1.2813, 1.2513, 1.2218, 1.2489, 1.2216, 1.2347, 1.2606, 1.2432, 1.2253,\n",
       "         1.2192, 1.2338, 0.4925, 1.2527, 0.4925, 0.4925],\n",
       "        [1.1478, 1.4664, 1.3877, 1.2905, 1.3239, 1.3878, 1.3070, 1.1756, 1.2617,\n",
       "         1.2718, 1.1720, 1.0784, 1.1362, 1.1331, 1.0774],\n",
       "        [1.2967, 1.2795, 0.4925, 0.4925, 0.4925, 0.4925, 1.3182, 0.4925, 1.2693,\n",
       "         0.4925, 1.2771, 1.3636, 1.4205, 0.4925, 0.4925],\n",
       "        [1.2559, 1.2549, 0.4925, 0.4925, 1.3044, 1.3047, 0.4925, 1.3245, 1.3526,\n",
       "         1.3533, 0.4925, 1.3510, 0.4925, 0.4925, 0.4925]])"
      ]
     },
     "execution_count": 25,
     "metadata": {},
     "output_type": "execute_result"
    }
   ],
   "source": [
    " preds_dict['val']['preds'][737][0]"
   ]
  },
  {
   "cell_type": "code",
   "execution_count": 26,
   "metadata": {},
   "outputs": [
    {
     "name": "stdout",
     "output_type": "stream",
     "text": [
      "dict_keys(['train', 'val', 'test'])\n"
     ]
    }
   ],
   "source": [
    "new_preds = pickle.load(open(\"/data/avirinchipur/EMI/outputs/voicemails/PCL11_minmax_ans_avg_roba128/voicemails_PCL11_minmax_ans_avg_hparams/3fcbf630493e4de093db0de11b6e5c79/preds.pkl\", \"rb\"))\n",
    "print (new_preds.keys())"
   ]
  },
  {
   "cell_type": "code",
   "execution_count": 27,
   "metadata": {},
   "outputs": [
    {
     "data": {
      "text/plain": [
       "tensor([[1.2378, 1.2181, 1.2031, 1.1998, 1.2063, 1.1945, 1.2662, 1.3259, 1.3704,\n",
       "         1.3203, 1.2972, 1.3380, 1.3991, 0.4929, 0.4929],\n",
       "        [1.2663, 1.3347, 1.3158, 1.2937, 1.3017, 1.3132, 1.3163, 1.3546, 0.4929,\n",
       "         0.4929, 0.4929, 0.4929, 0.4929, 0.4929, 0.4929],\n",
       "        [1.1833, 1.2463, 1.2706, 1.2805, 1.2552, 1.2603, 1.3025, 1.2892, 1.2814,\n",
       "         1.2918, 1.3089, 1.3204, 1.2801, 0.4929, 0.4929],\n",
       "        [1.2210, 1.2649, 1.2233, 1.2027, 1.2559, 1.2566, 1.2398, 1.2667, 1.2773,\n",
       "         1.3225, 1.3033, 1.2977, 1.3466, 1.3272, 1.4081],\n",
       "        [1.2005, 1.2343, 1.3800, 1.3731, 1.3495, 1.3957, 1.3968, 1.4027, 1.4316,\n",
       "         1.3799, 1.3727, 1.4237, 1.4047, 0.4929, 0.4929],\n",
       "        [1.2610, 1.2024, 1.1572, 1.1394, 1.1262, 1.2430, 1.2913, 1.3432, 1.3868,\n",
       "         1.4183, 1.4414, 1.3513, 1.2584, 0.4929, 0.4929],\n",
       "        [1.2690, 1.2541, 1.3022, 1.3381, 1.3373, 1.3139, 1.3292, 1.3421, 1.3915,\n",
       "         1.3625, 1.3448, 1.3505, 0.4929, 0.4929, 0.4929],\n",
       "        [1.2282, 1.2722, 1.2668, 1.2707, 1.3270, 1.3643, 1.3454, 1.3849, 1.3663,\n",
       "         1.4646, 1.4380, 1.4520, 1.4933, 1.4952, 0.4929],\n",
       "        [1.1882, 1.2277, 1.2931, 1.2658, 1.2209, 1.2809, 1.2907, 1.2264, 1.2273,\n",
       "         1.2524, 1.1879, 1.1754, 1.1974, 0.4929, 0.4929],\n",
       "        [1.2496, 1.2681, 1.2848, 1.2882, 1.2256, 1.2438, 1.2309, 1.2154, 1.1386,\n",
       "         1.0228, 1.0954, 1.1503, 1.1349, 1.1800, 0.4929],\n",
       "        [1.1969, 1.2461, 1.2523, 1.2276, 1.2449, 1.2464, 1.2452, 1.2284, 1.2230,\n",
       "         1.2169, 1.2197, 1.2065, 1.2001, 1.2046, 0.4929],\n",
       "        [1.2174, 1.2651, 1.2802, 1.3193, 1.3398, 1.3556, 1.4469, 1.3960, 0.4929,\n",
       "         0.4929, 0.4929, 0.4929, 0.4929, 0.4929, 0.4929],\n",
       "        [1.2775, 1.2928, 1.2578, 1.2459, 1.2335, 1.2094, 1.1915, 1.2062, 1.1933,\n",
       "         1.1277, 1.2001, 1.2185, 1.2156, 1.1960, 1.2266],\n",
       "        [1.3414, 1.4159, 1.2618, 1.2778, 1.3159, 1.3702, 1.4000, 1.3832, 1.3298,\n",
       "         1.3619, 1.3701, 1.4261, 1.4677, 1.4836, 0.4929],\n",
       "        [1.2599, 1.2747, 1.2499, 1.2120, 1.1796, 1.1514, 1.1326, 1.1203, 1.1122,\n",
       "         1.1067, 1.1030, 1.1283, 0.4929, 0.4929, 0.4929],\n",
       "        [1.2205, 1.2313, 1.2282, 1.2592, 1.2254, 1.2429, 1.2663, 1.3063, 1.2831,\n",
       "         1.2827, 1.2825, 1.2905, 1.3009, 0.4929, 0.4929],\n",
       "        [1.2113, 1.4058, 1.2611, 1.2337, 1.2489, 1.3932, 1.2836, 1.1547, 1.2540,\n",
       "         1.2884, 1.2171, 1.0995, 1.1291, 1.1861, 1.1411],\n",
       "        [1.2697, 1.2791, 1.2547, 1.2398, 1.2289, 1.2202, 1.2262, 1.2348, 1.2444,\n",
       "         1.2566, 1.2979, 1.3643, 1.4199, 0.4929, 0.4929],\n",
       "        [1.2376, 1.2614, 1.2652, 1.2702, 1.3045, 1.2829, 1.2840, 1.3194, 1.3386,\n",
       "         1.3230, 1.3237, 1.3441, 0.4929, 0.4929, 0.4929]])"
      ]
     },
     "execution_count": 27,
     "metadata": {},
     "output_type": "execute_result"
    }
   ],
   "source": [
    "new_preds['val']['preds'][737][0]"
   ]
  },
  {
   "cell_type": "code",
   "execution_count": 28,
   "metadata": {},
   "outputs": [
    {
     "data": {
      "text/plain": [
       "tensor([[1.2378, 1.2378, 1.2378, 1.2378, 1.2378, 1.2378, 1.2378, 1.2378, 1.2378,\n",
       "         1.2378, 1.2378, 1.2378, 1.2378, 0.0000, 0.0000],\n",
       "        [1.3555, 1.3555, 1.3555, 1.3555, 1.3555, 1.3555, 1.3555, 1.3555, 0.0000,\n",
       "         0.0000, 0.0000, 0.0000, 0.0000, 0.0000, 0.0000],\n",
       "        [1.2354, 1.2354, 1.2354, 1.2354, 1.2354, 1.2354, 1.2354, 1.2354, 1.2354,\n",
       "         1.2354, 1.2354, 1.2354, 1.2354, 0.0000, 0.0000],\n",
       "        [1.3674, 1.3674, 1.3674, 1.3674, 1.3674, 1.3674, 1.3674, 1.3674, 1.3674,\n",
       "         1.3674, 1.3674, 1.3674, 1.3674, 1.3674, 1.3674],\n",
       "        [1.3954, 1.3954, 1.3954, 1.3954, 1.3954, 1.3954, 1.3954, 1.3954, 1.3954,\n",
       "         1.3954, 1.3954, 1.3954, 1.3954, 0.0000, 0.0000],\n",
       "        [1.2819, 1.2819, 1.2819, 1.2819, 1.2819, 1.2819, 1.2819, 1.2819, 1.2819,\n",
       "         1.2819, 1.2819, 1.2819, 1.2819, 0.0000, 0.0000],\n",
       "        [1.2805, 1.2805, 1.2805, 1.2805, 1.2805, 1.2805, 1.2805, 1.2805, 1.2805,\n",
       "         1.2805, 1.2805, 1.2805, 0.0000, 0.0000, 0.0000],\n",
       "        [1.3344, 1.3344, 1.3344, 1.3344, 1.3344, 1.3344, 1.3344, 1.3344, 1.3344,\n",
       "         1.3344, 1.3344, 1.3344, 1.3344, 1.3344, 0.0000],\n",
       "        [1.2570, 1.2570, 1.2570, 1.2570, 1.2570, 1.2570, 1.2570, 1.2570, 1.2570,\n",
       "         1.2570, 1.2570, 1.2570, 1.2570, 0.0000, 0.0000],\n",
       "        [1.3542, 1.3542, 1.3542, 1.3542, 1.3542, 1.3542, 1.3542, 1.3542, 1.3542,\n",
       "         1.3542, 1.3542, 1.3542, 1.3542, 1.3542, 0.0000],\n",
       "        [1.2409, 1.2409, 1.2409, 1.2409, 1.2409, 1.2409, 1.2409, 1.2409, 1.2409,\n",
       "         1.2409, 1.2409, 1.2409, 1.2409, 1.2409, 0.0000],\n",
       "        [1.4803, 1.4803, 1.4803, 1.4803, 1.4803, 1.4803, 1.4803, 1.4803, 0.0000,\n",
       "         0.0000, 0.0000, 0.0000, 0.0000, 0.0000, 0.0000],\n",
       "        [1.2374, 1.2374, 1.2374, 1.2374, 1.2374, 1.2374, 1.2374, 1.2374, 1.2374,\n",
       "         1.2374, 1.2374, 1.2374, 1.2374, 1.2374, 1.2374],\n",
       "        [1.8602, 1.8602, 1.8602, 1.8602, 1.8602, 1.8602, 1.8602, 1.8602, 1.8602,\n",
       "         1.8602, 1.8602, 1.8602, 1.8602, 1.8602, 0.0000],\n",
       "        [1.2247, 1.2247, 1.2247, 1.2247, 1.2247, 1.2247, 1.2247, 1.2247, 1.2247,\n",
       "         1.2247, 1.2247, 1.2247, 0.0000, 0.0000, 0.0000],\n",
       "        [1.3006, 1.3006, 1.3006, 1.3006, 1.3006, 1.3006, 1.3006, 1.3006, 1.3006,\n",
       "         1.3006, 1.3006, 1.3006, 1.3006, 0.0000, 0.0000],\n",
       "        [1.3246, 1.3246, 1.3246, 1.3246, 1.3246, 1.3246, 1.3246, 1.3246, 1.3246,\n",
       "         1.3246, 1.3246, 1.3246, 1.3246, 1.3246, 1.3246],\n",
       "        [1.4157, 1.4157, 1.4157, 1.4157, 1.4157, 1.4157, 1.4157, 1.4157, 1.4157,\n",
       "         1.4157, 1.4157, 1.4157, 1.4157, 0.0000, 0.0000],\n",
       "        [1.6228, 1.6228, 1.6228, 1.6228, 1.6228, 1.6228, 1.6228, 1.6228, 1.6228,\n",
       "         1.6228, 1.6228, 1.6228, 0.0000, 0.0000, 0.0000]])"
      ]
     },
     "execution_count": 28,
     "metadata": {},
     "output_type": "execute_result"
    }
   ],
   "source": [
    "new_preds['val']['target'][737][0]"
   ]
  },
  {
   "cell_type": "code",
   "execution_count": 48,
   "metadata": {},
   "outputs": [
    {
     "name": "stdout",
     "output_type": "stream",
     "text": [
      "dict_keys(['preds', 'target', 'mask', 'infill_mask'])\n"
     ]
    }
   ],
   "source": [
    "new_preds_0infill = pickle.load(open(\"/data/avirinchipur/EMI/outputs/voicemails/PCL11_minmax_ans_avg_roba128/voicemails_PCL11_minmax_ans_avg_hparams/234aef79072a4ae6aeff83c0f243118d/preds.pkl\", \"rb\"))\n",
    "print (new_preds_0infill['train'].keys())"
   ]
  },
  {
   "cell_type": "code",
   "execution_count": 55,
   "metadata": {},
   "outputs": [
    {
     "data": {
      "text/plain": [
       "tensor([[False, False,  True,  True, False, False, False,  True,  True, False,\n",
       "          True, False, False, False, False],\n",
       "        [False, False, False, False,  True, False,  True, False, False, False,\n",
       "         False, False, False, False, False],\n",
       "        [False, False, False, False, False,  True, False, False,  True, False,\n",
       "          True, False, False, False, False],\n",
       "        [False, False, False,  True, False, False, False, False, False, False,\n",
       "         False, False, False, False, False],\n",
       "        [False,  True, False, False, False, False, False,  True, False, False,\n",
       "         False, False, False, False, False]])"
      ]
     },
     "execution_count": 55,
     "metadata": {},
     "output_type": "execute_result"
    }
   ],
   "source": [
    "new_preds_0infill['val']['infill_mask'][737][0][:5]"
   ]
  },
  {
   "cell_type": "code",
   "execution_count": 53,
   "metadata": {},
   "outputs": [
    {
     "data": {
      "text/plain": [
       "tensor([[1.2378, 1.2378, 1.2378, 1.2378, 1.2378, 1.2378, 1.2378, 1.2378, 1.2378,\n",
       "         1.2378, 1.2378, 1.2378, 1.2378, 0.0000, 0.0000],\n",
       "        [1.3555, 1.3555, 1.3555, 1.3555, 1.3555, 1.3555, 1.3555, 1.3555, 0.0000,\n",
       "         0.0000, 0.0000, 0.0000, 0.0000, 0.0000, 0.0000],\n",
       "        [1.2354, 1.2354, 1.2354, 1.2354, 1.2354, 1.2354, 1.2354, 1.2354, 1.2354,\n",
       "         1.2354, 1.2354, 1.2354, 1.2354, 0.0000, 0.0000],\n",
       "        [1.3674, 1.3674, 1.3674, 1.3674, 1.3674, 1.3674, 1.3674, 1.3674, 1.3674,\n",
       "         1.3674, 1.3674, 1.3674, 1.3674, 1.3674, 1.3674],\n",
       "        [1.3954, 1.3954, 1.3954, 1.3954, 1.3954, 1.3954, 1.3954, 1.3954, 1.3954,\n",
       "         1.3954, 1.3954, 1.3954, 1.3954, 0.0000, 0.0000]])"
      ]
     },
     "execution_count": 53,
     "metadata": {},
     "output_type": "execute_result"
    }
   ],
   "source": [
    "new_preds_0infill['val']['target'][737][0][:5]"
   ]
  },
  {
   "cell_type": "code",
   "execution_count": 54,
   "metadata": {},
   "outputs": [
    {
     "data": {
      "text/plain": [
       "tensor([[1.2378, 1.2181, 1.2031, 1.1998, 1.2063, 1.1945, 1.2662, 1.3259, 1.3704,\n",
       "         1.3203, 1.2972, 1.3380, 1.3991, 0.4929, 0.4929],\n",
       "        [1.2663, 1.3347, 1.3158, 1.2937, 1.3017, 1.3132, 1.3163, 1.3546, 0.4929,\n",
       "         0.4929, 0.4929, 0.4929, 0.4929, 0.4929, 0.4929],\n",
       "        [1.1833, 1.2463, 1.2706, 1.2805, 1.2552, 1.2603, 1.3025, 1.2892, 1.2814,\n",
       "         1.2918, 1.3089, 1.3204, 1.2801, 0.4929, 0.4929],\n",
       "        [1.2210, 1.2649, 1.2233, 1.2027, 1.2559, 1.2566, 1.2398, 1.2667, 1.2773,\n",
       "         1.3225, 1.3033, 1.2977, 1.3466, 1.3272, 1.4081],\n",
       "        [1.2005, 1.2343, 1.3800, 1.3731, 1.3495, 1.3957, 1.3968, 1.4027, 1.4316,\n",
       "         1.3799, 1.3727, 1.4237, 1.4047, 0.4929, 0.4929]])"
      ]
     },
     "execution_count": 54,
     "metadata": {},
     "output_type": "execute_result"
    }
   ],
   "source": [
    "new_preds_0infill['val']['preds'][737][0][:5]"
   ]
  },
  {
   "cell_type": "code",
   "execution_count": 44,
   "metadata": {},
   "outputs": [
    {
     "name": "stdout",
     "output_type": "stream",
     "text": [
      "dict_keys(['train', 'val', 'test'])\n"
     ]
    }
   ],
   "source": [
    "new_epoch_metrics_0infill = pickle.load(open(\"/data/avirinchipur/EMI/outputs/voicemails/PCL11_minmax_ans_avg_roba128/voicemails_PCL11_minmax_ans_avg_hparams/234aef79072a4ae6aeff83c0f243118d/epoch_metrics.pkl\", \"rb\"))\n",
    "print (new_epoch_metrics_0infill.keys())"
   ]
  },
  {
   "cell_type": "code",
   "execution_count": 46,
   "metadata": {},
   "outputs": [
    {
     "data": {
      "text/plain": [
       "1001"
      ]
     },
     "execution_count": 46,
     "metadata": {},
     "output_type": "execute_result"
    }
   ],
   "source": [
    "len(new_epoch_metrics_0infill['val']['pearsonr'])"
   ]
  },
  {
   "cell_type": "code",
   "execution_count": null,
   "metadata": {},
   "outputs": [],
   "source": []
  },
  {
   "cell_type": "code",
   "execution_count": null,
   "metadata": {},
   "outputs": [],
   "source": []
  }
 ],
 "metadata": {
  "kernelspec": {
   "display_name": "emi",
   "language": "python",
   "name": "python3"
  },
  "language_info": {
   "codemirror_mode": {
    "name": "ipython",
    "version": 3
   },
   "file_extension": ".py",
   "mimetype": "text/x-python",
   "name": "python",
   "nbconvert_exporter": "python",
   "pygments_lexer": "ipython3",
   "version": "3.9.12"
  },
  "orig_nbformat": 4
 },
 "nbformat": 4,
 "nbformat_minor": 2
}
