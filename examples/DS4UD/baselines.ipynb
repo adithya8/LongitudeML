{
 "cells": [
  {
   "cell_type": "code",
   "execution_count": 113,
   "metadata": {},
   "outputs": [],
   "source": [
    "import pickle\n",
    "from sklearn.preprocessing import StandardScaler\n",
    "from sklearn.linear_model import Ridge\n",
    "from sklearn.model_selection import GridSearchCV\n",
    "from sklearn.metrics import mean_squared_error, mean_absolute_error, r2_score, make_scorer\n",
    "from scipy.stats import pearsonr\n",
    "import numpy as np"
   ]
  },
  {
   "cell_type": "code",
   "execution_count": 151,
   "metadata": {},
   "outputs": [],
   "source": [
    "FILE_PATH = '/data/avirinchipur/EMI/datadicts/ds4ud_drinks_ans_avg_words_roba64_todaydrinks_rangel3u14_10folds.pkl'"
   ]
  },
  {
   "cell_type": "code",
   "execution_count": 152,
   "metadata": {},
   "outputs": [],
   "source": [
    "dataDict = pickle.load(open(FILE_PATH, 'rb'))"
   ]
  },
  {
   "cell_type": "code",
   "execution_count": 153,
   "metadata": {},
   "outputs": [
    {
     "name": "stdout",
     "output_type": "stream",
     "text": [
      "dict_keys(['train_data', 'val_data', 'test_data'])\n",
      "dict_keys(['seq_idx', 'time_ids', 'embeddings', 'labels', 'query_ids', 'folds'])\n",
      "602\n",
      "207\n"
     ]
    }
   ],
   "source": [
    "print (dataDict.keys())\n",
    "print (dataDict['train_data'].keys())\n",
    "print (len(dataDict['train_data']['embeddings']))\n",
    "print (len(dataDict['test_data']['embeddings']))"
   ]
  },
  {
   "cell_type": "code",
   "execution_count": 154,
   "metadata": {},
   "outputs": [],
   "source": [
    "def extract_embs_drinks_label(embeddings, labels, seq_idx, time_ids, query_ids=None, folds=None):\n",
    "    op_seq_ids, op_folds = [], []\n",
    "    op_embeddings, op_drinks, op_labels, op_day_ids = [], [], [], []\n",
    "    for example_idx in range(len(embeddings)):\n",
    "        op_seq_ids.append(seq_idx[example_idx])\n",
    "        op_day_ids.append(time_ids[example_idx])\n",
    "        op_embeddings.append(np.vstack(np.array(embs[example_idx])[0, :, 0]))\n",
    "        op_drinks.append(np.vstack(np.array(embs[example_idx])[0, :, 1]))\n",
    "        op_labels.append(labels[example_idx][0])\n",
    "        if folds: op_folds.append(folds[example_idx])\n",
    "    \n",
    "    if folds: return op_seq_ids, op_embeddings, op_drinks, op_labels, op_day_ids, op_folds\n",
    "    return op_seq_ids, op_embeddings, op_drinks, op_labels, op_day_ids"
   ]
  },
  {
   "cell_type": "code",
   "execution_count": 155,
   "metadata": {},
   "outputs": [
    {
     "name": "stderr",
     "output_type": "stream",
     "text": [
      "/tmp/ipykernel_2729/1677160131.py:7: VisibleDeprecationWarning: Creating an ndarray from ragged nested sequences (which is a list-or-tuple of lists-or-tuples-or ndarrays with different lengths or shapes) is deprecated. If you meant to do this, you must specify 'dtype=object' when creating the ndarray.\n",
      "  op_embeddings.append(np.vstack(np.array(embs[example_idx])[0, :, 0]))\n",
      "/tmp/ipykernel_2729/1677160131.py:8: VisibleDeprecationWarning: Creating an ndarray from ragged nested sequences (which is a list-or-tuple of lists-or-tuples-or ndarrays with different lengths or shapes) is deprecated. If you meant to do this, you must specify 'dtype=object' when creating the ndarray.\n",
      "  op_drinks.append(np.vstack(np.array(embs[example_idx])[0, :, 1]))\n"
     ]
    },
    {
     "name": "stdout",
     "output_type": "stream",
     "text": [
      "602 602 602 602 602 602\n"
     ]
    }
   ],
   "source": [
    "seq_id_tr, embs_tr, drinks_tr, labels_tr, day_ids_tr, folds_tr = extract_embs_drinks_label(**dataDict['train_data'])\n",
    "print (len(seq_id_tr), len(embs_tr), len(drinks_tr), len(labels_tr), len(day_ids_tr), len(folds_tr))"
   ]
  },
  {
   "cell_type": "code",
   "execution_count": 156,
   "metadata": {},
   "outputs": [
    {
     "name": "stderr",
     "output_type": "stream",
     "text": [
      "/tmp/ipykernel_2729/1677160131.py:7: VisibleDeprecationWarning: Creating an ndarray from ragged nested sequences (which is a list-or-tuple of lists-or-tuples-or ndarrays with different lengths or shapes) is deprecated. If you meant to do this, you must specify 'dtype=object' when creating the ndarray.\n",
      "  op_embeddings.append(np.vstack(np.array(embs[example_idx])[0, :, 0]))\n",
      "/tmp/ipykernel_2729/1677160131.py:8: VisibleDeprecationWarning: Creating an ndarray from ragged nested sequences (which is a list-or-tuple of lists-or-tuples-or ndarrays with different lengths or shapes) is deprecated. If you meant to do this, you must specify 'dtype=object' when creating the ndarray.\n",
      "  op_drinks.append(np.vstack(np.array(embs[example_idx])[0, :, 1]))\n"
     ]
    },
    {
     "name": "stdout",
     "output_type": "stream",
     "text": [
      "207 207 207 207 207\n"
     ]
    }
   ],
   "source": [
    "seq_id_te, embs_te, drinks_te, labels_te, day_ids_te = extract_embs_drinks_label(**dataDict['test_data'])\n",
    "print (len(seq_id_te), len(embs_te), len(drinks_te), len(labels_te), len(day_ids_te))"
   ]
  },
  {
   "cell_type": "code",
   "execution_count": 157,
   "metadata": {},
   "outputs": [
    {
     "name": "stdout",
     "output_type": "stream",
     "text": [
      "SHAPES\n",
      "-------------------\n",
      "Train shapes (X/y): (602, 768)/(602,)\n",
      "Test shapes (X/y): (207, 768)/(207,)\n"
     ]
    }
   ],
   "source": [
    "print (\"SHAPES\")\n",
    "print (\"-------------------\")\n",
    "print (\"Train shapes (X/y): {}/{}\".format(X_tr.shape, y_tr.shape))\n",
    "print (\"Test shapes (X/y): {}/{}\".format(X_te.shape, y_te.shape))"
   ]
  },
  {
   "cell_type": "code",
   "execution_count": 158,
   "metadata": {},
   "outputs": [],
   "source": [
    "def smape(y_true, y_pred):\n",
    "    return np.mean(np.abs((y_true - y_pred) / (y_true + y_pred + 1e-10))) * 100"
   ]
  },
  {
   "cell_type": "markdown",
   "metadata": {},
   "source": [
    "## Average Train drinks baseline"
   ]
  },
  {
   "cell_type": "code",
   "execution_count": 159,
   "metadata": {},
   "outputs": [],
   "source": [
    "y_tr, y_te = np.array(labels_tr), np.array(labels_te)"
   ]
  },
  {
   "cell_type": "code",
   "execution_count": 160,
   "metadata": {},
   "outputs": [
    {
     "name": "stdout",
     "output_type": "stream",
     "text": [
      "Train Average Baseline\n",
      "-------------------\n",
      "MSE: 0.369\n",
      "MAE: 0.491\n",
      "SMAPE: 20.147\n",
      "R2: -0.005\n",
      "Correlation: nan\n"
     ]
    },
    {
     "name": "stderr",
     "output_type": "stream",
     "text": [
      "/data/avirinchipur/conda_envs/emi/lib/python3.9/site-packages/scipy/stats/_stats_py.py:4068: PearsonRConstantInputWarning: An input array is constant; the correlation coefficient is not defined.\n",
      "  warnings.warn(PearsonRConstantInputWarning())\n"
     ]
    }
   ],
   "source": [
    "avg_y_tr = np.mean(y_tr)\n",
    "y_pred = np.ones(y_te.shape) * avg_y_tr\n",
    "\n",
    "avg_baseline_mse = round(mean_squared_error(y_te, y_pred), 3)\n",
    "avg_baseline_mae = round(mean_absolute_error(y_te, y_pred), 3)\n",
    "avg_baseline_smape = round(smape(y_te, y_pred), 3)\n",
    "avg_baseline_r2 = round(r2_score(y_te, y_pred), 3)\n",
    "avg_baseline_corr = round(pearsonr(y_te, y_pred)[0], 3)\n",
    "\n",
    "print (\"Train Average Baseline\")\n",
    "print (\"-------------------\")\n",
    "print (\"MSE: {}\".format(avg_baseline_mse))\n",
    "print (\"MAE: {}\".format(avg_baseline_mae))\n",
    "print (\"SMAPE: {}\".format(avg_baseline_smape))\n",
    "print (\"R2: {}\".format(avg_baseline_r2))\n",
    "print (\"Correlation: {}\".format(avg_baseline_corr))"
   ]
  },
  {
   "cell_type": "markdown",
   "metadata": {},
   "source": [
    "## Average embeddings of messages predicting avg number of drinks of a wave"
   ]
  },
  {
   "cell_type": "code",
   "execution_count": 161,
   "metadata": {},
   "outputs": [],
   "source": [
    "emb_agg_fn = lambda embs: list(map(lambda z: np.mean(z, axis=0), embs))\n",
    "X_tr = np.array(emb_agg_fn(embs_tr))\n",
    "X_te = np.array(emb_agg_fn(embs_te))"
   ]
  },
  {
   "cell_type": "code",
   "execution_count": 162,
   "metadata": {},
   "outputs": [],
   "source": [
    "## Std Scaling\n",
    "scaler = StandardScaler()\n",
    "X_tr = scaler.fit_transform(X_tr)\n",
    "X_te = scaler.transform(X_te)"
   ]
  },
  {
   "cell_type": "code",
   "execution_count": 163,
   "metadata": {},
   "outputs": [
    {
     "data": {
      "text/plain": [
       "array([0, 1, 2, 3, 4, 5, 6, 7, 8, 9])"
      ]
     },
     "execution_count": 163,
     "metadata": {},
     "output_type": "execute_result"
    }
   ],
   "source": [
    "np.unique(folds_tr)"
   ]
  },
  {
   "cell_type": "code",
   "execution_count": 164,
   "metadata": {},
   "outputs": [
    {
     "data": {
      "text/html": [
       "<style>#sk-container-id-5 {color: black;background-color: white;}#sk-container-id-5 pre{padding: 0;}#sk-container-id-5 div.sk-toggleable {background-color: white;}#sk-container-id-5 label.sk-toggleable__label {cursor: pointer;display: block;width: 100%;margin-bottom: 0;padding: 0.3em;box-sizing: border-box;text-align: center;}#sk-container-id-5 label.sk-toggleable__label-arrow:before {content: \"▸\";float: left;margin-right: 0.25em;color: #696969;}#sk-container-id-5 label.sk-toggleable__label-arrow:hover:before {color: black;}#sk-container-id-5 div.sk-estimator:hover label.sk-toggleable__label-arrow:before {color: black;}#sk-container-id-5 div.sk-toggleable__content {max-height: 0;max-width: 0;overflow: hidden;text-align: left;background-color: #f0f8ff;}#sk-container-id-5 div.sk-toggleable__content pre {margin: 0.2em;color: black;border-radius: 0.25em;background-color: #f0f8ff;}#sk-container-id-5 input.sk-toggleable__control:checked~div.sk-toggleable__content {max-height: 200px;max-width: 100%;overflow: auto;}#sk-container-id-5 input.sk-toggleable__control:checked~label.sk-toggleable__label-arrow:before {content: \"▾\";}#sk-container-id-5 div.sk-estimator input.sk-toggleable__control:checked~label.sk-toggleable__label {background-color: #d4ebff;}#sk-container-id-5 div.sk-label input.sk-toggleable__control:checked~label.sk-toggleable__label {background-color: #d4ebff;}#sk-container-id-5 input.sk-hidden--visually {border: 0;clip: rect(1px 1px 1px 1px);clip: rect(1px, 1px, 1px, 1px);height: 1px;margin: -1px;overflow: hidden;padding: 0;position: absolute;width: 1px;}#sk-container-id-5 div.sk-estimator {font-family: monospace;background-color: #f0f8ff;border: 1px dotted black;border-radius: 0.25em;box-sizing: border-box;margin-bottom: 0.5em;}#sk-container-id-5 div.sk-estimator:hover {background-color: #d4ebff;}#sk-container-id-5 div.sk-parallel-item::after {content: \"\";width: 100%;border-bottom: 1px solid gray;flex-grow: 1;}#sk-container-id-5 div.sk-label:hover label.sk-toggleable__label {background-color: #d4ebff;}#sk-container-id-5 div.sk-serial::before {content: \"\";position: absolute;border-left: 1px solid gray;box-sizing: border-box;top: 0;bottom: 0;left: 50%;z-index: 0;}#sk-container-id-5 div.sk-serial {display: flex;flex-direction: column;align-items: center;background-color: white;padding-right: 0.2em;padding-left: 0.2em;position: relative;}#sk-container-id-5 div.sk-item {position: relative;z-index: 1;}#sk-container-id-5 div.sk-parallel {display: flex;align-items: stretch;justify-content: center;background-color: white;position: relative;}#sk-container-id-5 div.sk-item::before, #sk-container-id-5 div.sk-parallel-item::before {content: \"\";position: absolute;border-left: 1px solid gray;box-sizing: border-box;top: 0;bottom: 0;left: 50%;z-index: -1;}#sk-container-id-5 div.sk-parallel-item {display: flex;flex-direction: column;z-index: 1;position: relative;background-color: white;}#sk-container-id-5 div.sk-parallel-item:first-child::after {align-self: flex-end;width: 50%;}#sk-container-id-5 div.sk-parallel-item:last-child::after {align-self: flex-start;width: 50%;}#sk-container-id-5 div.sk-parallel-item:only-child::after {width: 0;}#sk-container-id-5 div.sk-dashed-wrapped {border: 1px dashed gray;margin: 0 0.4em 0.5em 0.4em;box-sizing: border-box;padding-bottom: 0.4em;background-color: white;}#sk-container-id-5 div.sk-label label {font-family: monospace;font-weight: bold;display: inline-block;line-height: 1.2em;}#sk-container-id-5 div.sk-label-container {text-align: center;}#sk-container-id-5 div.sk-container {/* jupyter's `normalize.less` sets `[hidden] { display: none; }` but bootstrap.min.css set `[hidden] { display: none !important; }` so we also need the `!important` here to be able to override the default hidden behavior on the sphinx rendered scikit-learn.org. See: https://github.com/scikit-learn/scikit-learn/issues/21755 */display: inline-block !important;position: relative;}#sk-container-id-5 div.sk-text-repr-fallback {display: none;}</style><div id=\"sk-container-id-5\" class=\"sk-top-container\"><div class=\"sk-text-repr-fallback\"><pre>GridSearchCV(cv=[(array([  0,   1,   2,   3,   4,   5,   6,   7,   8,   9,  11,  12,  13,\n",
       "        14,  15,  16,  17,  18,  21,  22,  23,  24,  25,  26,  27,  28,\n",
       "        29,  30,  31,  32,  33,  34,  35,  36,  37,  38,  39,  40,  41,\n",
       "        42,  43,  44,  45,  47,  48,  49,  50,  52,  53,  54,  55,  57,\n",
       "        58,  59,  60,  61,  62,  63,  64,  65,  66,  67,  68,  69,  70,\n",
       "        71,  72,  73,  75,  76,  77,  78,  79,  80,  81,  82,  83,  85,\n",
       "        86,  87,  88,  89,  90,  92,  93,  94,  95,  96,  97,  99, 100,\n",
       "       101, 102, 103, 104, 105, 106, 107, 108, 109, 110, 111, 112, 113,\n",
       "       114, 115, 1...\n",
       "       582, 583, 584, 585, 586, 587, 588, 589, 590, 591, 592, 593, 594,\n",
       "       595, 596, 597, 598, 599, 600, 601]),\n",
       "                  array([ 11,  26,  53,  57,  60,  75,  87, 109, 113, 114, 132, 164, 201,\n",
       "       210, 242, 243, 263, 281, 285, 301, 302, 332, 336, 338, 350, 363,\n",
       "       367, 382, 406, 414, 426, 428, 436, 441, 448, 452, 454, 458, 480,\n",
       "       507, 511, 514, 522, 533, 555, 562, 563, 565, 566]))],\n",
       "             estimator=Ridge(), param_grid={&#x27;alpha&#x27;: [1, 10, 100, 1000, 10000]},\n",
       "             scoring=&#x27;neg_mean_squared_error&#x27;)</pre><b>In a Jupyter environment, please rerun this cell to show the HTML representation or trust the notebook. <br />On GitHub, the HTML representation is unable to render, please try loading this page with nbviewer.org.</b></div><div class=\"sk-container\" hidden><div class=\"sk-item sk-dashed-wrapped\"><div class=\"sk-label-container\"><div class=\"sk-label sk-toggleable\"><input class=\"sk-toggleable__control sk-hidden--visually\" id=\"sk-estimator-id-11\" type=\"checkbox\" ><label for=\"sk-estimator-id-11\" class=\"sk-toggleable__label sk-toggleable__label-arrow\">GridSearchCV</label><div class=\"sk-toggleable__content\"><pre>GridSearchCV(cv=[(array([  0,   1,   2,   3,   4,   5,   6,   7,   8,   9,  11,  12,  13,\n",
       "        14,  15,  16,  17,  18,  21,  22,  23,  24,  25,  26,  27,  28,\n",
       "        29,  30,  31,  32,  33,  34,  35,  36,  37,  38,  39,  40,  41,\n",
       "        42,  43,  44,  45,  47,  48,  49,  50,  52,  53,  54,  55,  57,\n",
       "        58,  59,  60,  61,  62,  63,  64,  65,  66,  67,  68,  69,  70,\n",
       "        71,  72,  73,  75,  76,  77,  78,  79,  80,  81,  82,  83,  85,\n",
       "        86,  87,  88,  89,  90,  92,  93,  94,  95,  96,  97,  99, 100,\n",
       "       101, 102, 103, 104, 105, 106, 107, 108, 109, 110, 111, 112, 113,\n",
       "       114, 115, 1...\n",
       "       582, 583, 584, 585, 586, 587, 588, 589, 590, 591, 592, 593, 594,\n",
       "       595, 596, 597, 598, 599, 600, 601]),\n",
       "                  array([ 11,  26,  53,  57,  60,  75,  87, 109, 113, 114, 132, 164, 201,\n",
       "       210, 242, 243, 263, 281, 285, 301, 302, 332, 336, 338, 350, 363,\n",
       "       367, 382, 406, 414, 426, 428, 436, 441, 448, 452, 454, 458, 480,\n",
       "       507, 511, 514, 522, 533, 555, 562, 563, 565, 566]))],\n",
       "             estimator=Ridge(), param_grid={&#x27;alpha&#x27;: [1, 10, 100, 1000, 10000]},\n",
       "             scoring=&#x27;neg_mean_squared_error&#x27;)</pre></div></div></div><div class=\"sk-parallel\"><div class=\"sk-parallel-item\"><div class=\"sk-item\"><div class=\"sk-label-container\"><div class=\"sk-label sk-toggleable\"><input class=\"sk-toggleable__control sk-hidden--visually\" id=\"sk-estimator-id-12\" type=\"checkbox\" ><label for=\"sk-estimator-id-12\" class=\"sk-toggleable__label sk-toggleable__label-arrow\">estimator: Ridge</label><div class=\"sk-toggleable__content\"><pre>Ridge()</pre></div></div></div><div class=\"sk-serial\"><div class=\"sk-item\"><div class=\"sk-estimator sk-toggleable\"><input class=\"sk-toggleable__control sk-hidden--visually\" id=\"sk-estimator-id-13\" type=\"checkbox\" ><label for=\"sk-estimator-id-13\" class=\"sk-toggleable__label sk-toggleable__label-arrow\">Ridge</label><div class=\"sk-toggleable__content\"><pre>Ridge()</pre></div></div></div></div></div></div></div></div></div></div>"
      ],
      "text/plain": [
       "GridSearchCV(cv=[(array([  0,   1,   2,   3,   4,   5,   6,   7,   8,   9,  11,  12,  13,\n",
       "        14,  15,  16,  17,  18,  21,  22,  23,  24,  25,  26,  27,  28,\n",
       "        29,  30,  31,  32,  33,  34,  35,  36,  37,  38,  39,  40,  41,\n",
       "        42,  43,  44,  45,  47,  48,  49,  50,  52,  53,  54,  55,  57,\n",
       "        58,  59,  60,  61,  62,  63,  64,  65,  66,  67,  68,  69,  70,\n",
       "        71,  72,  73,  75,  76,  77,  78,  79,  80,  81,  82,  83,  85,\n",
       "        86,  87,  88,  89,  90,  92,  93,  94,  95,  96,  97,  99, 100,\n",
       "       101, 102, 103, 104, 105, 106, 107, 108, 109, 110, 111, 112, 113,\n",
       "       114, 115, 1...\n",
       "       582, 583, 584, 585, 586, 587, 588, 589, 590, 591, 592, 593, 594,\n",
       "       595, 596, 597, 598, 599, 600, 601]),\n",
       "                  array([ 11,  26,  53,  57,  60,  75,  87, 109, 113, 114, 132, 164, 201,\n",
       "       210, 242, 243, 263, 281, 285, 301, 302, 332, 336, 338, 350, 363,\n",
       "       367, 382, 406, 414, 426, 428, 436, 441, 448, 452, 454, 458, 480,\n",
       "       507, 511, 514, 522, 533, 555, 562, 563, 565, 566]))],\n",
       "             estimator=Ridge(), param_grid={'alpha': [1, 10, 100, 1000, 10000]},\n",
       "             scoring='neg_mean_squared_error')"
      ]
     },
     "execution_count": 164,
     "metadata": {},
     "output_type": "execute_result"
    }
   ],
   "source": [
    "## Hyperaparameter tuning of ridge alpha using 10 fold cv on train data\n",
    "alphas = [1, 10, 100, 1000, 10000]\n",
    "folds=[]\n",
    "for i in range(len(set(folds_tr))):\n",
    "    tr_folds_idx = np.argwhere(np.array(folds_tr) != i).flatten()\n",
    "    te_folds_idx = np.argwhere(np.array(folds_tr) == i).flatten()\n",
    "    folds.append((tr_folds_idx, te_folds_idx))\n",
    "\n",
    "parameters = {'alpha': alphas}\n",
    "ridge = Ridge()\n",
    "cv_model = GridSearchCV(ridge, parameters, cv=folds, scoring='neg_mean_squared_error')\n",
    "cv_model.fit(X_tr, y_tr)"
   ]
  },
  {
   "cell_type": "code",
   "execution_count": 165,
   "metadata": {},
   "outputs": [
    {
     "data": {
      "text/plain": [
       "(-0.4428745682503311, {'alpha': 10000})"
      ]
     },
     "execution_count": 165,
     "metadata": {},
     "output_type": "execute_result"
    }
   ],
   "source": [
    "cv_model.best_score_, cv_model.best_params_"
   ]
  },
  {
   "cell_type": "code",
   "execution_count": 166,
   "metadata": {},
   "outputs": [
    {
     "data": {
      "text/plain": [
       "{'mean_fit_time': array([0.18206921, 0.16528349, 0.15390224, 0.17432692, 0.15933332]),\n",
       " 'std_fit_time': array([0.04964804, 0.04167398, 0.04336594, 0.02325151, 0.03024906]),\n",
       " 'mean_score_time': array([0.00804152, 0.01112082, 0.00737715, 0.00973001, 0.00496943]),\n",
       " 'std_score_time': array([0.00628542, 0.00976563, 0.00672941, 0.009526  , 0.00611655]),\n",
       " 'param_alpha': masked_array(data=[1, 10, 100, 1000, 10000],\n",
       "              mask=[False, False, False, False, False],\n",
       "        fill_value='?',\n",
       "             dtype=object),\n",
       " 'params': [{'alpha': 1},\n",
       "  {'alpha': 10},\n",
       "  {'alpha': 100},\n",
       "  {'alpha': 1000},\n",
       "  {'alpha': 10000}],\n",
       " 'split0_test_score': array([-1.79279342, -0.82658292, -0.52865746, -0.43302921, -0.41381746]),\n",
       " 'split1_test_score': array([-2.29103902, -0.98993721, -0.64185872, -0.59299385, -0.54972117]),\n",
       " 'split2_test_score': array([-1.88359136, -0.86839133, -0.55131728, -0.46499043, -0.46258695]),\n",
       " 'split3_test_score': array([-1.4334305 , -0.7130085 , -0.44981228, -0.33484401, -0.28802444]),\n",
       " 'split4_test_score': array([-1.96382104, -0.88617855, -0.55626095, -0.43381448, -0.39306242]),\n",
       " 'split5_test_score': array([-1.39386846, -0.79854829, -0.51872824, -0.43952335, -0.42503998]),\n",
       " 'split6_test_score': array([-1.94278111, -0.74863069, -0.52852491, -0.49181419, -0.45273922]),\n",
       " 'split7_test_score': array([-3.06315067, -1.4968876 , -0.88737652, -0.71132751, -0.67336218]),\n",
       " 'split8_test_score': array([-1.34740379, -0.64325262, -0.42891152, -0.38024164, -0.35627843]),\n",
       " 'split9_test_score': array([-1.84362582, -1.00992672, -0.55218091, -0.43631222, -0.41411342]),\n",
       " 'mean_test_score': array([-1.89555052, -0.89813444, -0.56436288, -0.47188909, -0.44287457]),\n",
       " 'std_test_score': array([0.4801766 , 0.22739458, 0.12117686, 0.10241843, 0.10048628]),\n",
       " 'rank_test_score': array([5, 4, 3, 2, 1], dtype=int32)}"
      ]
     },
     "execution_count": 166,
     "metadata": {},
     "output_type": "execute_result"
    }
   ],
   "source": [
    "cv_model.cv_results_"
   ]
  },
  {
   "cell_type": "code",
   "execution_count": 167,
   "metadata": {},
   "outputs": [
    {
     "name": "stdout",
     "output_type": "stream",
     "text": [
      "Ridge Regression\n",
      "-------------------\n",
      "MSE: 0.378\n",
      "MAE: 0.496\n",
      "SMAPE: 20.312\n",
      "R2: -0.028\n",
      "Pearson R: -0.059\n"
     ]
    }
   ],
   "source": [
    "model = Ridge(alpha=cv_model.best_params_['alpha'])\n",
    "model.fit(X_tr, y_tr)\n",
    "y_pred = model.predict(X_te)\n",
    "\n",
    "ridge_mse = round(mean_squared_error(y_te, y_pred), 3)\n",
    "ridge_mae = round(mean_absolute_error(y_te, y_pred), 3)\n",
    "ridge_smape = round(smape(y_te, y_pred), 3)\n",
    "ridge_r2 = round(r2_score(y_te, y_pred), 3)\n",
    "ridge_pearson_r = round(pearsonr(y_te, y_pred)[0], 3)\n",
    "\n",
    "print (\"Ridge Regression\")\n",
    "print (\"-------------------\")\n",
    "print (\"MSE: {}\".format(ridge_mse))\n",
    "print (\"MAE: {}\".format(ridge_mae))\n",
    "print (\"SMAPE: {}\".format(ridge_smape))\n",
    "print (\"R2: {}\".format(ridge_r2))\n",
    "print (\"Pearson R: {}\".format(ridge_pearson_r))"
   ]
  },
  {
   "cell_type": "markdown",
   "metadata": {},
   "source": [
    "## Moving average of drinks predicting avg number of drinks of a wave"
   ]
  },
  {
   "cell_type": "code",
   "execution_count": null,
   "metadata": {},
   "outputs": [],
   "source": []
  },
  {
   "cell_type": "code",
   "execution_count": null,
   "metadata": {},
   "outputs": [],
   "source": []
  }
 ],
 "metadata": {
  "kernelspec": {
   "display_name": "emi",
   "language": "python",
   "name": "python3"
  },
  "language_info": {
   "codemirror_mode": {
    "name": "ipython",
    "version": 3
   },
   "file_extension": ".py",
   "mimetype": "text/x-python",
   "name": "python",
   "nbconvert_exporter": "python",
   "pygments_lexer": "ipython3",
   "version": "3.9.12"
  },
  "orig_nbformat": 4
 },
 "nbformat": 4,
 "nbformat_minor": 2
}
