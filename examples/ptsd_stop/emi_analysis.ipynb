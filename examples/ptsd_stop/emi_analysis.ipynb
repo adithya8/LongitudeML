{
 "cells": [
  {
   "cell_type": "code",
   "execution_count": 1,
   "metadata": {},
   "outputs": [],
   "source": [
    "import pickle\n",
    "import torch\n",
    "\n",
    "from scipy.stats import pearsonr\n",
    "import pandas as pd"
   ]
  },
  {
   "cell_type": "code",
   "execution_count": 2,
   "metadata": {},
   "outputs": [],
   "source": [
    "FOLD4_PRED_PATH = \"/data/avirinchipur/EMI/outputs/ptsd_stop/PCL_avg_roba128/ptsd_stop_PCL_avg_v1.f/69384f7a0ab14eff85abdc4a112fc5d3/preds.pkl\"\n",
    "FOLD3_PRED_PATH = \"/data/avirinchipur/EMI/outputs/ptsd_stop/PCL_avg_roba128/ptsd_stop_PCL_avg_v1.f/21855bd3734b402cbd79eca70793d7a5/preds.pkl\"\n",
    "FOLD2_PRED_PATH = \"/data/avirinchipur/EMI/outputs/ptsd_stop/PCL_avg_roba128/ptsd_stop_PCL_avg_v1.f/f6983d7cc2dc4a739b1903e980a32a51/preds.pkl\"\n",
    "FOLD1_PRED_PATH = \"/data/avirinchipur/EMI/outputs/ptsd_stop/PCL_avg_roba128/ptsd_stop_PCL_avg_v1.f/2abba26646944fc98658d956ed6ff022/preds.pkl\"\n",
    "FOLD0_PRED_PATH = \"/data/avirinchipur/EMI/outputs/ptsd_stop/PCL_avg_roba128/ptsd_stop_PCL_avg_v1.f/01b63d2a5247459686cfc43ec4f39ea0/preds.pkl\""
   ]
  },
  {
   "cell_type": "code",
   "execution_count": 3,
   "metadata": {},
   "outputs": [],
   "source": [
    "fold4_preds = pickle.load(open(FOLD4_PRED_PATH, \"rb\"))\n",
    "fold3_preds = pickle.load(open(FOLD3_PRED_PATH, \"rb\"))\n",
    "fold2_preds = pickle.load(open(FOLD2_PRED_PATH, \"rb\"))\n",
    "fold1_preds = pickle.load(open(FOLD1_PRED_PATH, \"rb\"))\n",
    "fold0_preds = pickle.load(open(FOLD0_PRED_PATH, \"rb\"))"
   ]
  },
  {
   "cell_type": "code",
   "execution_count": 4,
   "metadata": {},
   "outputs": [
    {
     "data": {
      "text/plain": [
       "dict_keys(['train', 'val', 'test'])"
      ]
     },
     "execution_count": 4,
     "metadata": {},
     "output_type": "execute_result"
    }
   ],
   "source": [
    "fold4_preds.keys()"
   ]
  },
  {
   "cell_type": "code",
   "execution_count": 5,
   "metadata": {},
   "outputs": [
    {
     "data": {
      "text/plain": [
       "dict_keys(['preds', 'target', 'mask', 'infill_mask'])"
      ]
     },
     "execution_count": 5,
     "metadata": {},
     "output_type": "execute_result"
    }
   ],
   "source": [
    "fold4_preds['val'].keys()"
   ]
  },
  {
   "cell_type": "code",
   "execution_count": 6,
   "metadata": {},
   "outputs": [],
   "source": [
    "def get_ytrue(preds_dict):\n",
    "    y_true = []\n",
    "    for batch in preds_dict['val']['target'][-1]:\n",
    "        temp = batch[:, 0].cpu().numpy().tolist()\n",
    "        y_true.extend(temp)\n",
    "    return y_true\n",
    "\n",
    "def get_avg_ypred(preds_dict, epoch=-1):\n",
    "    # Strategy 1 for y_pred: Get the avg y_pred indicated by the mask = 1\n",
    "    y_pred_avg = []\n",
    "    for idx, batch in enumerate(preds_dict['val']['preds'][epoch]):\n",
    "        temp_mask = preds_dict['val']['mask'][epoch][idx]\n",
    "        temp = (batch * temp_mask).sum(1)/torch.sum(temp_mask, 1).to(torch.float)\n",
    "        y_pred_avg.extend(temp.cpu().numpy().tolist())\n",
    "    return y_pred_avg\n",
    "\n",
    "def get_nth_ypred(preds_dict, epoch=-1, p=1.0):\n",
    "    assert p>=0 and p<=1, \"n should be >=0 and <=1. Represents the nth percentile\"\n",
    "    \n",
    "    y_pred_last = []\n",
    "    for idx, batch in enumerate(preds_dict['val']['preds'][epoch]):\n",
    "        # Find the index where the mask is 0 and subtract 1 from it to get to the index of the last 1\n",
    "        last_idx = torch.argmin(preds_dict['val']['mask'][epoch][idx].to(torch.int), dim=-1) - 1\n",
    "        # find the index where there last_idx is < 0 and set it to the number of columns in mask \n",
    "        last_idx[last_idx<0] = preds_dict['val']['mask'][epoch][idx].shape[1] - 1\n",
    "        for row in range(len(batch)):\n",
    "            y_pred_last.append(batch[row, int(last_idx[row]*p)].item())\n",
    "    return y_pred_last"
   ]
  },
  {
   "cell_type": "code",
   "execution_count": 9,
   "metadata": {},
   "outputs": [
    {
     "name": "stdout",
     "output_type": "stream",
     "text": [
      "            desc  pearson  p_val\n",
      "0          y_avg    0.636  0.000\n",
      "1         y_last    0.667  0.000\n",
      "2  y_threeforths    0.668  0.000\n",
      "3         y_half    0.614  0.000\n",
      "4      y_quarter    0.568  0.000\n",
      "5        y_tenth    0.460  0.000\n",
      "6        y_fifth    0.422  0.000\n",
      "7        y_first    0.198  0.028\n"
     ]
    }
   ],
   "source": [
    "folds_y_pred = {\"y_avg\": [], \"y_last\": [], \"y_threeforths\": [],  \"y_half\": [], \"y_quarter\": [], \"y_tenth\": [], \"y_fifth\": [], \"y_first\": []}\n",
    "folds_y_true = []\n",
    "for fold in [fold0_preds, fold1_preds, fold2_preds, fold3_preds, fold4_preds]:\n",
    "    folds_y_true.extend(get_ytrue(fold))\n",
    "    folds_y_pred[\"y_avg\"].extend(get_avg_ypred(fold))\n",
    "    folds_y_pred[\"y_last\"].extend(get_nth_ypred(fold, p=1.0))\n",
    "    folds_y_pred[\"y_threeforths\"].extend(get_nth_ypred(fold, p=0.75))\n",
    "    folds_y_pred[\"y_half\"].extend(get_nth_ypred(fold, p=0.5))\n",
    "    folds_y_pred[\"y_quarter\"].extend(get_nth_ypred(fold, p=0.25))\n",
    "    folds_y_pred[\"y_tenth\"].extend(get_nth_ypred(fold, p=0.1))\n",
    "    folds_y_pred[\"y_fifth\"].extend(get_nth_ypred(fold, p=0.05))\n",
    "    folds_y_pred[\"y_first\"].extend(get_nth_ypred(fold, p=0.01))\n",
    "\n",
    "pearsonr_yavg = pearsonr(folds_y_true, folds_y_pred[\"y_avg\"])\n",
    "pearsonr_ylast = pearsonr(folds_y_true, folds_y_pred[\"y_last\"])\n",
    "pearsonr_ythreeforths = pearsonr(folds_y_true, folds_y_pred[\"y_threeforths\"])\n",
    "pearsonr_yhalf = pearsonr(folds_y_true, folds_y_pred[\"y_half\"])\n",
    "pearsonr_yquarter = pearsonr(folds_y_true, folds_y_pred[\"y_quarter\"])\n",
    "pearsonr_ytenth = pearsonr(folds_y_true, folds_y_pred[\"y_tenth\"])\n",
    "pearsonr_yfifth = pearsonr(folds_y_true, folds_y_pred[\"y_fifth\"])\n",
    "pearsonr_yfirst = pearsonr(folds_y_true, folds_y_pred[\"y_first\"])\n",
    "\n",
    "# Print results_df with desc, pearson, p_val. upto 3 digits of precision\n",
    "results_df = pd.DataFrame({\"desc\": [\"y_avg\", \"y_last\", \"y_threeforths\" ,\"y_half\", \"y_quarter\", \"y_tenth\", \"y_fifth\", \"y_first\"],\n",
    "                            \"pearson\": [pearsonr_yavg[0], pearsonr_ylast[0], pearsonr_ythreeforths[0], pearsonr_yhalf[0], pearsonr_yquarter[0], pearsonr_ytenth[0], pearsonr_yfifth[0], pearsonr_yfirst[0]],\n",
    "                            \"p_val\": [pearsonr_yavg[1], pearsonr_ylast[1], pearsonr_ythreeforths[1], pearsonr_yhalf[1], pearsonr_yquarter[1], pearsonr_ytenth[1], pearsonr_yfifth[1], pearsonr_yfirst[1]]})\n",
    "results_df = results_df.round(3)\n",
    "print(results_df)\n"
   ]
  },
  {
   "cell_type": "markdown",
   "metadata": {},
   "source": [
    "DLATK Baseline for the same fold setup for avg RoBERTa predicting the avg scores: 0.5327\n",
    "\n",
    "Command: ./dlatkInterface.py -d ptsd_stop -t whisper_transcripts_v1 -c user_id --group_freq_thresh 100 -f 'feat$dr_rpca_128_fb20$whisper_transcripts_v1$user_id' --nfold_regression --outcome_table outcomes_user_level_v2 --outcomes PCL_avg --fold_column folds_col --where \" num_days >=40 \"  \n",
    "\n",
    "Note: This uses slightly more longitudinal data than the EMI model. "
   ]
  },
  {
   "cell_type": "markdown",
   "metadata": {},
   "source": [
    "## Fold 4 Analysis"
   ]
  },
  {
   "cell_type": "code",
   "execution_count": 6,
   "metadata": {},
   "outputs": [],
   "source": [
    "y_true = []\n",
    "for batch in fold4_preds['val']['target'][-1]:\n",
    "    temp = batch[:, 0].cpu().numpy().tolist()\n",
    "    y_true.extend(temp)"
   ]
  },
  {
   "cell_type": "code",
   "execution_count": 7,
   "metadata": {},
   "outputs": [],
   "source": [
    "# Strategy 1 for y_pred: Get the avg y_pred indicated by the mask = 1\n",
    "y_pred_avg = []\n",
    "for idx, batch in enumerate(fold4_preds['val']['preds'][-1]):\n",
    "    temp_mask = fold4_preds['val']['mask'][-1][idx]\n",
    "    temp = (batch * temp_mask).sum(1)/torch.sum(temp_mask, 1).to(torch.float)\n",
    "    y_pred_avg.extend(temp.cpu().numpy().tolist())\n"
   ]
  },
  {
   "cell_type": "code",
   "execution_count": 8,
   "metadata": {},
   "outputs": [
    {
     "name": "stdout",
     "output_type": "stream",
     "text": [
      "Pearson correlation for avg pred: 0.733\n"
     ]
    }
   ],
   "source": [
    "pearson_avg_pred = pearsonr(y_true, y_pred_avg)\n",
    "print (f\"Pearson correlation for avg pred: {pearson_avg_pred[0].round(3)}\")"
   ]
  },
  {
   "cell_type": "code",
   "execution_count": 9,
   "metadata": {},
   "outputs": [],
   "source": [
    "# Strategy 1 for y_pred: Get the last valid y_pred indicated by the mask = 1\n",
    "y_pred_last = []\n",
    "for idx, batch in enumerate(fold4_preds['val']['preds'][-1]):\n",
    "    temp_mask_idx = torch.argmin(fold4_preds['val']['mask'][-1][idx].to(torch.int), dim=-1) - 1\n",
    "    temp_mask_idx[temp_mask_idx < 0] = -1\n",
    "    for row in range(len(batch)):\n",
    "        y_pred_last.append(batch[row, temp_mask_idx[row]].item())"
   ]
  },
  {
   "cell_type": "code",
   "execution_count": 10,
   "metadata": {},
   "outputs": [
    {
     "name": "stdout",
     "output_type": "stream",
     "text": [
      "Pearson correlation for last pred: 0.704\n"
     ]
    }
   ],
   "source": [
    "pearson_last_pred = pearsonr(y_true, y_pred_last)\n",
    "print (f\"Pearson correlation for last pred: {pearson_last_pred[0].round(3)}\")"
   ]
  },
  {
   "cell_type": "markdown",
   "metadata": {},
   "source": [
    "## Fold 3 Analysis"
   ]
  },
  {
   "cell_type": "code",
   "execution_count": 11,
   "metadata": {},
   "outputs": [],
   "source": [
    "y_true = []\n",
    "for batch in fold3_preds['val']['target'][-1]:\n",
    "    temp = batch[:, 0].cpu().numpy().tolist()\n",
    "    y_true.extend(temp)"
   ]
  },
  {
   "cell_type": "code",
   "execution_count": 12,
   "metadata": {},
   "outputs": [],
   "source": [
    "# Strategy 1 for y_pred: Get the avg y_pred indicated by the mask = 1\n",
    "y_pred_avg = []\n",
    "for idx, batch in enumerate(fold3_preds['val']['preds'][-1]):\n",
    "    temp_mask = fold3_preds['val']['mask'][-1][idx]\n",
    "    temp = (batch * temp_mask).sum(1)/torch.sum(temp_mask, 1).to(torch.float)\n",
    "    y_pred_avg.extend(temp.cpu().numpy().tolist())\n"
   ]
  },
  {
   "cell_type": "code",
   "execution_count": 13,
   "metadata": {},
   "outputs": [
    {
     "name": "stdout",
     "output_type": "stream",
     "text": [
      "Pearson correlation for avg pred: 0.791\n"
     ]
    }
   ],
   "source": [
    "pearson_avg_pred = pearsonr(y_true, y_pred_avg)\n",
    "print (f\"Pearson correlation for avg pred: {pearson_avg_pred[0].round(3)}\")"
   ]
  },
  {
   "cell_type": "code",
   "execution_count": 14,
   "metadata": {},
   "outputs": [],
   "source": [
    "# Strategy 1 for y_pred: Get the last valid y_pred indicated by the mask = 1\n",
    "y_pred_last = []\n",
    "for idx, batch in enumerate(fold3_preds['val']['preds'][-1]):\n",
    "    temp_mask_idx = torch.argmin(fold3_preds['val']['mask'][-1][idx].to(torch.int), dim=-1) - 1\n",
    "    temp_mask_idx[temp_mask_idx < 0] = -1\n",
    "    for row in range(len(batch)):\n",
    "        y_pred_last.append(batch[row, temp_mask_idx[row]].item())"
   ]
  },
  {
   "cell_type": "code",
   "execution_count": 15,
   "metadata": {},
   "outputs": [
    {
     "name": "stdout",
     "output_type": "stream",
     "text": [
      "Pearson correlation for last pred: 0.798\n"
     ]
    }
   ],
   "source": [
    "pearson_last_pred = pearsonr(y_true, y_pred_last)\n",
    "print (f\"Pearson correlation for last pred: {pearson_last_pred[0].round(3)}\")"
   ]
  },
  {
   "cell_type": "markdown",
   "metadata": {},
   "source": [
    "## Fold 2 Analysis"
   ]
  },
  {
   "cell_type": "code",
   "execution_count": 22,
   "metadata": {},
   "outputs": [],
   "source": [
    "y_true = []\n",
    "for batch in fold2_preds['val']['target'][-1]:\n",
    "    temp = batch[:, 0].cpu().numpy().tolist()\n",
    "    y_true.extend(temp)"
   ]
  },
  {
   "cell_type": "code",
   "execution_count": 25,
   "metadata": {},
   "outputs": [],
   "source": [
    "# Strategy 1 for y_pred: Get the avg y_pred indicated by the mask = 1\n",
    "y_pred_avg = []\n",
    "for idx, batch in enumerate(fold2_preds['val']['preds'][-1]):\n",
    "    temp_mask = fold2_preds['val']['mask'][-1][idx]\n",
    "    temp = (batch * temp_mask).sum(1)/torch.sum(temp_mask, 1).to(torch.float)\n",
    "    y_pred_avg.extend(temp.cpu().numpy().tolist())\n"
   ]
  },
  {
   "cell_type": "code",
   "execution_count": 26,
   "metadata": {},
   "outputs": [
    {
     "name": "stdout",
     "output_type": "stream",
     "text": [
      "Pearson correlation for avg pred: 0.465\n"
     ]
    }
   ],
   "source": [
    "pearson_avg_pred = pearsonr(y_true, y_pred_avg)\n",
    "print (f\"Pearson correlation for avg pred: {pearson_avg_pred[0].round(3)}\")"
   ]
  },
  {
   "cell_type": "code",
   "execution_count": 30,
   "metadata": {},
   "outputs": [],
   "source": [
    "# Strategy 1 for y_pred: Get the last valid y_pred indicated by the mask = 1\n",
    "y_pred_last = []\n",
    "for idx, batch in enumerate(fold2_preds['val']['preds'][-1]):\n",
    "    temp_mask_idx = torch.argmin(fold2_preds['val']['mask'][-1][idx].to(torch.int), dim=-1) - 1\n",
    "    temp_mask_idx[temp_mask_idx < 0] = -1\n",
    "    for row in range(len(batch)):\n",
    "        y_pred_last.append(batch[row, temp_mask_idx[row]].item())"
   ]
  },
  {
   "cell_type": "code",
   "execution_count": 31,
   "metadata": {},
   "outputs": [
    {
     "name": "stdout",
     "output_type": "stream",
     "text": [
      "Pearson correlation for last pred: 0.534\n"
     ]
    }
   ],
   "source": [
    "pearson_last_pred = pearsonr(y_true, y_pred_last)\n",
    "print (f\"Pearson correlation for last pred: {pearson_last_pred[0].round(3)}\")"
   ]
  },
  {
   "cell_type": "markdown",
   "metadata": {},
   "source": [
    "## Fold 1 Analysis"
   ]
  },
  {
   "cell_type": "code",
   "execution_count": null,
   "metadata": {},
   "outputs": [],
   "source": [
    "y_true = []\n",
    "for batch in fold3_preds['val']['target'][-1]:\n",
    "    temp = batch[:, 0].cpu().numpy().tolist()\n",
    "    y_true.extend(temp)"
   ]
  },
  {
   "cell_type": "code",
   "execution_count": null,
   "metadata": {},
   "outputs": [],
   "source": [
    "# Strategy 1 for y_pred: Get the avg y_pred indicated by the mask = 1\n",
    "y_pred_avg = []\n",
    "for idx, batch in enumerate(fold3_preds['val']['preds'][-1]):\n",
    "    temp_mask = fold3_preds['val']['mask'][-1][idx]\n",
    "    temp = (batch * temp_mask).sum(1)/torch.sum(temp_mask, 1).to(torch.float)\n",
    "    y_pred_avg.extend(temp.cpu().numpy().tolist())\n"
   ]
  },
  {
   "cell_type": "code",
   "execution_count": null,
   "metadata": {},
   "outputs": [
    {
     "name": "stdout",
     "output_type": "stream",
     "text": [
      "Pearson correlation for avg pred: 0.791\n"
     ]
    }
   ],
   "source": [
    "pearson_avg_pred = pearsonr(y_true, y_pred_avg)\n",
    "print (f\"Pearson correlation for avg pred: {pearson_avg_pred[0].round(3)}\")"
   ]
  },
  {
   "cell_type": "code",
   "execution_count": null,
   "metadata": {},
   "outputs": [],
   "source": [
    "# Strategy 1 for y_pred: Get the last valid y_pred indicated by the mask = 1\n",
    "y_pred_last = []\n",
    "for idx, batch in enumerate(fold3_preds['val']['preds'][-1]):\n",
    "    temp_mask_idx = torch.argmin(fold3_preds['val']['mask'][-1][idx].to(torch.int), dim=-1) - 1\n",
    "    temp_mask_idx[temp_mask_idx < 0] = -1\n",
    "    for row in range(len(batch)):\n",
    "        y_pred_last.append(batch[row, temp_mask_idx[row]].item())"
   ]
  },
  {
   "cell_type": "code",
   "execution_count": null,
   "metadata": {},
   "outputs": [
    {
     "name": "stdout",
     "output_type": "stream",
     "text": [
      "Pearson correlation for last pred: 0.798\n"
     ]
    }
   ],
   "source": [
    "pearson_last_pred = pearsonr(y_true, y_pred_last)\n",
    "print (f\"Pearson correlation for last pred: {pearson_last_pred[0].round(3)}\")"
   ]
  }
 ],
 "metadata": {
  "kernelspec": {
   "display_name": "emi",
   "language": "python",
   "name": "python3"
  },
  "language_info": {
   "codemirror_mode": {
    "name": "ipython",
    "version": 3
   },
   "file_extension": ".py",
   "mimetype": "text/x-python",
   "name": "python",
   "nbconvert_exporter": "python",
   "pygments_lexer": "ipython3",
   "version": "3.9.12"
  }
 },
 "nbformat": 4,
 "nbformat_minor": 2
}
